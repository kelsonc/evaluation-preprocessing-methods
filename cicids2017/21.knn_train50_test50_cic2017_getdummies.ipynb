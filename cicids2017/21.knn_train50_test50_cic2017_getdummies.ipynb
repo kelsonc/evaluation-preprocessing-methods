{
 "cells": [
  {
   "cell_type": "code",
   "execution_count": 1,
   "id": "a2d43fbb",
   "metadata": {},
   "outputs": [],
   "source": [
    "import pandas as pd\n",
    "import numpy as np\n",
    "import seaborn as sns\n",
    "import matplotlib.pyplot as plt\n",
    "from sklearn.metrics import accuracy_score, classification_report, ConfusionMatrixDisplay\n",
    "from sklearn.model_selection import cross_val_score, KFold"
   ]
  },
  {
   "cell_type": "markdown",
   "id": "d95361a0",
   "metadata": {},
   "source": [
    "# Carregando as variáveis train e validation do dataset UNSW Train50"
   ]
  },
  {
   "cell_type": "code",
   "execution_count": 2,
   "id": "01ab4926",
   "metadata": {},
   "outputs": [],
   "source": [
    "import pickle"
   ]
  },
  {
   "cell_type": "code",
   "execution_count": 3,
   "id": "6a179f41",
   "metadata": {},
   "outputs": [],
   "source": [
    "with open('df_cic_train50_no_preprocessing_getdummies', mode = 'rb') as f:\n",
    "    X_train50_train, X_train50_test, y_train50_multiclass_train, y_train50_multiclass_test, y_train50_binary_train, y_train50_binary_test = pickle.load(f)"
   ]
  },
  {
   "cell_type": "code",
   "execution_count": 4,
   "id": "21ca93aa",
   "metadata": {},
   "outputs": [
    {
     "name": "stdout",
     "output_type": "stream",
     "text": [
      "X treino =  (990755, 80)\n",
      "X teste =  (424610, 80)\n",
      "y multiclasse treino =  (990755,)\n",
      "y multiclasse teste =  (424610,)\n",
      "y binário treino =  (990755,)\n",
      "y binário teste =  (424610,)\n"
     ]
    }
   ],
   "source": [
    "print('X treino = ', X_train50_train.shape)\n",
    "print('X teste = ', X_train50_test.shape)\n",
    "print('y multiclasse treino = ', y_train50_multiclass_train.shape)\n",
    "print('y multiclasse teste = ', y_train50_multiclass_test.shape)\n",
    "print('y binário treino = ', y_train50_binary_train.shape)\n",
    "print('y binário teste = ', y_train50_binary_test.shape)"
   ]
  },
  {
   "cell_type": "code",
   "execution_count": 5,
   "id": "da0d4806",
   "metadata": {},
   "outputs": [
    {
     "data": {
      "text/plain": [
       "0    795290\n",
       "1    195465\n",
       "Name: Label_binary, dtype: int64"
      ]
     },
     "execution_count": 5,
     "metadata": {},
     "output_type": "execute_result"
    }
   ],
   "source": [
    "y_train50_binary_train.value_counts()"
   ]
  },
  {
   "cell_type": "code",
   "execution_count": 6,
   "id": "b9ab9f4a",
   "metadata": {},
   "outputs": [
    {
     "data": {
      "text/plain": [
       "BENIGN          795290\n",
       "DoS              88338\n",
       "PortScan         55615\n",
       "DDoS             45176\n",
       "BruteForce        4863\n",
       "WebAttack          741\n",
       "BotNet             718\n",
       "Infiltration        11\n",
       "Heartbleed           3\n",
       "Name: Label_multiclass, dtype: int64"
      ]
     },
     "execution_count": 6,
     "metadata": {},
     "output_type": "execute_result"
    }
   ],
   "source": [
    "y_train50_multiclass_train.value_counts()"
   ]
  },
  {
   "cell_type": "code",
   "execution_count": 7,
   "id": "5766c937",
   "metadata": {},
   "outputs": [
    {
     "data": {
      "text/plain": [
       "0    341258\n",
       "1     83352\n",
       "Name: Label_binary, dtype: int64"
      ]
     },
     "execution_count": 7,
     "metadata": {},
     "output_type": "execute_result"
    }
   ],
   "source": [
    "y_train50_binary_test.value_counts()"
   ]
  },
  {
   "cell_type": "code",
   "execution_count": 8,
   "id": "9237bf90",
   "metadata": {},
   "outputs": [
    {
     "data": {
      "text/plain": [
       "BENIGN          341258\n",
       "DoS              37992\n",
       "PortScan         23849\n",
       "DDoS             18837\n",
       "BruteForce        2054\n",
       "WebAttack          348\n",
       "BotNet             264\n",
       "Infiltration         6\n",
       "Heartbleed           2\n",
       "Name: Label_multiclass, dtype: int64"
      ]
     },
     "execution_count": 8,
     "metadata": {},
     "output_type": "execute_result"
    }
   ],
   "source": [
    "y_train50_multiclass_test.value_counts()"
   ]
  },
  {
   "cell_type": "code",
   "execution_count": 9,
   "id": "2e6c14af",
   "metadata": {},
   "outputs": [
    {
     "data": {
      "text/html": [
       "<div>\n",
       "<style scoped>\n",
       "    .dataframe tbody tr th:only-of-type {\n",
       "        vertical-align: middle;\n",
       "    }\n",
       "\n",
       "    .dataframe tbody tr th {\n",
       "        vertical-align: top;\n",
       "    }\n",
       "\n",
       "    .dataframe thead th {\n",
       "        text-align: right;\n",
       "    }\n",
       "</style>\n",
       "<table border=\"1\" class=\"dataframe\">\n",
       "  <thead>\n",
       "    <tr style=\"text-align: right;\">\n",
       "      <th></th>\n",
       "      <th>Flow_Duration</th>\n",
       "      <th>Total_Fwd_Packets</th>\n",
       "      <th>Total_Backward_Packets</th>\n",
       "      <th>Total_Length_of_Fwd_Packets</th>\n",
       "      <th>Total_Length_of_Bwd_Packets</th>\n",
       "      <th>Fwd_Packet_Length_Max</th>\n",
       "      <th>Fwd_Packet_Length_Min</th>\n",
       "      <th>Fwd_Packet_Length_Mean</th>\n",
       "      <th>Fwd_Packet_Length_Std</th>\n",
       "      <th>Bwd_Packet_Length_Max</th>\n",
       "      <th>...</th>\n",
       "      <th>Active_Std</th>\n",
       "      <th>Active_Max</th>\n",
       "      <th>Active_Min</th>\n",
       "      <th>Idle_Mean</th>\n",
       "      <th>Idle_Std</th>\n",
       "      <th>Idle_Max</th>\n",
       "      <th>Idle_Min</th>\n",
       "      <th>Destination_Port_Reserved</th>\n",
       "      <th>Destination_Port_User</th>\n",
       "      <th>Destination_Port_Private</th>\n",
       "    </tr>\n",
       "  </thead>\n",
       "  <tbody>\n",
       "    <tr>\n",
       "      <th>1008718</th>\n",
       "      <td>100866871</td>\n",
       "      <td>10</td>\n",
       "      <td>8</td>\n",
       "      <td>1179</td>\n",
       "      <td>11595</td>\n",
       "      <td>385</td>\n",
       "      <td>0</td>\n",
       "      <td>117.900000</td>\n",
       "      <td>184.335112</td>\n",
       "      <td>5792</td>\n",
       "      <td>...</td>\n",
       "      <td>0.000000e+00</td>\n",
       "      <td>14016</td>\n",
       "      <td>14016</td>\n",
       "      <td>99300000.0</td>\n",
       "      <td>0.000000</td>\n",
       "      <td>99300000</td>\n",
       "      <td>99300000</td>\n",
       "      <td>1</td>\n",
       "      <td>0</td>\n",
       "      <td>0</td>\n",
       "    </tr>\n",
       "    <tr>\n",
       "      <th>1092907</th>\n",
       "      <td>119173647</td>\n",
       "      <td>578</td>\n",
       "      <td>1386</td>\n",
       "      <td>26428</td>\n",
       "      <td>2583295</td>\n",
       "      <td>1678</td>\n",
       "      <td>0</td>\n",
       "      <td>45.723183</td>\n",
       "      <td>237.512016</td>\n",
       "      <td>4388</td>\n",
       "      <td>...</td>\n",
       "      <td>9.433356e+05</td>\n",
       "      <td>1406375</td>\n",
       "      <td>72297</td>\n",
       "      <td>58831928.0</td>\n",
       "      <td>64000.234765</td>\n",
       "      <td>58877183</td>\n",
       "      <td>58786673</td>\n",
       "      <td>1</td>\n",
       "      <td>0</td>\n",
       "      <td>0</td>\n",
       "    </tr>\n",
       "    <tr>\n",
       "      <th>1034897</th>\n",
       "      <td>92349580</td>\n",
       "      <td>13</td>\n",
       "      <td>15</td>\n",
       "      <td>8531</td>\n",
       "      <td>7140</td>\n",
       "      <td>2645</td>\n",
       "      <td>0</td>\n",
       "      <td>656.230769</td>\n",
       "      <td>1136.872109</td>\n",
       "      <td>1460</td>\n",
       "      <td>...</td>\n",
       "      <td>1.502804e+06</td>\n",
       "      <td>2211812</td>\n",
       "      <td>86526</td>\n",
       "      <td>44982377.5</td>\n",
       "      <td>29559.184774</td>\n",
       "      <td>45003279</td>\n",
       "      <td>44961476</td>\n",
       "      <td>1</td>\n",
       "      <td>0</td>\n",
       "      <td>0</td>\n",
       "    </tr>\n",
       "    <tr>\n",
       "      <th>727692</th>\n",
       "      <td>99860659</td>\n",
       "      <td>9</td>\n",
       "      <td>6</td>\n",
       "      <td>310</td>\n",
       "      <td>11595</td>\n",
       "      <td>310</td>\n",
       "      <td>0</td>\n",
       "      <td>34.444444</td>\n",
       "      <td>103.333333</td>\n",
       "      <td>5792</td>\n",
       "      <td>...</td>\n",
       "      <td>0.000000e+00</td>\n",
       "      <td>2179</td>\n",
       "      <td>2179</td>\n",
       "      <td>99800000.0</td>\n",
       "      <td>0.000000</td>\n",
       "      <td>99800000</td>\n",
       "      <td>99800000</td>\n",
       "      <td>1</td>\n",
       "      <td>0</td>\n",
       "      <td>0</td>\n",
       "    </tr>\n",
       "    <tr>\n",
       "      <th>1200733</th>\n",
       "      <td>8035787</td>\n",
       "      <td>5</td>\n",
       "      <td>0</td>\n",
       "      <td>30</td>\n",
       "      <td>0</td>\n",
       "      <td>6</td>\n",
       "      <td>6</td>\n",
       "      <td>6.000000</td>\n",
       "      <td>0.000000</td>\n",
       "      <td>0</td>\n",
       "      <td>...</td>\n",
       "      <td>0.000000e+00</td>\n",
       "      <td>2002</td>\n",
       "      <td>2002</td>\n",
       "      <td>8033785.0</td>\n",
       "      <td>0.000000</td>\n",
       "      <td>8033785</td>\n",
       "      <td>8033785</td>\n",
       "      <td>1</td>\n",
       "      <td>0</td>\n",
       "      <td>0</td>\n",
       "    </tr>\n",
       "  </tbody>\n",
       "</table>\n",
       "<p>5 rows × 80 columns</p>\n",
       "</div>"
      ],
      "text/plain": [
       "         Flow_Duration  Total_Fwd_Packets  Total_Backward_Packets  \\\n",
       "1008718      100866871                 10                       8   \n",
       "1092907      119173647                578                    1386   \n",
       "1034897       92349580                 13                      15   \n",
       "727692        99860659                  9                       6   \n",
       "1200733        8035787                  5                       0   \n",
       "\n",
       "         Total_Length_of_Fwd_Packets  Total_Length_of_Bwd_Packets  \\\n",
       "1008718                         1179                        11595   \n",
       "1092907                        26428                      2583295   \n",
       "1034897                         8531                         7140   \n",
       "727692                           310                        11595   \n",
       "1200733                           30                            0   \n",
       "\n",
       "         Fwd_Packet_Length_Max  Fwd_Packet_Length_Min  Fwd_Packet_Length_Mean  \\\n",
       "1008718                    385                      0              117.900000   \n",
       "1092907                   1678                      0               45.723183   \n",
       "1034897                   2645                      0              656.230769   \n",
       "727692                     310                      0               34.444444   \n",
       "1200733                      6                      6                6.000000   \n",
       "\n",
       "         Fwd_Packet_Length_Std  Bwd_Packet_Length_Max  ...    Active_Std  \\\n",
       "1008718             184.335112                   5792  ...  0.000000e+00   \n",
       "1092907             237.512016                   4388  ...  9.433356e+05   \n",
       "1034897            1136.872109                   1460  ...  1.502804e+06   \n",
       "727692              103.333333                   5792  ...  0.000000e+00   \n",
       "1200733               0.000000                      0  ...  0.000000e+00   \n",
       "\n",
       "         Active_Max  Active_Min   Idle_Mean      Idle_Std  Idle_Max  Idle_Min  \\\n",
       "1008718       14016       14016  99300000.0      0.000000  99300000  99300000   \n",
       "1092907     1406375       72297  58831928.0  64000.234765  58877183  58786673   \n",
       "1034897     2211812       86526  44982377.5  29559.184774  45003279  44961476   \n",
       "727692         2179        2179  99800000.0      0.000000  99800000  99800000   \n",
       "1200733        2002        2002   8033785.0      0.000000   8033785   8033785   \n",
       "\n",
       "         Destination_Port_Reserved  Destination_Port_User  \\\n",
       "1008718                          1                      0   \n",
       "1092907                          1                      0   \n",
       "1034897                          1                      0   \n",
       "727692                           1                      0   \n",
       "1200733                          1                      0   \n",
       "\n",
       "         Destination_Port_Private  \n",
       "1008718                         0  \n",
       "1092907                         0  \n",
       "1034897                         0  \n",
       "727692                          0  \n",
       "1200733                         0  \n",
       "\n",
       "[5 rows x 80 columns]"
      ]
     },
     "execution_count": 9,
     "metadata": {},
     "output_type": "execute_result"
    }
   ],
   "source": [
    "X_train50_train.head()"
   ]
  },
  {
   "cell_type": "code",
   "execution_count": 10,
   "id": "423e1a9b",
   "metadata": {},
   "outputs": [
    {
     "name": "stdout",
     "output_type": "stream",
     "text": [
      "['DoS' 'BENIGN' 'DDoS' 'PortScan' 'BruteForce' 'BotNet' 'WebAttack'\n",
      " 'Infiltration' 'Heartbleed']\n",
      "[1 0]\n"
     ]
    }
   ],
   "source": [
    "print(y_train50_multiclass_train.unique())\n",
    "print(y_train50_binary_train.unique())"
   ]
  },
  {
   "cell_type": "code",
   "execution_count": 11,
   "id": "3259d635",
   "metadata": {},
   "outputs": [
    {
     "name": "stdout",
     "output_type": "stream",
     "text": [
      "<class 'pandas.core.frame.DataFrame'>\n",
      "<class 'pandas.core.series.Series'>\n",
      "<class 'pandas.core.series.Series'>\n",
      "<class 'pandas.core.frame.DataFrame'>\n",
      "<class 'pandas.core.series.Series'>\n",
      "<class 'pandas.core.series.Series'>\n"
     ]
    }
   ],
   "source": [
    "print(type(X_train50_train))\n",
    "print(type(y_train50_multiclass_train))\n",
    "print(type(y_train50_binary_train))\n",
    "print(type(X_train50_test))\n",
    "print(type(y_train50_multiclass_test))\n",
    "print(type(y_train50_binary_test))"
   ]
  },
  {
   "cell_type": "code",
   "execution_count": 12,
   "id": "0d7dc4c4",
   "metadata": {},
   "outputs": [],
   "source": [
    "X_train50_train = X_train50_train.to_numpy()\n",
    "y_train50_multiclass_train = y_train50_multiclass_train.to_numpy()\n",
    "y_train50_binary_train = y_train50_binary_train.to_numpy()\n",
    "X_train50_test = X_train50_test.to_numpy()\n",
    "y_train50_multiclass_test = y_train50_multiclass_test.to_numpy()\n",
    "y_train50_binary_test = y_train50_binary_test.to_numpy()"
   ]
  },
  {
   "cell_type": "code",
   "execution_count": 13,
   "id": "63a68746",
   "metadata": {},
   "outputs": [
    {
     "name": "stdout",
     "output_type": "stream",
     "text": [
      "<class 'numpy.ndarray'>\n",
      "<class 'numpy.ndarray'>\n",
      "<class 'numpy.ndarray'>\n",
      "<class 'numpy.ndarray'>\n",
      "<class 'numpy.ndarray'>\n",
      "<class 'numpy.ndarray'>\n"
     ]
    }
   ],
   "source": [
    "print(type(X_train50_train))\n",
    "print(type(y_train50_multiclass_train))\n",
    "print(type(y_train50_binary_train))\n",
    "print(type(X_train50_test))\n",
    "print(type(y_train50_multiclass_test))\n",
    "print(type(y_train50_binary_test))"
   ]
  },
  {
   "cell_type": "markdown",
   "id": "8c0fbe55",
   "metadata": {},
   "source": [
    "# Carregando as variáveis do dataset UNSW Test50"
   ]
  },
  {
   "cell_type": "code",
   "execution_count": 14,
   "id": "123e9f08",
   "metadata": {},
   "outputs": [],
   "source": [
    "with open('df_cic_test50_no_preprocessing_getdummies', mode = 'rb') as f:\n",
    "    X_test50, y_test50_multiclass, y_test50_binary = pickle.load(f)"
   ]
  },
  {
   "cell_type": "code",
   "execution_count": 15,
   "id": "79f262f0",
   "metadata": {},
   "outputs": [
    {
     "name": "stdout",
     "output_type": "stream",
     "text": [
      "X =  (1415365, 80)\n",
      "y multiclasse =  (1415365,)\n",
      "y binário =  (1415365,)\n"
     ]
    }
   ],
   "source": [
    "print('X = ', X_test50.shape)\n",
    "print('y multiclasse = ', y_test50_multiclass.shape)\n",
    "print('y binário = ', y_test50_binary.shape)"
   ]
  },
  {
   "cell_type": "code",
   "execution_count": 16,
   "id": "b37f9c2f",
   "metadata": {},
   "outputs": [
    {
     "data": {
      "text/plain": [
       "BENIGN          1136548\n",
       "DoS              126330\n",
       "PortScan          79464\n",
       "DDoS              64013\n",
       "BruteForce         6917\n",
       "WebAttack          1089\n",
       "BotNet              982\n",
       "Infiltration         17\n",
       "Heartbleed            5\n",
       "Name: Label_multiclass, dtype: int64"
      ]
     },
     "execution_count": 16,
     "metadata": {},
     "output_type": "execute_result"
    }
   ],
   "source": [
    "y_test50_multiclass.value_counts()"
   ]
  },
  {
   "cell_type": "code",
   "execution_count": 17,
   "id": "a71bff6d",
   "metadata": {},
   "outputs": [
    {
     "data": {
      "text/plain": [
       "0    1136548\n",
       "1     278817\n",
       "Name: Label_binary, dtype: int64"
      ]
     },
     "execution_count": 17,
     "metadata": {},
     "output_type": "execute_result"
    }
   ],
   "source": [
    "y_test50_binary.value_counts()"
   ]
  },
  {
   "cell_type": "code",
   "execution_count": 18,
   "id": "3e8577a6",
   "metadata": {},
   "outputs": [
    {
     "data": {
      "text/html": [
       "<div>\n",
       "<style scoped>\n",
       "    .dataframe tbody tr th:only-of-type {\n",
       "        vertical-align: middle;\n",
       "    }\n",
       "\n",
       "    .dataframe tbody tr th {\n",
       "        vertical-align: top;\n",
       "    }\n",
       "\n",
       "    .dataframe thead th {\n",
       "        text-align: right;\n",
       "    }\n",
       "</style>\n",
       "<table border=\"1\" class=\"dataframe\">\n",
       "  <thead>\n",
       "    <tr style=\"text-align: right;\">\n",
       "      <th></th>\n",
       "      <th>Flow_Duration</th>\n",
       "      <th>Total_Fwd_Packets</th>\n",
       "      <th>Total_Backward_Packets</th>\n",
       "      <th>Total_Length_of_Fwd_Packets</th>\n",
       "      <th>Total_Length_of_Bwd_Packets</th>\n",
       "      <th>Fwd_Packet_Length_Max</th>\n",
       "      <th>Fwd_Packet_Length_Min</th>\n",
       "      <th>Fwd_Packet_Length_Mean</th>\n",
       "      <th>Fwd_Packet_Length_Std</th>\n",
       "      <th>Bwd_Packet_Length_Max</th>\n",
       "      <th>...</th>\n",
       "      <th>Active_Std</th>\n",
       "      <th>Active_Max</th>\n",
       "      <th>Active_Min</th>\n",
       "      <th>Idle_Mean</th>\n",
       "      <th>Idle_Std</th>\n",
       "      <th>Idle_Max</th>\n",
       "      <th>Idle_Min</th>\n",
       "      <th>Destination_Port_Reserved</th>\n",
       "      <th>Destination_Port_User</th>\n",
       "      <th>Destination_Port_Private</th>\n",
       "    </tr>\n",
       "  </thead>\n",
       "  <tbody>\n",
       "    <tr>\n",
       "      <th>0</th>\n",
       "      <td>117058676</td>\n",
       "      <td>23</td>\n",
       "      <td>30</td>\n",
       "      <td>844</td>\n",
       "      <td>27963</td>\n",
       "      <td>211</td>\n",
       "      <td>0</td>\n",
       "      <td>36.695652</td>\n",
       "      <td>66.387591</td>\n",
       "      <td>1904</td>\n",
       "      <td>...</td>\n",
       "      <td>118057.13400</td>\n",
       "      <td>403607</td>\n",
       "      <td>236649</td>\n",
       "      <td>5.810000e+07</td>\n",
       "      <td>1.865256e+05</td>\n",
       "      <td>58200000</td>\n",
       "      <td>58000000</td>\n",
       "      <td>1</td>\n",
       "      <td>0</td>\n",
       "      <td>0</td>\n",
       "    </tr>\n",
       "    <tr>\n",
       "      <th>1</th>\n",
       "      <td>3</td>\n",
       "      <td>2</td>\n",
       "      <td>0</td>\n",
       "      <td>12</td>\n",
       "      <td>0</td>\n",
       "      <td>6</td>\n",
       "      <td>6</td>\n",
       "      <td>6.000000</td>\n",
       "      <td>0.000000</td>\n",
       "      <td>0</td>\n",
       "      <td>...</td>\n",
       "      <td>0.00000</td>\n",
       "      <td>0</td>\n",
       "      <td>0</td>\n",
       "      <td>0.000000e+00</td>\n",
       "      <td>0.000000e+00</td>\n",
       "      <td>0</td>\n",
       "      <td>0</td>\n",
       "      <td>0</td>\n",
       "      <td>0</td>\n",
       "      <td>1</td>\n",
       "    </tr>\n",
       "    <tr>\n",
       "      <th>2</th>\n",
       "      <td>116201868</td>\n",
       "      <td>36</td>\n",
       "      <td>38</td>\n",
       "      <td>2485</td>\n",
       "      <td>39550</td>\n",
       "      <td>517</td>\n",
       "      <td>0</td>\n",
       "      <td>69.027778</td>\n",
       "      <td>150.122328</td>\n",
       "      <td>2897</td>\n",
       "      <td>...</td>\n",
       "      <td>66192.94888</td>\n",
       "      <td>252298</td>\n",
       "      <td>21996</td>\n",
       "      <td>9.641058e+06</td>\n",
       "      <td>1.317185e+06</td>\n",
       "      <td>10000000</td>\n",
       "      <td>5458526</td>\n",
       "      <td>1</td>\n",
       "      <td>0</td>\n",
       "      <td>0</td>\n",
       "    </tr>\n",
       "    <tr>\n",
       "      <th>3</th>\n",
       "      <td>7382149</td>\n",
       "      <td>8</td>\n",
       "      <td>6</td>\n",
       "      <td>56</td>\n",
       "      <td>11607</td>\n",
       "      <td>20</td>\n",
       "      <td>0</td>\n",
       "      <td>7.000000</td>\n",
       "      <td>5.656854</td>\n",
       "      <td>5840</td>\n",
       "      <td>...</td>\n",
       "      <td>0.00000</td>\n",
       "      <td>51900</td>\n",
       "      <td>51900</td>\n",
       "      <td>6.097168e+06</td>\n",
       "      <td>0.000000e+00</td>\n",
       "      <td>6097168</td>\n",
       "      <td>6097168</td>\n",
       "      <td>1</td>\n",
       "      <td>0</td>\n",
       "      <td>0</td>\n",
       "    </tr>\n",
       "    <tr>\n",
       "      <th>4</th>\n",
       "      <td>30795</td>\n",
       "      <td>1</td>\n",
       "      <td>1</td>\n",
       "      <td>77</td>\n",
       "      <td>159</td>\n",
       "      <td>77</td>\n",
       "      <td>77</td>\n",
       "      <td>77.000000</td>\n",
       "      <td>0.000000</td>\n",
       "      <td>159</td>\n",
       "      <td>...</td>\n",
       "      <td>0.00000</td>\n",
       "      <td>0</td>\n",
       "      <td>0</td>\n",
       "      <td>0.000000e+00</td>\n",
       "      <td>0.000000e+00</td>\n",
       "      <td>0</td>\n",
       "      <td>0</td>\n",
       "      <td>1</td>\n",
       "      <td>0</td>\n",
       "      <td>0</td>\n",
       "    </tr>\n",
       "  </tbody>\n",
       "</table>\n",
       "<p>5 rows × 80 columns</p>\n",
       "</div>"
      ],
      "text/plain": [
       "   Flow_Duration  Total_Fwd_Packets  Total_Backward_Packets  \\\n",
       "0      117058676                 23                      30   \n",
       "1              3                  2                       0   \n",
       "2      116201868                 36                      38   \n",
       "3        7382149                  8                       6   \n",
       "4          30795                  1                       1   \n",
       "\n",
       "   Total_Length_of_Fwd_Packets  Total_Length_of_Bwd_Packets  \\\n",
       "0                          844                        27963   \n",
       "1                           12                            0   \n",
       "2                         2485                        39550   \n",
       "3                           56                        11607   \n",
       "4                           77                          159   \n",
       "\n",
       "   Fwd_Packet_Length_Max  Fwd_Packet_Length_Min  Fwd_Packet_Length_Mean  \\\n",
       "0                    211                      0               36.695652   \n",
       "1                      6                      6                6.000000   \n",
       "2                    517                      0               69.027778   \n",
       "3                     20                      0                7.000000   \n",
       "4                     77                     77               77.000000   \n",
       "\n",
       "   Fwd_Packet_Length_Std  Bwd_Packet_Length_Max  ...    Active_Std  \\\n",
       "0              66.387591                   1904  ...  118057.13400   \n",
       "1               0.000000                      0  ...       0.00000   \n",
       "2             150.122328                   2897  ...   66192.94888   \n",
       "3               5.656854                   5840  ...       0.00000   \n",
       "4               0.000000                    159  ...       0.00000   \n",
       "\n",
       "   Active_Max  Active_Min     Idle_Mean      Idle_Std  Idle_Max  Idle_Min  \\\n",
       "0      403607      236649  5.810000e+07  1.865256e+05  58200000  58000000   \n",
       "1           0           0  0.000000e+00  0.000000e+00         0         0   \n",
       "2      252298       21996  9.641058e+06  1.317185e+06  10000000   5458526   \n",
       "3       51900       51900  6.097168e+06  0.000000e+00   6097168   6097168   \n",
       "4           0           0  0.000000e+00  0.000000e+00         0         0   \n",
       "\n",
       "   Destination_Port_Reserved  Destination_Port_User  Destination_Port_Private  \n",
       "0                          1                      0                         0  \n",
       "1                          0                      0                         1  \n",
       "2                          1                      0                         0  \n",
       "3                          1                      0                         0  \n",
       "4                          1                      0                         0  \n",
       "\n",
       "[5 rows x 80 columns]"
      ]
     },
     "execution_count": 18,
     "metadata": {},
     "output_type": "execute_result"
    }
   ],
   "source": [
    "X_test50.head()"
   ]
  },
  {
   "cell_type": "code",
   "execution_count": 19,
   "id": "26b4a879",
   "metadata": {},
   "outputs": [
    {
     "name": "stdout",
     "output_type": "stream",
     "text": [
      "['BENIGN' 'DDoS' 'PortScan' 'DoS' 'BruteForce' 'BotNet' 'WebAttack'\n",
      " 'Infiltration' 'Heartbleed']\n",
      "[0 1]\n"
     ]
    }
   ],
   "source": [
    "print(y_test50_multiclass.unique())\n",
    "print(y_test50_binary.unique())"
   ]
  },
  {
   "cell_type": "code",
   "execution_count": 20,
   "id": "7798f536",
   "metadata": {},
   "outputs": [],
   "source": [
    "#X_test50.shape"
   ]
  },
  {
   "cell_type": "code",
   "execution_count": 21,
   "id": "8ab3c404",
   "metadata": {},
   "outputs": [],
   "source": [
    "# verifica detalhes das variáveis\n",
    "# variáveis nominais: #proto #state #service #ct_ftp_cmd\n",
    "#df_unsw_full.shape\n",
    "#df_unsw_full.describe()\n",
    "#df_unsw_full.dtypes\n",
    "#y_test50_multiclass.value_counts()\n",
    "#np.unique(df_unsw_full['sport'])\n",
    "#len(np.unique(df_unsw_full.ct_ftp_cmd))"
   ]
  },
  {
   "cell_type": "code",
   "execution_count": 22,
   "id": "6bd3afbf",
   "metadata": {},
   "outputs": [
    {
     "name": "stdout",
     "output_type": "stream",
     "text": [
      "<class 'pandas.core.frame.DataFrame'>\n",
      "<class 'pandas.core.series.Series'>\n",
      "<class 'pandas.core.series.Series'>\n"
     ]
    }
   ],
   "source": [
    "print(type(X_test50))\n",
    "print(type(y_test50_multiclass))\n",
    "print(type(y_test50_binary))"
   ]
  },
  {
   "cell_type": "code",
   "execution_count": 23,
   "id": "366ec451",
   "metadata": {},
   "outputs": [],
   "source": [
    "X_test50 = X_test50.to_numpy()\n",
    "y_test50_multiclass = y_test50_multiclass.to_numpy()\n",
    "y_test50_binary = y_test50_binary.to_numpy()"
   ]
  },
  {
   "cell_type": "code",
   "execution_count": 24,
   "id": "0d90bfd5",
   "metadata": {},
   "outputs": [
    {
     "name": "stdout",
     "output_type": "stream",
     "text": [
      "<class 'numpy.ndarray'>\n",
      "<class 'numpy.ndarray'>\n",
      "<class 'numpy.ndarray'>\n"
     ]
    }
   ],
   "source": [
    "print(type(X_test50))\n",
    "print(type(y_test50_multiclass))\n",
    "print(type(y_test50_binary))"
   ]
  },
  {
   "cell_type": "markdown",
   "id": "cec4f107",
   "metadata": {},
   "source": [
    "# Algoritmo kNN para Train e Validation - Train50"
   ]
  },
  {
   "cell_type": "code",
   "execution_count": 25,
   "id": "2751d2da",
   "metadata": {},
   "outputs": [],
   "source": [
    "from sklearn.neighbors import KNeighborsClassifier"
   ]
  },
  {
   "cell_type": "markdown",
   "id": "44403351",
   "metadata": {},
   "source": [
    "### Predição train50 binária"
   ]
  },
  {
   "cell_type": "code",
   "execution_count": 26,
   "id": "713b0151",
   "metadata": {},
   "outputs": [],
   "source": [
    "knn_train50_binary = KNeighborsClassifier(n_neighbors=4, p=2)"
   ]
  },
  {
   "cell_type": "code",
   "execution_count": 27,
   "id": "dc9871f9",
   "metadata": {
    "scrolled": true
   },
   "outputs": [
    {
     "data": {
      "text/html": [
       "<style>#sk-container-id-1 {color: black;background-color: white;}#sk-container-id-1 pre{padding: 0;}#sk-container-id-1 div.sk-toggleable {background-color: white;}#sk-container-id-1 label.sk-toggleable__label {cursor: pointer;display: block;width: 100%;margin-bottom: 0;padding: 0.3em;box-sizing: border-box;text-align: center;}#sk-container-id-1 label.sk-toggleable__label-arrow:before {content: \"▸\";float: left;margin-right: 0.25em;color: #696969;}#sk-container-id-1 label.sk-toggleable__label-arrow:hover:before {color: black;}#sk-container-id-1 div.sk-estimator:hover label.sk-toggleable__label-arrow:before {color: black;}#sk-container-id-1 div.sk-toggleable__content {max-height: 0;max-width: 0;overflow: hidden;text-align: left;background-color: #f0f8ff;}#sk-container-id-1 div.sk-toggleable__content pre {margin: 0.2em;color: black;border-radius: 0.25em;background-color: #f0f8ff;}#sk-container-id-1 input.sk-toggleable__control:checked~div.sk-toggleable__content {max-height: 200px;max-width: 100%;overflow: auto;}#sk-container-id-1 input.sk-toggleable__control:checked~label.sk-toggleable__label-arrow:before {content: \"▾\";}#sk-container-id-1 div.sk-estimator input.sk-toggleable__control:checked~label.sk-toggleable__label {background-color: #d4ebff;}#sk-container-id-1 div.sk-label input.sk-toggleable__control:checked~label.sk-toggleable__label {background-color: #d4ebff;}#sk-container-id-1 input.sk-hidden--visually {border: 0;clip: rect(1px 1px 1px 1px);clip: rect(1px, 1px, 1px, 1px);height: 1px;margin: -1px;overflow: hidden;padding: 0;position: absolute;width: 1px;}#sk-container-id-1 div.sk-estimator {font-family: monospace;background-color: #f0f8ff;border: 1px dotted black;border-radius: 0.25em;box-sizing: border-box;margin-bottom: 0.5em;}#sk-container-id-1 div.sk-estimator:hover {background-color: #d4ebff;}#sk-container-id-1 div.sk-parallel-item::after {content: \"\";width: 100%;border-bottom: 1px solid gray;flex-grow: 1;}#sk-container-id-1 div.sk-label:hover label.sk-toggleable__label {background-color: #d4ebff;}#sk-container-id-1 div.sk-serial::before {content: \"\";position: absolute;border-left: 1px solid gray;box-sizing: border-box;top: 0;bottom: 0;left: 50%;z-index: 0;}#sk-container-id-1 div.sk-serial {display: flex;flex-direction: column;align-items: center;background-color: white;padding-right: 0.2em;padding-left: 0.2em;position: relative;}#sk-container-id-1 div.sk-item {position: relative;z-index: 1;}#sk-container-id-1 div.sk-parallel {display: flex;align-items: stretch;justify-content: center;background-color: white;position: relative;}#sk-container-id-1 div.sk-item::before, #sk-container-id-1 div.sk-parallel-item::before {content: \"\";position: absolute;border-left: 1px solid gray;box-sizing: border-box;top: 0;bottom: 0;left: 50%;z-index: -1;}#sk-container-id-1 div.sk-parallel-item {display: flex;flex-direction: column;z-index: 1;position: relative;background-color: white;}#sk-container-id-1 div.sk-parallel-item:first-child::after {align-self: flex-end;width: 50%;}#sk-container-id-1 div.sk-parallel-item:last-child::after {align-self: flex-start;width: 50%;}#sk-container-id-1 div.sk-parallel-item:only-child::after {width: 0;}#sk-container-id-1 div.sk-dashed-wrapped {border: 1px dashed gray;margin: 0 0.4em 0.5em 0.4em;box-sizing: border-box;padding-bottom: 0.4em;background-color: white;}#sk-container-id-1 div.sk-label label {font-family: monospace;font-weight: bold;display: inline-block;line-height: 1.2em;}#sk-container-id-1 div.sk-label-container {text-align: center;}#sk-container-id-1 div.sk-container {/* jupyter's `normalize.less` sets `[hidden] { display: none; }` but bootstrap.min.css set `[hidden] { display: none !important; }` so we also need the `!important` here to be able to override the default hidden behavior on the sphinx rendered scikit-learn.org. See: https://github.com/scikit-learn/scikit-learn/issues/21755 */display: inline-block !important;position: relative;}#sk-container-id-1 div.sk-text-repr-fallback {display: none;}</style><div id=\"sk-container-id-1\" class=\"sk-top-container\"><div class=\"sk-text-repr-fallback\"><pre>KNeighborsClassifier(n_neighbors=4)</pre><b>In a Jupyter environment, please rerun this cell to show the HTML representation or trust the notebook. <br />On GitHub, the HTML representation is unable to render, please try loading this page with nbviewer.org.</b></div><div class=\"sk-container\" hidden><div class=\"sk-item\"><div class=\"sk-estimator sk-toggleable\"><input class=\"sk-toggleable__control sk-hidden--visually\" id=\"sk-estimator-id-1\" type=\"checkbox\" checked><label for=\"sk-estimator-id-1\" class=\"sk-toggleable__label sk-toggleable__label-arrow\">KNeighborsClassifier</label><div class=\"sk-toggleable__content\"><pre>KNeighborsClassifier(n_neighbors=4)</pre></div></div></div></div></div>"
      ],
      "text/plain": [
       "KNeighborsClassifier(n_neighbors=4)"
      ]
     },
     "execution_count": 27,
     "metadata": {},
     "output_type": "execute_result"
    }
   ],
   "source": [
    "knn_train50_binary.fit(X_train50_train, y_train50_binary_train)"
   ]
  },
  {
   "cell_type": "code",
   "execution_count": 28,
   "id": "f1c36860",
   "metadata": {},
   "outputs": [],
   "source": [
    "predict_train50_binary = knn_train50_binary.predict(X_train50_test)"
   ]
  },
  {
   "cell_type": "code",
   "execution_count": 29,
   "id": "fb5f62ea",
   "metadata": {},
   "outputs": [
    {
     "data": {
      "text/plain": [
       "array([0, 0, 0, ..., 0, 0, 0])"
      ]
     },
     "execution_count": 29,
     "metadata": {},
     "output_type": "execute_result"
    }
   ],
   "source": [
    "predict_train50_binary"
   ]
  },
  {
   "cell_type": "code",
   "execution_count": 30,
   "id": "a5056301",
   "metadata": {},
   "outputs": [
    {
     "data": {
      "text/plain": [
       "array([0, 0, 0, ..., 0, 0, 0])"
      ]
     },
     "execution_count": 30,
     "metadata": {},
     "output_type": "execute_result"
    }
   ],
   "source": [
    "y_train50_binary_test"
   ]
  },
  {
   "cell_type": "code",
   "execution_count": 31,
   "id": "b5a418e6",
   "metadata": {},
   "outputs": [
    {
     "data": {
      "text/plain": [
       "0.9964061138456466"
      ]
     },
     "execution_count": 31,
     "metadata": {},
     "output_type": "execute_result"
    }
   ],
   "source": [
    "accuracy_score(y_train50_binary_test, predict_train50_binary)"
   ]
  },
  {
   "cell_type": "markdown",
   "id": "5897d5ae",
   "metadata": {},
   "source": [
    "### Visualização da árvore binária"
   ]
  },
  {
   "cell_type": "code",
   "execution_count": 32,
   "id": "e5884856",
   "metadata": {},
   "outputs": [],
   "source": [
    "#from sklearn import tree\n",
    "#from dtreeviz.trees import dtreeviz\n",
    "#from matplotlib import pyplot as plt\n",
    "#plt.rcParams.update({'figure.figsize': (12.0, 8.0)})\n",
    "#plt.rcParams.update({'font.size': 14})"
   ]
  },
  {
   "cell_type": "code",
   "execution_count": 33,
   "id": "e84da5e2",
   "metadata": {},
   "outputs": [],
   "source": [
    "#plt.figure(figsize=(20,10))\n",
    "#grafic = tree.plot_tree(xgb_train50_binary.estimators_[0], feature_names=X_train50_train.columns, filled=True)"
   ]
  },
  {
   "cell_type": "code",
   "execution_count": 34,
   "id": "18bfca14",
   "metadata": {},
   "outputs": [],
   "source": [
    "#viz = dtreeviz(xgb_train50_binary.estimators_[0], X_train50_train, y_train50_binary_train, feature_names=X_train50_train.columns, target_name='Label_binary')\n",
    "#viz"
   ]
  },
  {
   "cell_type": "code",
   "execution_count": 35,
   "id": "1e2d6b5a",
   "metadata": {},
   "outputs": [],
   "source": [
    "#fig, ax = plt.subplots(figsize=(20,30))\n",
    "#lgb.plot_importance(lgb_train50_binary, ax=ax)"
   ]
  },
  {
   "cell_type": "markdown",
   "id": "d4bde7aa",
   "metadata": {},
   "source": [
    "### Predição train50 multiclasse"
   ]
  },
  {
   "cell_type": "code",
   "execution_count": 36,
   "id": "e5492c95",
   "metadata": {},
   "outputs": [],
   "source": [
    "knn_train50_multiclass =  KNeighborsClassifier(n_neighbors=4, p=2)"
   ]
  },
  {
   "cell_type": "code",
   "execution_count": 37,
   "id": "627b6e2e",
   "metadata": {},
   "outputs": [
    {
     "data": {
      "text/html": [
       "<style>#sk-container-id-2 {color: black;background-color: white;}#sk-container-id-2 pre{padding: 0;}#sk-container-id-2 div.sk-toggleable {background-color: white;}#sk-container-id-2 label.sk-toggleable__label {cursor: pointer;display: block;width: 100%;margin-bottom: 0;padding: 0.3em;box-sizing: border-box;text-align: center;}#sk-container-id-2 label.sk-toggleable__label-arrow:before {content: \"▸\";float: left;margin-right: 0.25em;color: #696969;}#sk-container-id-2 label.sk-toggleable__label-arrow:hover:before {color: black;}#sk-container-id-2 div.sk-estimator:hover label.sk-toggleable__label-arrow:before {color: black;}#sk-container-id-2 div.sk-toggleable__content {max-height: 0;max-width: 0;overflow: hidden;text-align: left;background-color: #f0f8ff;}#sk-container-id-2 div.sk-toggleable__content pre {margin: 0.2em;color: black;border-radius: 0.25em;background-color: #f0f8ff;}#sk-container-id-2 input.sk-toggleable__control:checked~div.sk-toggleable__content {max-height: 200px;max-width: 100%;overflow: auto;}#sk-container-id-2 input.sk-toggleable__control:checked~label.sk-toggleable__label-arrow:before {content: \"▾\";}#sk-container-id-2 div.sk-estimator input.sk-toggleable__control:checked~label.sk-toggleable__label {background-color: #d4ebff;}#sk-container-id-2 div.sk-label input.sk-toggleable__control:checked~label.sk-toggleable__label {background-color: #d4ebff;}#sk-container-id-2 input.sk-hidden--visually {border: 0;clip: rect(1px 1px 1px 1px);clip: rect(1px, 1px, 1px, 1px);height: 1px;margin: -1px;overflow: hidden;padding: 0;position: absolute;width: 1px;}#sk-container-id-2 div.sk-estimator {font-family: monospace;background-color: #f0f8ff;border: 1px dotted black;border-radius: 0.25em;box-sizing: border-box;margin-bottom: 0.5em;}#sk-container-id-2 div.sk-estimator:hover {background-color: #d4ebff;}#sk-container-id-2 div.sk-parallel-item::after {content: \"\";width: 100%;border-bottom: 1px solid gray;flex-grow: 1;}#sk-container-id-2 div.sk-label:hover label.sk-toggleable__label {background-color: #d4ebff;}#sk-container-id-2 div.sk-serial::before {content: \"\";position: absolute;border-left: 1px solid gray;box-sizing: border-box;top: 0;bottom: 0;left: 50%;z-index: 0;}#sk-container-id-2 div.sk-serial {display: flex;flex-direction: column;align-items: center;background-color: white;padding-right: 0.2em;padding-left: 0.2em;position: relative;}#sk-container-id-2 div.sk-item {position: relative;z-index: 1;}#sk-container-id-2 div.sk-parallel {display: flex;align-items: stretch;justify-content: center;background-color: white;position: relative;}#sk-container-id-2 div.sk-item::before, #sk-container-id-2 div.sk-parallel-item::before {content: \"\";position: absolute;border-left: 1px solid gray;box-sizing: border-box;top: 0;bottom: 0;left: 50%;z-index: -1;}#sk-container-id-2 div.sk-parallel-item {display: flex;flex-direction: column;z-index: 1;position: relative;background-color: white;}#sk-container-id-2 div.sk-parallel-item:first-child::after {align-self: flex-end;width: 50%;}#sk-container-id-2 div.sk-parallel-item:last-child::after {align-self: flex-start;width: 50%;}#sk-container-id-2 div.sk-parallel-item:only-child::after {width: 0;}#sk-container-id-2 div.sk-dashed-wrapped {border: 1px dashed gray;margin: 0 0.4em 0.5em 0.4em;box-sizing: border-box;padding-bottom: 0.4em;background-color: white;}#sk-container-id-2 div.sk-label label {font-family: monospace;font-weight: bold;display: inline-block;line-height: 1.2em;}#sk-container-id-2 div.sk-label-container {text-align: center;}#sk-container-id-2 div.sk-container {/* jupyter's `normalize.less` sets `[hidden] { display: none; }` but bootstrap.min.css set `[hidden] { display: none !important; }` so we also need the `!important` here to be able to override the default hidden behavior on the sphinx rendered scikit-learn.org. See: https://github.com/scikit-learn/scikit-learn/issues/21755 */display: inline-block !important;position: relative;}#sk-container-id-2 div.sk-text-repr-fallback {display: none;}</style><div id=\"sk-container-id-2\" class=\"sk-top-container\"><div class=\"sk-text-repr-fallback\"><pre>KNeighborsClassifier(n_neighbors=4)</pre><b>In a Jupyter environment, please rerun this cell to show the HTML representation or trust the notebook. <br />On GitHub, the HTML representation is unable to render, please try loading this page with nbviewer.org.</b></div><div class=\"sk-container\" hidden><div class=\"sk-item\"><div class=\"sk-estimator sk-toggleable\"><input class=\"sk-toggleable__control sk-hidden--visually\" id=\"sk-estimator-id-2\" type=\"checkbox\" checked><label for=\"sk-estimator-id-2\" class=\"sk-toggleable__label sk-toggleable__label-arrow\">KNeighborsClassifier</label><div class=\"sk-toggleable__content\"><pre>KNeighborsClassifier(n_neighbors=4)</pre></div></div></div></div></div>"
      ],
      "text/plain": [
       "KNeighborsClassifier(n_neighbors=4)"
      ]
     },
     "execution_count": 37,
     "metadata": {},
     "output_type": "execute_result"
    }
   ],
   "source": [
    "knn_train50_multiclass.fit(X_train50_train, y_train50_multiclass_train)"
   ]
  },
  {
   "cell_type": "code",
   "execution_count": 38,
   "id": "48d25f13",
   "metadata": {},
   "outputs": [],
   "source": [
    "predict_train50_multiclass = knn_train50_multiclass.predict(X_train50_test)"
   ]
  },
  {
   "cell_type": "code",
   "execution_count": 39,
   "id": "efbfa9a7",
   "metadata": {},
   "outputs": [
    {
     "data": {
      "text/plain": [
       "array(['BENIGN', 'BENIGN', 'BENIGN', ..., 'BENIGN', 'BENIGN', 'BENIGN'],\n",
       "      dtype=object)"
      ]
     },
     "execution_count": 39,
     "metadata": {},
     "output_type": "execute_result"
    }
   ],
   "source": [
    "predict_train50_multiclass"
   ]
  },
  {
   "cell_type": "code",
   "execution_count": 40,
   "id": "4dd0609a",
   "metadata": {},
   "outputs": [
    {
     "data": {
      "text/plain": [
       "array(['BENIGN', 'BENIGN', 'BENIGN', ..., 'BENIGN', 'BENIGN', 'BENIGN'],\n",
       "      dtype=object)"
      ]
     },
     "execution_count": 40,
     "metadata": {},
     "output_type": "execute_result"
    }
   ],
   "source": [
    "y_train50_multiclass_test"
   ]
  },
  {
   "cell_type": "code",
   "execution_count": 41,
   "id": "b2f48d7a",
   "metadata": {},
   "outputs": [
    {
     "data": {
      "text/plain": [
       "0.9959798403240621"
      ]
     },
     "execution_count": 41,
     "metadata": {},
     "output_type": "execute_result"
    }
   ],
   "source": [
    "accuracy_score(y_train50_multiclass_test, predict_train50_multiclass)"
   ]
  },
  {
   "cell_type": "markdown",
   "id": "8255b657",
   "metadata": {},
   "source": [
    "### Visualização da árvore multiclasse"
   ]
  },
  {
   "cell_type": "code",
   "execution_count": 42,
   "id": "ba2a09b7",
   "metadata": {},
   "outputs": [],
   "source": [
    "#plt.figure(figsize=(20,10))\n",
    "#grafic = tree.plot_tree(xgb_train50_multiclass.estimators_[0], feature_names=X_train50_train.columns, filled=True)"
   ]
  },
  {
   "cell_type": "code",
   "execution_count": 43,
   "id": "472266e5",
   "metadata": {},
   "outputs": [],
   "source": [
    "#viz = dtreeviz(xgb_train50_multiclass.estimators_[0], X_train50_train, y_train50_multiclass_train, feature_names=X_train50_train.columns, target_name='Label_multiclass')\n",
    "#viz"
   ]
  },
  {
   "cell_type": "code",
   "execution_count": 44,
   "id": "6a9f3d24",
   "metadata": {},
   "outputs": [],
   "source": [
    "#fig, ax = plt.subplots(figsize=(20,30))\n",
    "#lgb.plot_importance(lgb_train50_binary, ax=ax)"
   ]
  },
  {
   "cell_type": "code",
   "execution_count": 45,
   "id": "7c021c57",
   "metadata": {},
   "outputs": [],
   "source": [
    "#lgb.plot_tree(lgb_train50_binary, figsize=(20,6), tree_index=0, dpi=100)"
   ]
  },
  {
   "cell_type": "markdown",
   "id": "29959171",
   "metadata": {},
   "source": [
    "### Precision e Recall do train50"
   ]
  },
  {
   "cell_type": "code",
   "execution_count": 46,
   "id": "7807a825",
   "metadata": {
    "scrolled": true
   },
   "outputs": [
    {
     "name": "stdout",
     "output_type": "stream",
     "text": [
      "              precision    recall  f1-score   support\n",
      "\n",
      "           0   0.997785  0.997744  0.997764    341258\n",
      "           1   0.990764  0.990930  0.990847     83352\n",
      "\n",
      "    accuracy                       0.996406    424610\n",
      "   macro avg   0.994274  0.994337  0.994305    424610\n",
      "weighted avg   0.996406  0.996406  0.996406    424610\n",
      "\n"
     ]
    }
   ],
   "source": [
    "print(classification_report(y_train50_binary_test, predict_train50_binary, digits=6, zero_division=1))"
   ]
  },
  {
   "cell_type": "code",
   "execution_count": 47,
   "id": "2776113a",
   "metadata": {},
   "outputs": [
    {
     "name": "stdout",
     "output_type": "stream",
     "text": [
      "              precision    recall  f1-score   support\n",
      "\n",
      "      BENIGN   0.997785  0.997744  0.997764    341258\n",
      "      BotNet   0.840000  0.715909  0.773006       264\n",
      "  BruteForce   0.996553  0.985394  0.990942      2054\n",
      "        DDoS   0.983882  0.991612  0.987732     18837\n",
      "         DoS   0.985765  0.984286  0.985025     37992\n",
      "  Heartbleed   1.000000  0.500000  0.666667         2\n",
      "Infiltration   1.000000  0.000000  0.000000         6\n",
      "    PortScan   0.997738  0.998826  0.998282     23849\n",
      "   WebAttack   0.974522  0.879310  0.924471       348\n",
      "\n",
      "    accuracy                       0.995980    424610\n",
      "   macro avg   0.975138  0.783676  0.813766    424610\n",
      "weighted avg   0.995967  0.995980  0.995960    424610\n",
      "\n"
     ]
    }
   ],
   "source": [
    "print(classification_report(y_train50_multiclass_test, predict_train50_multiclass, digits=6, zero_division=1))"
   ]
  },
  {
   "cell_type": "markdown",
   "id": "a5d9281b",
   "metadata": {},
   "source": [
    "### Cross Validation do train50"
   ]
  },
  {
   "cell_type": "code",
   "execution_count": 48,
   "id": "410f9696",
   "metadata": {},
   "outputs": [],
   "source": [
    "# cross validation binary\n",
    "cv_result_train50_binary = []\n",
    "kfold = KFold(n_splits=10, shuffle=True, random_state=42)   \n",
    "score_cv_train50_binary = cross_val_score(knn_train50_binary, X_train50_train, y_train50_binary_train, cv=kfold)\n",
    "cv_result_train50_binary.append(score_cv_train50_binary.mean())"
   ]
  },
  {
   "cell_type": "code",
   "execution_count": 49,
   "id": "52d69849",
   "metadata": {},
   "outputs": [
    {
     "data": {
      "text/plain": [
       "array([0.99628568, 0.99599298, 0.99622512, 0.99628568, 0.99645727,\n",
       "       0.99622508, 0.99627555, 0.99609387, 0.99623518, 0.99641686])"
      ]
     },
     "execution_count": 49,
     "metadata": {},
     "output_type": "execute_result"
    }
   ],
   "source": [
    "score_cv_train50_binary"
   ]
  },
  {
   "cell_type": "code",
   "execution_count": 50,
   "id": "935293fc",
   "metadata": {},
   "outputs": [
    {
     "data": {
      "text/plain": [
       "[0.9962493250096193]"
      ]
     },
     "execution_count": 50,
     "metadata": {},
     "output_type": "execute_result"
    }
   ],
   "source": [
    "cv_result_train50_binary"
   ]
  },
  {
   "cell_type": "code",
   "execution_count": 51,
   "id": "6fa4062b",
   "metadata": {},
   "outputs": [],
   "source": [
    "# cross validation multiclass\n",
    "cv_result_train50_multiclass = []\n",
    "kfold = KFold(n_splits=10, shuffle=True, random_state=42)   \n",
    "score_cv_train50_multiclass = cross_val_score(knn_train50_multiclass, X_train50_train, y_train50_multiclass_train, cv=kfold)\n",
    "cv_result_train50_multiclass.append(score_cv_train50_multiclass.mean())"
   ]
  },
  {
   "cell_type": "code",
   "execution_count": 52,
   "id": "400c5a76",
   "metadata": {},
   "outputs": [
    {
     "data": {
      "text/plain": [
       "array([0.99582139, 0.99563971, 0.99557915, 0.9958113 , 0.99612419,\n",
       "       0.99577088, 0.99584153, 0.9954378 , 0.99584153, 0.99606359])"
      ]
     },
     "execution_count": 52,
     "metadata": {},
     "output_type": "execute_result"
    }
   ],
   "source": [
    "score_cv_train50_multiclass"
   ]
  },
  {
   "cell_type": "code",
   "execution_count": 53,
   "id": "d71e41b2",
   "metadata": {},
   "outputs": [
    {
     "data": {
      "text/plain": [
       "[0.9957931072664792]"
      ]
     },
     "execution_count": 53,
     "metadata": {},
     "output_type": "execute_result"
    }
   ],
   "source": [
    "cv_result_train50_multiclass"
   ]
  },
  {
   "cell_type": "markdown",
   "id": "af9bee6b",
   "metadata": {},
   "source": [
    "### Matriz de Confusão do train50"
   ]
  },
  {
   "cell_type": "code",
   "execution_count": 54,
   "id": "8b73140a",
   "metadata": {},
   "outputs": [
    {
     "data": {
      "image/png": "[encoded data removed]",
      "text/plain": [
       "<Figure size 432x288 with 2 Axes>"
      ]
     },
     "metadata": {
      "needs_background": "light"
     },
     "output_type": "display_data"
    }
   ],
   "source": [
    "ConfusionMatrixDisplay.from_estimator(knn_train50_binary, X_train50_test, y_train50_binary_test)\n",
    "plt.show()"
   ]
  },
  {
   "cell_type": "code",
   "execution_count": 55,
   "id": "d29aaf69",
   "metadata": {},
   "outputs": [
    {
     "data": {
      "text/plain": [
       "<sklearn.metrics._plot.confusion_matrix.ConfusionMatrixDisplay at 0x7fded5683c70>"
      ]
     },
     "execution_count": 55,
     "metadata": {},
     "output_type": "execute_result"
    },
    {
     "data": {
      "image/png": "[encoded data removed]",
      "text/plain": [
       "<Figure size 432x288 with 2 Axes>"
      ]
     },
     "metadata": {
      "needs_background": "light"
     },
     "output_type": "display_data"
    },
    {
     "data": {
      "image/png": "[encoded data removed]",
      "text/plain": [
       "<Figure size 1080x1080 with 2 Axes>"
      ]
     },
     "metadata": {
      "needs_background": "light"
     },
     "output_type": "display_data"
    }
   ],
   "source": [
    "#ConfusionMatrixDisplay.from_estimator(xgb_train50_multiclass, X_train50_test, y_train50_multiclass_test)\n",
    "#plt.show()\n",
    "\n",
    "cm_knn_multiclass_train = ConfusionMatrixDisplay.from_estimator(knn_train50_multiclass, X_train50_test, y_train50_multiclass_test)\n",
    "fig, ax = plt.subplots(figsize=(15,15))\n",
    "cm_knn_multiclass_train.plot(ax=ax)"
   ]
  },
  {
   "cell_type": "markdown",
   "id": "6e45eae7",
   "metadata": {},
   "source": [
    "# Algoritmo kNN para Test50"
   ]
  },
  {
   "cell_type": "markdown",
   "id": "cb8a0c45",
   "metadata": {},
   "source": [
    "### Predição Test50 binária"
   ]
  },
  {
   "cell_type": "code",
   "execution_count": 56,
   "id": "1f463d60",
   "metadata": {},
   "outputs": [],
   "source": [
    "predict_test50_binary = knn_train50_binary.predict(X_test50)"
   ]
  },
  {
   "cell_type": "code",
   "execution_count": 57,
   "id": "a77277a4",
   "metadata": {},
   "outputs": [
    {
     "data": {
      "text/plain": [
       "array([0, 0, 0, ..., 0, 0, 0])"
      ]
     },
     "execution_count": 57,
     "metadata": {},
     "output_type": "execute_result"
    }
   ],
   "source": [
    "predict_test50_binary"
   ]
  },
  {
   "cell_type": "code",
   "execution_count": 58,
   "id": "53f937cd",
   "metadata": {},
   "outputs": [
    {
     "data": {
      "text/plain": [
       "array([0, 0, 0, ..., 0, 0, 0])"
      ]
     },
     "execution_count": 58,
     "metadata": {},
     "output_type": "execute_result"
    }
   ],
   "source": [
    "y_test50_binary"
   ]
  },
  {
   "cell_type": "code",
   "execution_count": 59,
   "id": "879d6fab",
   "metadata": {},
   "outputs": [
    {
     "data": {
      "text/plain": [
       "0.9973413218498408"
      ]
     },
     "execution_count": 59,
     "metadata": {},
     "output_type": "execute_result"
    }
   ],
   "source": [
    "accuracy_score(y_test50_binary, predict_test50_binary)"
   ]
  },
  {
   "cell_type": "markdown",
   "id": "141ed59f",
   "metadata": {},
   "source": [
    "### Predição test50 multiclasse"
   ]
  },
  {
   "cell_type": "code",
   "execution_count": 60,
   "id": "be8e439a",
   "metadata": {},
   "outputs": [],
   "source": [
    "predict_test50_multiclass = knn_train50_multiclass.predict(X_test50)"
   ]
  },
  {
   "cell_type": "code",
   "execution_count": 61,
   "id": "66942066",
   "metadata": {},
   "outputs": [
    {
     "data": {
      "text/plain": [
       "array(['BENIGN', 'BENIGN', 'BENIGN', ..., 'BENIGN', 'BENIGN', 'BENIGN'],\n",
       "      dtype=object)"
      ]
     },
     "execution_count": 61,
     "metadata": {},
     "output_type": "execute_result"
    }
   ],
   "source": [
    "predict_test50_multiclass"
   ]
  },
  {
   "cell_type": "code",
   "execution_count": 62,
   "id": "947cff00",
   "metadata": {},
   "outputs": [
    {
     "data": {
      "text/plain": [
       "array(['BENIGN', 'BENIGN', 'BENIGN', ..., 'BENIGN', 'BENIGN', 'BENIGN'],\n",
       "      dtype=object)"
      ]
     },
     "execution_count": 62,
     "metadata": {},
     "output_type": "execute_result"
    }
   ],
   "source": [
    "y_test50_multiclass"
   ]
  },
  {
   "cell_type": "code",
   "execution_count": 63,
   "id": "6846f901",
   "metadata": {},
   "outputs": [
    {
     "data": {
      "text/plain": [
       "0.9970276218501941"
      ]
     },
     "execution_count": 63,
     "metadata": {},
     "output_type": "execute_result"
    }
   ],
   "source": [
    "accuracy_score(y_test50_multiclass, predict_test50_multiclass)"
   ]
  },
  {
   "cell_type": "markdown",
   "id": "1779a29a",
   "metadata": {},
   "source": [
    "### Precision e Recall do test50"
   ]
  },
  {
   "cell_type": "code",
   "execution_count": 64,
   "id": "53f198b5",
   "metadata": {
    "scrolled": true
   },
   "outputs": [
    {
     "name": "stdout",
     "output_type": "stream",
     "text": [
      "              precision    recall  f1-score   support\n",
      "\n",
      "           0   0.998306  0.998383  0.998345   1136548\n",
      "           1   0.993406  0.993096  0.993251    278817\n",
      "\n",
      "    accuracy                       0.997341   1415365\n",
      "   macro avg   0.995856  0.995739  0.995798   1415365\n",
      "weighted avg   0.997341  0.997341  0.997341   1415365\n",
      "\n"
     ]
    }
   ],
   "source": [
    "print(classification_report(y_test50_binary, predict_test50_binary, digits=6, zero_division=1))"
   ]
  },
  {
   "cell_type": "code",
   "execution_count": 65,
   "id": "2b76b89a",
   "metadata": {},
   "outputs": [
    {
     "name": "stdout",
     "output_type": "stream",
     "text": [
      "              precision    recall  f1-score   support\n",
      "\n",
      "      BENIGN   0.998306  0.998383  0.998345   1136548\n",
      "      BotNet   0.893413  0.759674  0.821134       982\n",
      "  BruteForce   0.997962  0.991037  0.994487      6917\n",
      "        DDoS   0.988487  0.993907  0.991190     64013\n",
      "         DoS   0.989522  0.988293  0.988907    126330\n",
      "  Heartbleed   1.000000  0.800000  0.888889         5\n",
      "Infiltration   1.000000  0.000000  0.000000        17\n",
      "    PortScan   0.998717  0.999132  0.998924     79464\n",
      "   WebAttack   0.985830  0.894399  0.937891      1089\n",
      "\n",
      "    accuracy                       0.997028   1415365\n",
      "   macro avg   0.983582  0.824980  0.846641   1415365\n",
      "weighted avg   0.997017  0.997028  0.997011   1415365\n",
      "\n"
     ]
    }
   ],
   "source": [
    "print(classification_report(y_test50_multiclass, predict_test50_multiclass, digits=6, zero_division=1))"
   ]
  },
  {
   "cell_type": "markdown",
   "id": "8298ab40",
   "metadata": {},
   "source": [
    "### Matriz de Confusão do test50"
   ]
  },
  {
   "cell_type": "code",
   "execution_count": 66,
   "id": "da968c72",
   "metadata": {},
   "outputs": [
    {
     "data": {
      "image/png": "[encoded data removed]",
      "text/plain": [
       "<Figure size 432x288 with 2 Axes>"
      ]
     },
     "metadata": {
      "needs_background": "light"
     },
     "output_type": "display_data"
    }
   ],
   "source": [
    "ConfusionMatrixDisplay.from_estimator(knn_train50_binary, X_test50, y_test50_binary)\n",
    "plt.show()"
   ]
  },
  {
   "cell_type": "code",
   "execution_count": 67,
   "id": "9635949a",
   "metadata": {},
   "outputs": [
    {
     "data": {
      "text/plain": [
       "<sklearn.metrics._plot.confusion_matrix.ConfusionMatrixDisplay at 0x7fded36a0880>"
      ]
     },
     "execution_count": 67,
     "metadata": {},
     "output_type": "execute_result"
    },
    {
     "data": {
      "image/png": "[encoded data removed]",
      "text/plain": [
       "<Figure size 432x288 with 2 Axes>"
      ]
     },
     "metadata": {
      "needs_background": "light"
     },
     "output_type": "display_data"
    },
    {
     "data": {
      "image/png": "[encoded data removed]",
      "text/plain": [
       "<Figure size 1080x1080 with 2 Axes>"
      ]
     },
     "metadata": {
      "needs_background": "light"
     },
     "output_type": "display_data"
    }
   ],
   "source": [
    "#ConfusionMatrixDisplay.from_estimator(xgb_train50_multiclass, X_test50, y_test50_multiclass)\n",
    "#plt.show()\n",
    "\n",
    "cm_knn_multiclass_train = ConfusionMatrixDisplay.from_estimator(knn_train50_multiclass, X_test50, y_test50_multiclass)\n",
    "fig, ax = plt.subplots(figsize=(15,15))\n",
    "cm_knn_multiclass_train.plot(ax=ax)"
   ]
  }
 ],
 "metadata": {
  "kernelspec": {
   "display_name": "Python 3 (ipykernel)",
   "language": "python",
   "name": "python3"
  },
  "language_info": {
   "codemirror_mode": {
    "name": "ipython",
    "version": 3
   },
   "file_extension": ".py",
   "mimetype": "text/x-python",
   "name": "python",
   "nbconvert_exporter": "python",
   "pygments_lexer": "ipython3",
   "version": "3.8.10"
  }
 },
 "nbformat": 4,
 "nbformat_minor": 5
}
