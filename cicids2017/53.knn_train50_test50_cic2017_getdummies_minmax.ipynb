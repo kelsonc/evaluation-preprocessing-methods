{
 "cells": [
  {
   "cell_type": "code",
   "execution_count": 1,
   "id": "a2d43fbb",
   "metadata": {},
   "outputs": [],
   "source": [
    "import pandas as pd\n",
    "import numpy as np\n",
    "import seaborn as sns\n",
    "import matplotlib.pyplot as plt\n",
    "from sklearn.metrics import accuracy_score, classification_report, ConfusionMatrixDisplay\n",
    "from sklearn.model_selection import cross_val_score, KFold"
   ]
  },
  {
   "cell_type": "markdown",
   "id": "d95361a0",
   "metadata": {},
   "source": [
    "# Carregando as variáveis train e validation do dataset CIC Train50"
   ]
  },
  {
   "cell_type": "code",
   "execution_count": 2,
   "id": "01ab4926",
   "metadata": {},
   "outputs": [],
   "source": [
    "import pickle"
   ]
  },
  {
   "cell_type": "code",
   "execution_count": 3,
   "id": "6a179f41",
   "metadata": {},
   "outputs": [],
   "source": [
    "with open('df_cic_train50_with_preprocessing_getdummies_minmax', mode = 'rb') as f:\n",
    "    X_train50_train, X_train50_test, y_train50_multiclass_train, y_train50_multiclass_test, y_train50_binary_train, y_train50_binary_test = pickle.load(f)"
   ]
  },
  {
   "cell_type": "code",
   "execution_count": 4,
   "id": "21ca93aa",
   "metadata": {},
   "outputs": [
    {
     "name": "stdout",
     "output_type": "stream",
     "text": [
      "X treino =  (990755, 80)\n",
      "X teste =  (424610, 80)\n",
      "y multiclasse treino =  (990755,)\n",
      "y multiclasse teste =  (424610,)\n",
      "y binário treino =  (990755,)\n",
      "y binário teste =  (424610,)\n"
     ]
    }
   ],
   "source": [
    "print('X treino = ', X_train50_train.shape)\n",
    "print('X teste = ', X_train50_test.shape)\n",
    "print('y multiclasse treino = ', y_train50_multiclass_train.shape)\n",
    "print('y multiclasse teste = ', y_train50_multiclass_test.shape)\n",
    "print('y binário treino = ', y_train50_binary_train.shape)\n",
    "print('y binário teste = ', y_train50_binary_test.shape)"
   ]
  },
  {
   "cell_type": "code",
   "execution_count": 5,
   "id": "1d8e3a84",
   "metadata": {},
   "outputs": [
    {
     "data": {
      "text/plain": [
       "array([[4.45000063e-04, 4.55046005e-06, 6.85114517e-06, ...,\n",
       "        1.00000000e+00, 0.00000000e+00, 0.00000000e+00],\n",
       "       [3.94183389e-04, 9.10092010e-06, 1.37022903e-05, ...,\n",
       "        1.00000000e+00, 0.00000000e+00, 0.00000000e+00],\n",
       "       [8.18057941e-01, 2.27523003e-05, 2.39790081e-05, ...,\n",
       "        1.00000000e+00, 0.00000000e+00, 0.00000000e+00],\n",
       "       ...,\n",
       "       [1.08977515e-03, 0.00000000e+00, 3.42557258e-06, ...,\n",
       "        1.00000000e+00, 0.00000000e+00, 0.00000000e+00],\n",
       "       [4.05141724e-04, 4.55046005e-06, 6.85114517e-06, ...,\n",
       "        1.00000000e+00, 0.00000000e+00, 0.00000000e+00],\n",
       "       [1.66666690e-06, 4.55046005e-06, 6.85114517e-06, ...,\n",
       "        1.00000000e+00, 0.00000000e+00, 0.00000000e+00]])"
      ]
     },
     "execution_count": 5,
     "metadata": {},
     "output_type": "execute_result"
    }
   ],
   "source": [
    "#X_train50_train.head()\n",
    "X_train50_train"
   ]
  },
  {
   "cell_type": "code",
   "execution_count": 6,
   "id": "b6a40246",
   "metadata": {},
   "outputs": [
    {
     "name": "stdout",
     "output_type": "stream",
     "text": [
      "1008718    BENIGN\n",
      "1092907    BENIGN\n",
      "1034897       DoS\n",
      "727692     BENIGN\n",
      "1200733    BENIGN\n",
      "            ...  \n",
      "259178     BENIGN\n",
      "1414414    BENIGN\n",
      "131932     BENIGN\n",
      "671155     BENIGN\n",
      "121958     BENIGN\n",
      "Name: Label_multiclass, Length: 990755, dtype: object\n",
      "1008718    0\n",
      "1092907    0\n",
      "1034897    1\n",
      "727692     0\n",
      "1200733    0\n",
      "          ..\n",
      "259178     0\n",
      "1414414    0\n",
      "131932     0\n",
      "671155     0\n",
      "121958     0\n",
      "Name: Label_binary, Length: 990755, dtype: int64\n"
     ]
    }
   ],
   "source": [
    "#print(y_train50_multiclass_train.unique())\n",
    "#print(y_train50_binary_train.unique())\n",
    "print(y_train50_multiclass_train)\n",
    "print(y_train50_binary_train)"
   ]
  },
  {
   "cell_type": "code",
   "execution_count": 7,
   "id": "5118a6e9",
   "metadata": {},
   "outputs": [
    {
     "name": "stdout",
     "output_type": "stream",
     "text": [
      "<class 'numpy.ndarray'>\n",
      "<class 'pandas.core.series.Series'>\n",
      "<class 'pandas.core.series.Series'>\n",
      "<class 'numpy.ndarray'>\n",
      "<class 'pandas.core.series.Series'>\n",
      "<class 'pandas.core.series.Series'>\n"
     ]
    }
   ],
   "source": [
    "print(type(X_train50_train))\n",
    "print(type(y_train50_multiclass_train))\n",
    "print(type(y_train50_binary_train))\n",
    "print(type(X_train50_test))\n",
    "print(type(y_train50_multiclass_test))\n",
    "print(type(y_train50_binary_test))"
   ]
  },
  {
   "cell_type": "code",
   "execution_count": 8,
   "id": "534ffbcd",
   "metadata": {},
   "outputs": [],
   "source": [
    "#X_train50_train = X_train50_train.to_numpy()\n",
    "y_train50_multiclass_train = y_train50_multiclass_train.to_numpy()\n",
    "y_train50_binary_train = y_train50_binary_train.to_numpy()\n",
    "#X_train50_test = X_train50_test.to_numpy()\n",
    "y_train50_multiclass_test = y_train50_multiclass_test.to_numpy()\n",
    "y_train50_binary_test = y_train50_binary_test.to_numpy()"
   ]
  },
  {
   "cell_type": "code",
   "execution_count": 9,
   "id": "420ddfb7",
   "metadata": {},
   "outputs": [
    {
     "name": "stdout",
     "output_type": "stream",
     "text": [
      "<class 'numpy.ndarray'>\n",
      "<class 'numpy.ndarray'>\n",
      "<class 'numpy.ndarray'>\n",
      "<class 'numpy.ndarray'>\n",
      "<class 'numpy.ndarray'>\n",
      "<class 'numpy.ndarray'>\n"
     ]
    }
   ],
   "source": [
    "print(type(X_train50_train))\n",
    "print(type(y_train50_multiclass_train))\n",
    "print(type(y_train50_binary_train))\n",
    "print(type(X_train50_test))\n",
    "print(type(y_train50_multiclass_test))\n",
    "print(type(y_train50_binary_test))"
   ]
  },
  {
   "cell_type": "markdown",
   "id": "8c0fbe55",
   "metadata": {},
   "source": [
    "# Carregando as variáveis do dataset CIC Test50"
   ]
  },
  {
   "cell_type": "code",
   "execution_count": 10,
   "id": "123e9f08",
   "metadata": {},
   "outputs": [],
   "source": [
    "with open('df_cic_test50_with_preprocessing_getdummies_minmax', mode = 'rb') as f:\n",
    "    X_test50, y_test50_multiclass, y_test50_binary = pickle.load(f)"
   ]
  },
  {
   "cell_type": "code",
   "execution_count": 11,
   "id": "79f262f0",
   "metadata": {},
   "outputs": [
    {
     "name": "stdout",
     "output_type": "stream",
     "text": [
      "X =  (1415365, 80)\n",
      "y multiclasse =  (1415365,)\n",
      "y binário =  (1415365,)\n"
     ]
    }
   ],
   "source": [
    "print('X = ', X_test50.shape)\n",
    "print('y multiclasse = ', y_test50_multiclass.shape)\n",
    "print('y binário = ', y_test50_binary.shape)"
   ]
  },
  {
   "cell_type": "code",
   "execution_count": 12,
   "id": "fe6837ef",
   "metadata": {},
   "outputs": [
    {
     "name": "stdout",
     "output_type": "stream",
     "text": [
      "<class 'numpy.ndarray'>\n",
      "<class 'pandas.core.series.Series'>\n",
      "<class 'pandas.core.series.Series'>\n"
     ]
    }
   ],
   "source": [
    "print(type(X_test50))\n",
    "print(type(y_test50_multiclass))\n",
    "print(type(y_test50_binary))"
   ]
  },
  {
   "cell_type": "code",
   "execution_count": 13,
   "id": "bb86d7b3",
   "metadata": {},
   "outputs": [],
   "source": [
    "y_test50_multiclass = y_test50_multiclass.to_numpy()\n",
    "y_test50_binary = y_test50_binary.to_numpy()"
   ]
  },
  {
   "cell_type": "code",
   "execution_count": 14,
   "id": "932a414c",
   "metadata": {},
   "outputs": [
    {
     "name": "stdout",
     "output_type": "stream",
     "text": [
      "<class 'numpy.ndarray'>\n",
      "<class 'numpy.ndarray'>\n",
      "<class 'numpy.ndarray'>\n"
     ]
    }
   ],
   "source": [
    "print(type(X_test50))\n",
    "print(type(y_test50_multiclass))\n",
    "print(type(y_test50_binary))"
   ]
  },
  {
   "cell_type": "code",
   "execution_count": 15,
   "id": "1a41d1fe",
   "metadata": {},
   "outputs": [
    {
     "data": {
      "text/plain": [
       "array([0, 1, 0, ..., 0, 1, 0])"
      ]
     },
     "execution_count": 15,
     "metadata": {},
     "output_type": "execute_result"
    }
   ],
   "source": [
    "#y_test50_binary.value_counts()\n",
    "y_test50_binary"
   ]
  },
  {
   "cell_type": "code",
   "execution_count": 16,
   "id": "9af46ed3",
   "metadata": {},
   "outputs": [
    {
     "data": {
      "text/plain": [
       "array(['BENIGN', 'DoS', 'BENIGN', ..., 'BENIGN', 'DoS', 'BENIGN'],\n",
       "      dtype=object)"
      ]
     },
     "execution_count": 16,
     "metadata": {},
     "output_type": "execute_result"
    }
   ],
   "source": [
    "#y_test50_multiclass.value_counts()\n",
    "y_test50_multiclass"
   ]
  },
  {
   "cell_type": "code",
   "execution_count": 17,
   "id": "100c82c8",
   "metadata": {},
   "outputs": [
    {
     "data": {
      "text/plain": [
       "array([[4.90719986e-02, 9.10092010e-06, 3.42557258e-06, ...,\n",
       "        1.00000000e+00, 0.00000000e+00, 0.00000000e+00],\n",
       "       [1.75000025e-07, 4.55046005e-06, 0.00000000e+00, ...,\n",
       "        1.00000000e+00, 0.00000000e+00, 0.00000000e+00],\n",
       "       [1.48333354e-06, 4.55046005e-06, 6.85114517e-06, ...,\n",
       "        1.00000000e+00, 0.00000000e+00, 0.00000000e+00],\n",
       "       ...,\n",
       "       [1.23333351e-06, 4.55046005e-06, 6.85114517e-06, ...,\n",
       "        1.00000000e+00, 0.00000000e+00, 0.00000000e+00],\n",
       "       [6.92338306e-01, 2.73027603e-05, 2.05534355e-05, ...,\n",
       "        1.00000000e+00, 0.00000000e+00, 0.00000000e+00],\n",
       "       [2.54333369e-04, 0.00000000e+00, 3.42557258e-06, ...,\n",
       "        1.00000000e+00, 0.00000000e+00, 0.00000000e+00]])"
      ]
     },
     "execution_count": 17,
     "metadata": {},
     "output_type": "execute_result"
    }
   ],
   "source": [
    "#X_test50.head()\n",
    "X_test50"
   ]
  },
  {
   "cell_type": "code",
   "execution_count": 18,
   "id": "68050b5a",
   "metadata": {},
   "outputs": [
    {
     "name": "stdout",
     "output_type": "stream",
     "text": [
      "['BENIGN' 'DoS' 'BENIGN' ... 'BENIGN' 'DoS' 'BENIGN']\n",
      "[0 1 0 ... 0 1 0]\n"
     ]
    }
   ],
   "source": [
    "#print(y_test50_multiclass.unique())\n",
    "#print(y_test50_binary.unique())\n",
    "print(y_test50_multiclass)\n",
    "print(y_test50_binary)"
   ]
  },
  {
   "cell_type": "markdown",
   "id": "cec4f107",
   "metadata": {},
   "source": [
    "# Algoritmo kNN para Train e Validation - Train50"
   ]
  },
  {
   "cell_type": "code",
   "execution_count": 19,
   "id": "2751d2da",
   "metadata": {},
   "outputs": [],
   "source": [
    "from sklearn.neighbors import KNeighborsClassifier"
   ]
  },
  {
   "cell_type": "markdown",
   "id": "44403351",
   "metadata": {},
   "source": [
    "### Predição train50 binária"
   ]
  },
  {
   "cell_type": "code",
   "execution_count": 20,
   "id": "713b0151",
   "metadata": {},
   "outputs": [],
   "source": [
    "knn_train50_binary = KNeighborsClassifier(n_neighbors=4, p=2)"
   ]
  },
  {
   "cell_type": "code",
   "execution_count": 21,
   "id": "dc9871f9",
   "metadata": {
    "scrolled": true
   },
   "outputs": [
    {
     "data": {
      "text/html": [
       "<style>#sk-container-id-1 {color: black;background-color: white;}#sk-container-id-1 pre{padding: 0;}#sk-container-id-1 div.sk-toggleable {background-color: white;}#sk-container-id-1 label.sk-toggleable__label {cursor: pointer;display: block;width: 100%;margin-bottom: 0;padding: 0.3em;box-sizing: border-box;text-align: center;}#sk-container-id-1 label.sk-toggleable__label-arrow:before {content: \"▸\";float: left;margin-right: 0.25em;color: #696969;}#sk-container-id-1 label.sk-toggleable__label-arrow:hover:before {color: black;}#sk-container-id-1 div.sk-estimator:hover label.sk-toggleable__label-arrow:before {color: black;}#sk-container-id-1 div.sk-toggleable__content {max-height: 0;max-width: 0;overflow: hidden;text-align: left;background-color: #f0f8ff;}#sk-container-id-1 div.sk-toggleable__content pre {margin: 0.2em;color: black;border-radius: 0.25em;background-color: #f0f8ff;}#sk-container-id-1 input.sk-toggleable__control:checked~div.sk-toggleable__content {max-height: 200px;max-width: 100%;overflow: auto;}#sk-container-id-1 input.sk-toggleable__control:checked~label.sk-toggleable__label-arrow:before {content: \"▾\";}#sk-container-id-1 div.sk-estimator input.sk-toggleable__control:checked~label.sk-toggleable__label {background-color: #d4ebff;}#sk-container-id-1 div.sk-label input.sk-toggleable__control:checked~label.sk-toggleable__label {background-color: #d4ebff;}#sk-container-id-1 input.sk-hidden--visually {border: 0;clip: rect(1px 1px 1px 1px);clip: rect(1px, 1px, 1px, 1px);height: 1px;margin: -1px;overflow: hidden;padding: 0;position: absolute;width: 1px;}#sk-container-id-1 div.sk-estimator {font-family: monospace;background-color: #f0f8ff;border: 1px dotted black;border-radius: 0.25em;box-sizing: border-box;margin-bottom: 0.5em;}#sk-container-id-1 div.sk-estimator:hover {background-color: #d4ebff;}#sk-container-id-1 div.sk-parallel-item::after {content: \"\";width: 100%;border-bottom: 1px solid gray;flex-grow: 1;}#sk-container-id-1 div.sk-label:hover label.sk-toggleable__label {background-color: #d4ebff;}#sk-container-id-1 div.sk-serial::before {content: \"\";position: absolute;border-left: 1px solid gray;box-sizing: border-box;top: 0;bottom: 0;left: 50%;z-index: 0;}#sk-container-id-1 div.sk-serial {display: flex;flex-direction: column;align-items: center;background-color: white;padding-right: 0.2em;padding-left: 0.2em;position: relative;}#sk-container-id-1 div.sk-item {position: relative;z-index: 1;}#sk-container-id-1 div.sk-parallel {display: flex;align-items: stretch;justify-content: center;background-color: white;position: relative;}#sk-container-id-1 div.sk-item::before, #sk-container-id-1 div.sk-parallel-item::before {content: \"\";position: absolute;border-left: 1px solid gray;box-sizing: border-box;top: 0;bottom: 0;left: 50%;z-index: -1;}#sk-container-id-1 div.sk-parallel-item {display: flex;flex-direction: column;z-index: 1;position: relative;background-color: white;}#sk-container-id-1 div.sk-parallel-item:first-child::after {align-self: flex-end;width: 50%;}#sk-container-id-1 div.sk-parallel-item:last-child::after {align-self: flex-start;width: 50%;}#sk-container-id-1 div.sk-parallel-item:only-child::after {width: 0;}#sk-container-id-1 div.sk-dashed-wrapped {border: 1px dashed gray;margin: 0 0.4em 0.5em 0.4em;box-sizing: border-box;padding-bottom: 0.4em;background-color: white;}#sk-container-id-1 div.sk-label label {font-family: monospace;font-weight: bold;display: inline-block;line-height: 1.2em;}#sk-container-id-1 div.sk-label-container {text-align: center;}#sk-container-id-1 div.sk-container {/* jupyter's `normalize.less` sets `[hidden] { display: none; }` but bootstrap.min.css set `[hidden] { display: none !important; }` so we also need the `!important` here to be able to override the default hidden behavior on the sphinx rendered scikit-learn.org. See: https://github.com/scikit-learn/scikit-learn/issues/21755 */display: inline-block !important;position: relative;}#sk-container-id-1 div.sk-text-repr-fallback {display: none;}</style><div id=\"sk-container-id-1\" class=\"sk-top-container\"><div class=\"sk-text-repr-fallback\"><pre>KNeighborsClassifier(n_neighbors=4)</pre><b>In a Jupyter environment, please rerun this cell to show the HTML representation or trust the notebook. <br />On GitHub, the HTML representation is unable to render, please try loading this page with nbviewer.org.</b></div><div class=\"sk-container\" hidden><div class=\"sk-item\"><div class=\"sk-estimator sk-toggleable\"><input class=\"sk-toggleable__control sk-hidden--visually\" id=\"sk-estimator-id-1\" type=\"checkbox\" checked><label for=\"sk-estimator-id-1\" class=\"sk-toggleable__label sk-toggleable__label-arrow\">KNeighborsClassifier</label><div class=\"sk-toggleable__content\"><pre>KNeighborsClassifier(n_neighbors=4)</pre></div></div></div></div></div>"
      ],
      "text/plain": [
       "KNeighborsClassifier(n_neighbors=4)"
      ]
     },
     "execution_count": 21,
     "metadata": {},
     "output_type": "execute_result"
    }
   ],
   "source": [
    "knn_train50_binary.fit(X_train50_train, y_train50_binary_train)"
   ]
  },
  {
   "cell_type": "code",
   "execution_count": 22,
   "id": "f1c36860",
   "metadata": {},
   "outputs": [],
   "source": [
    "predict_train50_binary = knn_train50_binary.predict(X_train50_test)"
   ]
  },
  {
   "cell_type": "code",
   "execution_count": 23,
   "id": "fb5f62ea",
   "metadata": {},
   "outputs": [
    {
     "data": {
      "text/plain": [
       "array([1, 1, 0, ..., 1, 1, 0])"
      ]
     },
     "execution_count": 23,
     "metadata": {},
     "output_type": "execute_result"
    }
   ],
   "source": [
    "predict_train50_binary"
   ]
  },
  {
   "cell_type": "code",
   "execution_count": 24,
   "id": "a5056301",
   "metadata": {},
   "outputs": [
    {
     "data": {
      "text/plain": [
       "array([1, 1, 0, ..., 1, 1, 0])"
      ]
     },
     "execution_count": 24,
     "metadata": {},
     "output_type": "execute_result"
    }
   ],
   "source": [
    "y_train50_binary_test"
   ]
  },
  {
   "cell_type": "code",
   "execution_count": 25,
   "id": "b5a418e6",
   "metadata": {},
   "outputs": [
    {
     "data": {
      "text/plain": [
       "0.9990179223287252"
      ]
     },
     "execution_count": 25,
     "metadata": {},
     "output_type": "execute_result"
    }
   ],
   "source": [
    "accuracy_score(y_train50_binary_test, predict_train50_binary)"
   ]
  },
  {
   "cell_type": "markdown",
   "id": "5897d5ae",
   "metadata": {},
   "source": [
    "### Visualização da árvore binária"
   ]
  },
  {
   "cell_type": "code",
   "execution_count": 26,
   "id": "e5884856",
   "metadata": {},
   "outputs": [],
   "source": [
    "#from sklearn import tree\n",
    "#from dtreeviz.trees import dtreeviz\n",
    "#from matplotlib import pyplot as plt\n",
    "#plt.rcParams.update({'figure.figsize': (12.0, 8.0)})\n",
    "#plt.rcParams.update({'font.size': 14})"
   ]
  },
  {
   "cell_type": "code",
   "execution_count": 27,
   "id": "e84da5e2",
   "metadata": {},
   "outputs": [],
   "source": [
    "#plt.figure(figsize=(20,10))\n",
    "#grafic = tree.plot_tree(xgb_train50_binary.estimators_[0], feature_names=X_train50_train.columns, filled=True)"
   ]
  },
  {
   "cell_type": "code",
   "execution_count": 28,
   "id": "18bfca14",
   "metadata": {},
   "outputs": [],
   "source": [
    "#viz = dtreeviz(xgb_train50_binary.estimators_[0], X_train50_train, y_train50_binary_train, feature_names=X_train50_train.columns, target_name='Label_binary')\n",
    "#viz"
   ]
  },
  {
   "cell_type": "code",
   "execution_count": 29,
   "id": "1e2d6b5a",
   "metadata": {},
   "outputs": [],
   "source": [
    "#fig, ax = plt.subplots(figsize=(20,30))\n",
    "#lgb.plot_importance(lgb_train50_binary, ax=ax)"
   ]
  },
  {
   "cell_type": "markdown",
   "id": "d4bde7aa",
   "metadata": {},
   "source": [
    "### Predição train50 multiclasse"
   ]
  },
  {
   "cell_type": "code",
   "execution_count": 30,
   "id": "e5492c95",
   "metadata": {},
   "outputs": [],
   "source": [
    "knn_train50_multiclass =  KNeighborsClassifier(n_neighbors=4, p=2)"
   ]
  },
  {
   "cell_type": "code",
   "execution_count": 31,
   "id": "627b6e2e",
   "metadata": {},
   "outputs": [
    {
     "data": {
      "text/html": [
       "<style>#sk-container-id-2 {color: black;background-color: white;}#sk-container-id-2 pre{padding: 0;}#sk-container-id-2 div.sk-toggleable {background-color: white;}#sk-container-id-2 label.sk-toggleable__label {cursor: pointer;display: block;width: 100%;margin-bottom: 0;padding: 0.3em;box-sizing: border-box;text-align: center;}#sk-container-id-2 label.sk-toggleable__label-arrow:before {content: \"▸\";float: left;margin-right: 0.25em;color: #696969;}#sk-container-id-2 label.sk-toggleable__label-arrow:hover:before {color: black;}#sk-container-id-2 div.sk-estimator:hover label.sk-toggleable__label-arrow:before {color: black;}#sk-container-id-2 div.sk-toggleable__content {max-height: 0;max-width: 0;overflow: hidden;text-align: left;background-color: #f0f8ff;}#sk-container-id-2 div.sk-toggleable__content pre {margin: 0.2em;color: black;border-radius: 0.25em;background-color: #f0f8ff;}#sk-container-id-2 input.sk-toggleable__control:checked~div.sk-toggleable__content {max-height: 200px;max-width: 100%;overflow: auto;}#sk-container-id-2 input.sk-toggleable__control:checked~label.sk-toggleable__label-arrow:before {content: \"▾\";}#sk-container-id-2 div.sk-estimator input.sk-toggleable__control:checked~label.sk-toggleable__label {background-color: #d4ebff;}#sk-container-id-2 div.sk-label input.sk-toggleable__control:checked~label.sk-toggleable__label {background-color: #d4ebff;}#sk-container-id-2 input.sk-hidden--visually {border: 0;clip: rect(1px 1px 1px 1px);clip: rect(1px, 1px, 1px, 1px);height: 1px;margin: -1px;overflow: hidden;padding: 0;position: absolute;width: 1px;}#sk-container-id-2 div.sk-estimator {font-family: monospace;background-color: #f0f8ff;border: 1px dotted black;border-radius: 0.25em;box-sizing: border-box;margin-bottom: 0.5em;}#sk-container-id-2 div.sk-estimator:hover {background-color: #d4ebff;}#sk-container-id-2 div.sk-parallel-item::after {content: \"\";width: 100%;border-bottom: 1px solid gray;flex-grow: 1;}#sk-container-id-2 div.sk-label:hover label.sk-toggleable__label {background-color: #d4ebff;}#sk-container-id-2 div.sk-serial::before {content: \"\";position: absolute;border-left: 1px solid gray;box-sizing: border-box;top: 0;bottom: 0;left: 50%;z-index: 0;}#sk-container-id-2 div.sk-serial {display: flex;flex-direction: column;align-items: center;background-color: white;padding-right: 0.2em;padding-left: 0.2em;position: relative;}#sk-container-id-2 div.sk-item {position: relative;z-index: 1;}#sk-container-id-2 div.sk-parallel {display: flex;align-items: stretch;justify-content: center;background-color: white;position: relative;}#sk-container-id-2 div.sk-item::before, #sk-container-id-2 div.sk-parallel-item::before {content: \"\";position: absolute;border-left: 1px solid gray;box-sizing: border-box;top: 0;bottom: 0;left: 50%;z-index: -1;}#sk-container-id-2 div.sk-parallel-item {display: flex;flex-direction: column;z-index: 1;position: relative;background-color: white;}#sk-container-id-2 div.sk-parallel-item:first-child::after {align-self: flex-end;width: 50%;}#sk-container-id-2 div.sk-parallel-item:last-child::after {align-self: flex-start;width: 50%;}#sk-container-id-2 div.sk-parallel-item:only-child::after {width: 0;}#sk-container-id-2 div.sk-dashed-wrapped {border: 1px dashed gray;margin: 0 0.4em 0.5em 0.4em;box-sizing: border-box;padding-bottom: 0.4em;background-color: white;}#sk-container-id-2 div.sk-label label {font-family: monospace;font-weight: bold;display: inline-block;line-height: 1.2em;}#sk-container-id-2 div.sk-label-container {text-align: center;}#sk-container-id-2 div.sk-container {/* jupyter's `normalize.less` sets `[hidden] { display: none; }` but bootstrap.min.css set `[hidden] { display: none !important; }` so we also need the `!important` here to be able to override the default hidden behavior on the sphinx rendered scikit-learn.org. See: https://github.com/scikit-learn/scikit-learn/issues/21755 */display: inline-block !important;position: relative;}#sk-container-id-2 div.sk-text-repr-fallback {display: none;}</style><div id=\"sk-container-id-2\" class=\"sk-top-container\"><div class=\"sk-text-repr-fallback\"><pre>KNeighborsClassifier(n_neighbors=4)</pre><b>In a Jupyter environment, please rerun this cell to show the HTML representation or trust the notebook. <br />On GitHub, the HTML representation is unable to render, please try loading this page with nbviewer.org.</b></div><div class=\"sk-container\" hidden><div class=\"sk-item\"><div class=\"sk-estimator sk-toggleable\"><input class=\"sk-toggleable__control sk-hidden--visually\" id=\"sk-estimator-id-2\" type=\"checkbox\" checked><label for=\"sk-estimator-id-2\" class=\"sk-toggleable__label sk-toggleable__label-arrow\">KNeighborsClassifier</label><div class=\"sk-toggleable__content\"><pre>KNeighborsClassifier(n_neighbors=4)</pre></div></div></div></div></div>"
      ],
      "text/plain": [
       "KNeighborsClassifier(n_neighbors=4)"
      ]
     },
     "execution_count": 31,
     "metadata": {},
     "output_type": "execute_result"
    }
   ],
   "source": [
    "knn_train50_multiclass.fit(X_train50_train, y_train50_multiclass_train)"
   ]
  },
  {
   "cell_type": "code",
   "execution_count": 32,
   "id": "48d25f13",
   "metadata": {},
   "outputs": [],
   "source": [
    "predict_train50_multiclass = knn_train50_multiclass.predict(X_train50_test)"
   ]
  },
  {
   "cell_type": "code",
   "execution_count": 33,
   "id": "efbfa9a7",
   "metadata": {},
   "outputs": [
    {
     "data": {
      "text/plain": [
       "array(['DoS', 'PortScan', 'BENIGN', ..., 'DoS', 'DoS', 'BENIGN'],\n",
       "      dtype=object)"
      ]
     },
     "execution_count": 33,
     "metadata": {},
     "output_type": "execute_result"
    }
   ],
   "source": [
    "predict_train50_multiclass"
   ]
  },
  {
   "cell_type": "code",
   "execution_count": 34,
   "id": "4dd0609a",
   "metadata": {},
   "outputs": [
    {
     "data": {
      "text/plain": [
       "array(['DoS', 'PortScan', 'BENIGN', ..., 'DoS', 'DoS', 'BENIGN'],\n",
       "      dtype=object)"
      ]
     },
     "execution_count": 34,
     "metadata": {},
     "output_type": "execute_result"
    }
   ],
   "source": [
    "y_train50_multiclass_test"
   ]
  },
  {
   "cell_type": "code",
   "execution_count": 35,
   "id": "b2f48d7a",
   "metadata": {},
   "outputs": [
    {
     "data": {
      "text/plain": [
       "0.9989613998728245"
      ]
     },
     "execution_count": 35,
     "metadata": {},
     "output_type": "execute_result"
    }
   ],
   "source": [
    "accuracy_score(y_train50_multiclass_test, predict_train50_multiclass)"
   ]
  },
  {
   "cell_type": "markdown",
   "id": "8255b657",
   "metadata": {},
   "source": [
    "### Visualização da árvore multiclasse"
   ]
  },
  {
   "cell_type": "code",
   "execution_count": 36,
   "id": "ba2a09b7",
   "metadata": {},
   "outputs": [],
   "source": [
    "#plt.figure(figsize=(20,10))\n",
    "#grafic = tree.plot_tree(xgb_train50_multiclass.estimators_[0], feature_names=X_train50_train.columns, filled=True)"
   ]
  },
  {
   "cell_type": "code",
   "execution_count": 37,
   "id": "472266e5",
   "metadata": {},
   "outputs": [],
   "source": [
    "#viz = dtreeviz(xgb_train50_multiclass.estimators_[0], X_train50_train, y_train50_multiclass_train, feature_names=X_train50_train.columns, target_name='Label_multiclass')\n",
    "#viz"
   ]
  },
  {
   "cell_type": "code",
   "execution_count": 38,
   "id": "6a9f3d24",
   "metadata": {},
   "outputs": [],
   "source": [
    "#fig, ax = plt.subplots(figsize=(20,30))\n",
    "#lgb.plot_importance(lgb_train50_binary, ax=ax)"
   ]
  },
  {
   "cell_type": "code",
   "execution_count": 39,
   "id": "7c021c57",
   "metadata": {},
   "outputs": [],
   "source": [
    "#lgb.plot_tree(lgb_train50_binary, figsize=(20,6), tree_index=0, dpi=100)"
   ]
  },
  {
   "cell_type": "markdown",
   "id": "29959171",
   "metadata": {},
   "source": [
    "### Precision e Recall do train50"
   ]
  },
  {
   "cell_type": "code",
   "execution_count": 40,
   "id": "7807a825",
   "metadata": {
    "scrolled": true
   },
   "outputs": [
    {
     "name": "stdout",
     "output_type": "stream",
     "text": [
      "              precision    recall  f1-score   support\n",
      "\n",
      "           0   0.999355  0.999422  0.999389    341041\n",
      "           1   0.997642  0.997367  0.997505     83569\n",
      "\n",
      "    accuracy                       0.999018    424610\n",
      "   macro avg   0.998498  0.998395  0.998447    424610\n",
      "weighted avg   0.999018  0.999018  0.999018    424610\n",
      "\n"
     ]
    }
   ],
   "source": [
    "print(classification_report(y_train50_binary_test, predict_train50_binary, digits=6, zero_division=1))"
   ]
  },
  {
   "cell_type": "code",
   "execution_count": 41,
   "id": "2776113a",
   "metadata": {},
   "outputs": [
    {
     "name": "stdout",
     "output_type": "stream",
     "text": [
      "              precision    recall  f1-score   support\n",
      "\n",
      "      BENIGN   0.999355  0.999422  0.999389    341041\n",
      "      BotNet   0.865942  0.786184  0.824138       304\n",
      "  BruteForce   1.000000  0.997601  0.998799      2084\n",
      "        DDoS   0.998477  0.998949  0.998713     19034\n",
      "         DoS   0.996055  0.996425  0.996240     37760\n",
      "Infiltration   1.000000  0.000000  0.000000         3\n",
      "    PortScan   0.999958  0.999626  0.999792     24061\n",
      "   WebAttack   0.984424  0.978328  0.981366       323\n",
      "\n",
      "    accuracy                       0.998961    424610\n",
      "   macro avg   0.980526  0.844567  0.849805    424610\n",
      "weighted avg   0.998953  0.998961  0.998952    424610\n",
      "\n"
     ]
    }
   ],
   "source": [
    "print(classification_report(y_train50_multiclass_test, predict_train50_multiclass, digits=6, zero_division=1))"
   ]
  },
  {
   "cell_type": "markdown",
   "id": "a5d9281b",
   "metadata": {},
   "source": [
    "### Cross Validation do train50"
   ]
  },
  {
   "cell_type": "code",
   "execution_count": 42,
   "id": "410f9696",
   "metadata": {},
   "outputs": [],
   "source": [
    "# cross validation binary\n",
    "cv_result_train50_binary = []\n",
    "kfold = KFold(n_splits=10, shuffle=True, random_state=42)   \n",
    "score_cv_train50_binary = cross_val_score(knn_train50_binary, X_train50_train, y_train50_binary_train, cv=kfold)\n",
    "cv_result_train50_binary.append(score_cv_train50_binary.mean())"
   ]
  },
  {
   "cell_type": "code",
   "execution_count": 43,
   "id": "52d69849",
   "metadata": {},
   "outputs": [
    {
     "data": {
      "text/plain": [
       "array([0.99912189, 0.99873834, 0.99897049, 0.99871816, 0.9989503 ,\n",
       "       0.99887964, 0.9989402 , 0.99919253, 0.99899066, 0.99910169])"
      ]
     },
     "execution_count": 43,
     "metadata": {},
     "output_type": "execute_result"
    }
   ],
   "source": [
    "score_cv_train50_binary"
   ]
  },
  {
   "cell_type": "code",
   "execution_count": 44,
   "id": "935293fc",
   "metadata": {},
   "outputs": [
    {
     "data": {
      "text/plain": [
       "[0.9989603891000026]"
      ]
     },
     "execution_count": 44,
     "metadata": {},
     "output_type": "execute_result"
    }
   ],
   "source": [
    "cv_result_train50_binary"
   ]
  },
  {
   "cell_type": "code",
   "execution_count": 45,
   "id": "6fa4062b",
   "metadata": {},
   "outputs": [],
   "source": [
    "# cross validation multiclass\n",
    "cv_result_train50_multiclass = []\n",
    "kfold = KFold(n_splits=10, shuffle=True, random_state=42)   \n",
    "score_cv_train50_multiclass = cross_val_score(knn_train50_multiclass, X_train50_train, y_train50_multiclass_train, cv=kfold)\n",
    "cv_result_train50_multiclass.append(score_cv_train50_multiclass.mean())"
   ]
  },
  {
   "cell_type": "code",
   "execution_count": 46,
   "id": "400c5a76",
   "metadata": {},
   "outputs": [
    {
     "data": {
      "text/plain": [
       "array([0.99901086, 0.99869797, 0.99888974, 0.99859704, 0.99885946,\n",
       "       0.99881908, 0.99882917, 0.99910169, 0.99887964, 0.99903104])"
      ]
     },
     "execution_count": 46,
     "metadata": {},
     "output_type": "execute_result"
    }
   ],
   "source": [
    "score_cv_train50_multiclass"
   ]
  },
  {
   "cell_type": "code",
   "execution_count": 47,
   "id": "d71e41b2",
   "metadata": {},
   "outputs": [
    {
     "data": {
      "text/plain": [
       "[0.9988715679484542]"
      ]
     },
     "execution_count": 47,
     "metadata": {},
     "output_type": "execute_result"
    }
   ],
   "source": [
    "cv_result_train50_multiclass"
   ]
  },
  {
   "cell_type": "markdown",
   "id": "af9bee6b",
   "metadata": {},
   "source": [
    "### Matriz de Confusão do train50"
   ]
  },
  {
   "cell_type": "code",
   "execution_count": 48,
   "id": "8b73140a",
   "metadata": {},
   "outputs": [
    {
     "data": {
      "image/png": "[encoded data removed]",
      "text/plain": [
       "<Figure size 432x288 with 2 Axes>"
      ]
     },
     "metadata": {
      "needs_background": "light"
     },
     "output_type": "display_data"
    }
   ],
   "source": [
    "ConfusionMatrixDisplay.from_estimator(knn_train50_binary, X_train50_test, y_train50_binary_test)\n",
    "plt.show()"
   ]
  },
  {
   "cell_type": "code",
   "execution_count": 49,
   "id": "d29aaf69",
   "metadata": {},
   "outputs": [
    {
     "data": {
      "text/plain": [
       "<sklearn.metrics._plot.confusion_matrix.ConfusionMatrixDisplay at 0x7f1d508f0a60>"
      ]
     },
     "execution_count": 49,
     "metadata": {},
     "output_type": "execute_result"
    },
    {
     "data": {
      "image/png": "[encoded data removed]",
      "text/plain": [
       "<Figure size 432x288 with 2 Axes>"
      ]
     },
     "metadata": {
      "needs_background": "light"
     },
     "output_type": "display_data"
    },
    {
     "data": {
      "image/png": "[encoded data removed]",
      "text/plain": [
       "<Figure size 1080x1080 with 2 Axes>"
      ]
     },
     "metadata": {
      "needs_background": "light"
     },
     "output_type": "display_data"
    }
   ],
   "source": [
    "#ConfusionMatrixDisplay.from_estimator(xgb_train50_multiclass, X_train50_test, y_train50_multiclass_test)\n",
    "#plt.show()\n",
    "\n",
    "cm_knn_multiclass_train = ConfusionMatrixDisplay.from_estimator(knn_train50_multiclass, X_train50_test, y_train50_multiclass_test)\n",
    "fig, ax = plt.subplots(figsize=(15,15))\n",
    "cm_knn_multiclass_train.plot(ax=ax)"
   ]
  },
  {
   "cell_type": "markdown",
   "id": "6e45eae7",
   "metadata": {},
   "source": [
    "# Algoritmo kNN para Test50"
   ]
  },
  {
   "cell_type": "markdown",
   "id": "cb8a0c45",
   "metadata": {},
   "source": [
    "### Predição Test50 binária"
   ]
  },
  {
   "cell_type": "code",
   "execution_count": 50,
   "id": "1f463d60",
   "metadata": {},
   "outputs": [],
   "source": [
    "predict_test50_binary = knn_train50_binary.predict(X_test50)"
   ]
  },
  {
   "cell_type": "code",
   "execution_count": 51,
   "id": "a77277a4",
   "metadata": {},
   "outputs": [
    {
     "data": {
      "text/plain": [
       "array([0, 1, 0, ..., 0, 1, 0])"
      ]
     },
     "execution_count": 51,
     "metadata": {},
     "output_type": "execute_result"
    }
   ],
   "source": [
    "predict_test50_binary"
   ]
  },
  {
   "cell_type": "code",
   "execution_count": 52,
   "id": "53f937cd",
   "metadata": {},
   "outputs": [
    {
     "data": {
      "text/plain": [
       "array([0, 1, 0, ..., 0, 1, 0])"
      ]
     },
     "execution_count": 52,
     "metadata": {},
     "output_type": "execute_result"
    }
   ],
   "source": [
    "y_test50_binary"
   ]
  },
  {
   "cell_type": "code",
   "execution_count": 53,
   "id": "879d6fab",
   "metadata": {},
   "outputs": [
    {
     "data": {
      "text/plain": [
       "0.9992277610369057"
      ]
     },
     "execution_count": 53,
     "metadata": {},
     "output_type": "execute_result"
    }
   ],
   "source": [
    "accuracy_score(y_test50_binary, predict_test50_binary)"
   ]
  },
  {
   "cell_type": "markdown",
   "id": "141ed59f",
   "metadata": {},
   "source": [
    "### Predição test50 multiclasse"
   ]
  },
  {
   "cell_type": "code",
   "execution_count": 54,
   "id": "be8e439a",
   "metadata": {},
   "outputs": [],
   "source": [
    "predict_test50_multiclass = knn_train50_multiclass.predict(X_test50)"
   ]
  },
  {
   "cell_type": "code",
   "execution_count": 55,
   "id": "66942066",
   "metadata": {},
   "outputs": [
    {
     "data": {
      "text/plain": [
       "array(['BENIGN', 'DoS', 'BENIGN', ..., 'BENIGN', 'DoS', 'BENIGN'],\n",
       "      dtype=object)"
      ]
     },
     "execution_count": 55,
     "metadata": {},
     "output_type": "execute_result"
    }
   ],
   "source": [
    "predict_test50_multiclass"
   ]
  },
  {
   "cell_type": "code",
   "execution_count": 56,
   "id": "947cff00",
   "metadata": {},
   "outputs": [
    {
     "data": {
      "text/plain": [
       "array(['BENIGN', 'DoS', 'BENIGN', ..., 'BENIGN', 'DoS', 'BENIGN'],\n",
       "      dtype=object)"
      ]
     },
     "execution_count": 56,
     "metadata": {},
     "output_type": "execute_result"
    }
   ],
   "source": [
    "y_test50_multiclass"
   ]
  },
  {
   "cell_type": "code",
   "execution_count": 57,
   "id": "6846f901",
   "metadata": {},
   "outputs": [
    {
     "data": {
      "text/plain": [
       "0.999176184235162"
      ]
     },
     "execution_count": 57,
     "metadata": {},
     "output_type": "execute_result"
    }
   ],
   "source": [
    "accuracy_score(y_test50_multiclass, predict_test50_multiclass)"
   ]
  },
  {
   "cell_type": "markdown",
   "id": "1779a29a",
   "metadata": {},
   "source": [
    "### Precision e Recall do test50"
   ]
  },
  {
   "cell_type": "code",
   "execution_count": 58,
   "id": "53f198b5",
   "metadata": {
    "scrolled": true
   },
   "outputs": [
    {
     "name": "stdout",
     "output_type": "stream",
     "text": [
      "              precision    recall  f1-score   support\n",
      "\n",
      "           0   0.999458  0.999580  0.999519   1136548\n",
      "           1   0.998288  0.997791  0.998039    278817\n",
      "\n",
      "    accuracy                       0.999228   1415365\n",
      "   macro avg   0.998873  0.998685  0.998779   1415365\n",
      "weighted avg   0.999228  0.999228  0.999228   1415365\n",
      "\n"
     ]
    }
   ],
   "source": [
    "print(classification_report(y_test50_binary, predict_test50_binary, digits=6, zero_division=1))"
   ]
  },
  {
   "cell_type": "code",
   "execution_count": 59,
   "id": "2b76b89a",
   "metadata": {},
   "outputs": [
    {
     "name": "stdout",
     "output_type": "stream",
     "text": [
      "              precision    recall  f1-score   support\n",
      "\n",
      "      BENIGN   0.999458  0.999580  0.999519   1136548\n",
      "      BotNet   0.917595  0.839104  0.876596       982\n",
      "  BruteForce   0.999855  0.997687  0.998770      6917\n",
      "        DDoS   0.998782  0.999047  0.998914     64013\n",
      "         DoS   0.997039  0.996873  0.996956    126330\n",
      "  Heartbleed   1.000000  0.800000  0.888889         5\n",
      "Infiltration   1.000000  0.176471  0.300000        17\n",
      "    PortScan   0.999950  0.999723  0.999836     79464\n",
      "   WebAttack   0.982505  0.979798  0.981149      1089\n",
      "\n",
      "    accuracy                       0.999176   1415365\n",
      "   macro avg   0.988354  0.865365  0.893403   1415365\n",
      "weighted avg   0.999171  0.999176  0.999169   1415365\n",
      "\n"
     ]
    }
   ],
   "source": [
    "print(classification_report(y_test50_multiclass, predict_test50_multiclass, digits=6, zero_division=1))"
   ]
  },
  {
   "cell_type": "markdown",
   "id": "8298ab40",
   "metadata": {},
   "source": [
    "### Matriz de Confusão do test50"
   ]
  },
  {
   "cell_type": "code",
   "execution_count": 60,
   "id": "da968c72",
   "metadata": {},
   "outputs": [
    {
     "data": {
      "image/png": "[encoded data removed]",
      "text/plain": [
       "<Figure size 432x288 with 2 Axes>"
      ]
     },
     "metadata": {
      "needs_background": "light"
     },
     "output_type": "display_data"
    }
   ],
   "source": [
    "ConfusionMatrixDisplay.from_estimator(knn_train50_binary, X_test50, y_test50_binary)\n",
    "plt.show()"
   ]
  },
  {
   "cell_type": "code",
   "execution_count": 61,
   "id": "9635949a",
   "metadata": {},
   "outputs": [
    {
     "data": {
      "text/plain": [
       "<sklearn.metrics._plot.confusion_matrix.ConfusionMatrixDisplay at 0x7f1d4c9e6f10>"
      ]
     },
     "execution_count": 61,
     "metadata": {},
     "output_type": "execute_result"
    },
    {
     "data": {
      "image/png": "[encoded data removed]",
      "text/plain": [
       "<Figure size 432x288 with 2 Axes>"
      ]
     },
     "metadata": {
      "needs_background": "light"
     },
     "output_type": "display_data"
    },
    {
     "data": {
      "image/png": "[encoded data removed]",
      "text/plain": [
       "<Figure size 1080x1080 with 2 Axes>"
      ]
     },
     "metadata": {
      "needs_background": "light"
     },
     "output_type": "display_data"
    }
   ],
   "source": [
    "#ConfusionMatrixDisplay.from_estimator(xgb_train50_multiclass, X_test50, y_test50_multiclass)\n",
    "#plt.show()\n",
    "\n",
    "cm_knn_multiclass_train = ConfusionMatrixDisplay.from_estimator(knn_train50_multiclass, X_test50, y_test50_multiclass)\n",
    "fig, ax = plt.subplots(figsize=(15,15))\n",
    "cm_knn_multiclass_train.plot(ax=ax)"
   ]
  }
 ],
 "metadata": {
  "kernelspec": {
   "display_name": "Python 3 (ipykernel)",
   "language": "python",
   "name": "python3"
  },
  "language_info": {
   "codemirror_mode": {
    "name": "ipython",
    "version": 3
   },
   "file_extension": ".py",
   "mimetype": "text/x-python",
   "name": "python",
   "nbconvert_exporter": "python",
   "pygments_lexer": "ipython3",
   "version": "3.8.10"
  }
 },
 "nbformat": 4,
 "nbformat_minor": 5
}
