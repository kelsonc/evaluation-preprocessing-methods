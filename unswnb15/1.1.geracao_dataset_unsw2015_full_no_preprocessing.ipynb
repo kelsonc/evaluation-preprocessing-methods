{
 "cells": [
  {
   "cell_type": "code",
   "execution_count": 3,
   "id": "a2d43fbb",
   "metadata": {},
   "outputs": [],
   "source": [
    "import pandas as pd\n",
    "import numpy as np"
   ]
  },
  {
   "cell_type": "markdown",
   "id": "d95361a0",
   "metadata": {},
   "source": [
    "# Carregando dataset UNSW completo"
   ]
  },
  {
   "cell_type": "code",
   "execution_count": 4,
   "id": "5ea156f5",
   "metadata": {},
   "outputs": [
    {
     "ename": "FileNotFoundError",
     "evalue": "[Errno 2] No such file or directory: '/media/kelson/DataCenter/UFU/tese/datasets/unsw15/UNSW_NB15_CSV_Files/UNSW-NB15_1.csv'",
     "output_type": "error",
     "traceback": [
      "\u001b[0;31m---------------------------------------------------------------------------\u001b[0m",
      "\u001b[0;31mFileNotFoundError\u001b[0m                         Traceback (most recent call last)",
      "\u001b[0;32m/tmp/ipykernel_77666/3088821854.py\u001b[0m in \u001b[0;36m<module>\u001b[0;34m\u001b[0m\n\u001b[0;32m----> 1\u001b[0;31m \u001b[0mdf_unsw1\u001b[0m \u001b[0;34m=\u001b[0m \u001b[0mpd\u001b[0m\u001b[0;34m.\u001b[0m\u001b[0mread_csv\u001b[0m\u001b[0;34m(\u001b[0m\u001b[0;34m'/media/kelson/DataCenter/UFU/tese/datasets/unsw15/UNSW_NB15_CSV_Files/UNSW-NB15_1.csv'\u001b[0m\u001b[0;34m,\u001b[0m \u001b[0mlow_memory\u001b[0m\u001b[0;34m=\u001b[0m\u001b[0;32mFalse\u001b[0m\u001b[0;34m)\u001b[0m\u001b[0;34m\u001b[0m\u001b[0;34m\u001b[0m\u001b[0m\n\u001b[0m\u001b[1;32m      2\u001b[0m \u001b[0mdf_unsw1\u001b[0m\u001b[0;34m.\u001b[0m\u001b[0mcolumns\u001b[0m \u001b[0;34m=\u001b[0m \u001b[0;34m[\u001b[0m\u001b[0mnome_coluna\u001b[0m\u001b[0;34m.\u001b[0m\u001b[0mstrip\u001b[0m\u001b[0;34m(\u001b[0m\u001b[0;34m)\u001b[0m\u001b[0;34m.\u001b[0m\u001b[0mreplace\u001b[0m\u001b[0;34m(\u001b[0m\u001b[0;34m' '\u001b[0m\u001b[0;34m,\u001b[0m \u001b[0;34m'_'\u001b[0m\u001b[0;34m)\u001b[0m\u001b[0;34m.\u001b[0m\u001b[0mreplace\u001b[0m\u001b[0;34m(\u001b[0m\u001b[0;34m'/'\u001b[0m\u001b[0;34m,\u001b[0m \u001b[0;34m'_'\u001b[0m\u001b[0;34m)\u001b[0m \u001b[0;32mfor\u001b[0m \u001b[0mnome_coluna\u001b[0m \u001b[0;32min\u001b[0m \u001b[0mdf_unsw1\u001b[0m\u001b[0;34m.\u001b[0m\u001b[0mcolumns\u001b[0m\u001b[0;34m]\u001b[0m\u001b[0;34m\u001b[0m\u001b[0;34m\u001b[0m\u001b[0m\n\u001b[1;32m      3\u001b[0m \u001b[0mdf_unsw2\u001b[0m \u001b[0;34m=\u001b[0m \u001b[0mpd\u001b[0m\u001b[0;34m.\u001b[0m\u001b[0mread_csv\u001b[0m\u001b[0;34m(\u001b[0m\u001b[0;34m'/media/kelson/DataCenter/UFU/tese/datasets/unsw15/UNSW_NB15_CSV_Files//UNSW-NB15_2.csv'\u001b[0m\u001b[0;34m,\u001b[0m \u001b[0mlow_memory\u001b[0m\u001b[0;34m=\u001b[0m\u001b[0;32mFalse\u001b[0m\u001b[0;34m)\u001b[0m\u001b[0;34m\u001b[0m\u001b[0;34m\u001b[0m\u001b[0m\n\u001b[1;32m      4\u001b[0m \u001b[0mdf_unsw3\u001b[0m \u001b[0;34m=\u001b[0m \u001b[0mpd\u001b[0m\u001b[0;34m.\u001b[0m\u001b[0mread_csv\u001b[0m\u001b[0;34m(\u001b[0m\u001b[0;34m'/media/kelson/DataCenter/UFU/tese/datasets/unsw15/UNSW_NB15_CSV_Files//UNSW-NB15_3.csv'\u001b[0m\u001b[0;34m,\u001b[0m \u001b[0mlow_memory\u001b[0m\u001b[0;34m=\u001b[0m\u001b[0;32mFalse\u001b[0m\u001b[0;34m)\u001b[0m\u001b[0;34m\u001b[0m\u001b[0;34m\u001b[0m\u001b[0m\n\u001b[1;32m      5\u001b[0m \u001b[0mdf_unsw4\u001b[0m \u001b[0;34m=\u001b[0m \u001b[0mpd\u001b[0m\u001b[0;34m.\u001b[0m\u001b[0mread_csv\u001b[0m\u001b[0;34m(\u001b[0m\u001b[0;34m'/media/kelson/DataCenter/UFU/tese/datasets/unsw15/UNSW_NB15_CSV_Files//UNSW-NB15_4.csv'\u001b[0m\u001b[0;34m,\u001b[0m \u001b[0mlow_memory\u001b[0m\u001b[0;34m=\u001b[0m\u001b[0;32mFalse\u001b[0m\u001b[0;34m)\u001b[0m\u001b[0;34m\u001b[0m\u001b[0;34m\u001b[0m\u001b[0m\n",
      "\u001b[0;32m~/.local/lib/python3.8/site-packages/pandas/util/_decorators.py\u001b[0m in \u001b[0;36mwrapper\u001b[0;34m(*args, **kwargs)\u001b[0m\n\u001b[1;32m    309\u001b[0m                     \u001b[0mstacklevel\u001b[0m\u001b[0;34m=\u001b[0m\u001b[0mstacklevel\u001b[0m\u001b[0;34m,\u001b[0m\u001b[0;34m\u001b[0m\u001b[0;34m\u001b[0m\u001b[0m\n\u001b[1;32m    310\u001b[0m                 )\n\u001b[0;32m--> 311\u001b[0;31m             \u001b[0;32mreturn\u001b[0m \u001b[0mfunc\u001b[0m\u001b[0;34m(\u001b[0m\u001b[0;34m*\u001b[0m\u001b[0margs\u001b[0m\u001b[0;34m,\u001b[0m \u001b[0;34m**\u001b[0m\u001b[0mkwargs\u001b[0m\u001b[0;34m)\u001b[0m\u001b[0;34m\u001b[0m\u001b[0;34m\u001b[0m\u001b[0m\n\u001b[0m\u001b[1;32m    312\u001b[0m \u001b[0;34m\u001b[0m\u001b[0m\n\u001b[1;32m    313\u001b[0m         \u001b[0;32mreturn\u001b[0m \u001b[0mwrapper\u001b[0m\u001b[0;34m\u001b[0m\u001b[0;34m\u001b[0m\u001b[0m\n",
      "\u001b[0;32m~/.local/lib/python3.8/site-packages/pandas/io/parsers/readers.py\u001b[0m in \u001b[0;36mread_csv\u001b[0;34m(filepath_or_buffer, sep, delimiter, header, names, index_col, usecols, squeeze, prefix, mangle_dupe_cols, dtype, engine, converters, true_values, false_values, skipinitialspace, skiprows, skipfooter, nrows, na_values, keep_default_na, na_filter, verbose, skip_blank_lines, parse_dates, infer_datetime_format, keep_date_col, date_parser, dayfirst, cache_dates, iterator, chunksize, compression, thousands, decimal, lineterminator, quotechar, quoting, doublequote, escapechar, comment, encoding, encoding_errors, dialect, error_bad_lines, warn_bad_lines, on_bad_lines, delim_whitespace, low_memory, memory_map, float_precision, storage_options)\u001b[0m\n\u001b[1;32m    584\u001b[0m     \u001b[0mkwds\u001b[0m\u001b[0;34m.\u001b[0m\u001b[0mupdate\u001b[0m\u001b[0;34m(\u001b[0m\u001b[0mkwds_defaults\u001b[0m\u001b[0;34m)\u001b[0m\u001b[0;34m\u001b[0m\u001b[0;34m\u001b[0m\u001b[0m\n\u001b[1;32m    585\u001b[0m \u001b[0;34m\u001b[0m\u001b[0m\n\u001b[0;32m--> 586\u001b[0;31m     \u001b[0;32mreturn\u001b[0m \u001b[0m_read\u001b[0m\u001b[0;34m(\u001b[0m\u001b[0mfilepath_or_buffer\u001b[0m\u001b[0;34m,\u001b[0m \u001b[0mkwds\u001b[0m\u001b[0;34m)\u001b[0m\u001b[0;34m\u001b[0m\u001b[0;34m\u001b[0m\u001b[0m\n\u001b[0m\u001b[1;32m    587\u001b[0m \u001b[0;34m\u001b[0m\u001b[0m\n\u001b[1;32m    588\u001b[0m \u001b[0;34m\u001b[0m\u001b[0m\n",
      "\u001b[0;32m~/.local/lib/python3.8/site-packages/pandas/io/parsers/readers.py\u001b[0m in \u001b[0;36m_read\u001b[0;34m(filepath_or_buffer, kwds)\u001b[0m\n\u001b[1;32m    480\u001b[0m \u001b[0;34m\u001b[0m\u001b[0m\n\u001b[1;32m    481\u001b[0m     \u001b[0;31m# Create the parser.\u001b[0m\u001b[0;34m\u001b[0m\u001b[0;34m\u001b[0m\u001b[0;34m\u001b[0m\u001b[0m\n\u001b[0;32m--> 482\u001b[0;31m     \u001b[0mparser\u001b[0m \u001b[0;34m=\u001b[0m \u001b[0mTextFileReader\u001b[0m\u001b[0;34m(\u001b[0m\u001b[0mfilepath_or_buffer\u001b[0m\u001b[0;34m,\u001b[0m \u001b[0;34m**\u001b[0m\u001b[0mkwds\u001b[0m\u001b[0;34m)\u001b[0m\u001b[0;34m\u001b[0m\u001b[0;34m\u001b[0m\u001b[0m\n\u001b[0m\u001b[1;32m    483\u001b[0m \u001b[0;34m\u001b[0m\u001b[0m\n\u001b[1;32m    484\u001b[0m     \u001b[0;32mif\u001b[0m \u001b[0mchunksize\u001b[0m \u001b[0;32mor\u001b[0m \u001b[0miterator\u001b[0m\u001b[0;34m:\u001b[0m\u001b[0;34m\u001b[0m\u001b[0;34m\u001b[0m\u001b[0m\n",
      "\u001b[0;32m~/.local/lib/python3.8/site-packages/pandas/io/parsers/readers.py\u001b[0m in \u001b[0;36m__init__\u001b[0;34m(self, f, engine, **kwds)\u001b[0m\n\u001b[1;32m    809\u001b[0m             \u001b[0mself\u001b[0m\u001b[0;34m.\u001b[0m\u001b[0moptions\u001b[0m\u001b[0;34m[\u001b[0m\u001b[0;34m\"has_index_names\"\u001b[0m\u001b[0;34m]\u001b[0m \u001b[0;34m=\u001b[0m \u001b[0mkwds\u001b[0m\u001b[0;34m[\u001b[0m\u001b[0;34m\"has_index_names\"\u001b[0m\u001b[0;34m]\u001b[0m\u001b[0;34m\u001b[0m\u001b[0;34m\u001b[0m\u001b[0m\n\u001b[1;32m    810\u001b[0m \u001b[0;34m\u001b[0m\u001b[0m\n\u001b[0;32m--> 811\u001b[0;31m         \u001b[0mself\u001b[0m\u001b[0;34m.\u001b[0m\u001b[0m_engine\u001b[0m \u001b[0;34m=\u001b[0m \u001b[0mself\u001b[0m\u001b[0;34m.\u001b[0m\u001b[0m_make_engine\u001b[0m\u001b[0;34m(\u001b[0m\u001b[0mself\u001b[0m\u001b[0;34m.\u001b[0m\u001b[0mengine\u001b[0m\u001b[0;34m)\u001b[0m\u001b[0;34m\u001b[0m\u001b[0;34m\u001b[0m\u001b[0m\n\u001b[0m\u001b[1;32m    812\u001b[0m \u001b[0;34m\u001b[0m\u001b[0m\n\u001b[1;32m    813\u001b[0m     \u001b[0;32mdef\u001b[0m \u001b[0mclose\u001b[0m\u001b[0;34m(\u001b[0m\u001b[0mself\u001b[0m\u001b[0;34m)\u001b[0m\u001b[0;34m:\u001b[0m\u001b[0;34m\u001b[0m\u001b[0;34m\u001b[0m\u001b[0m\n",
      "\u001b[0;32m~/.local/lib/python3.8/site-packages/pandas/io/parsers/readers.py\u001b[0m in \u001b[0;36m_make_engine\u001b[0;34m(self, engine)\u001b[0m\n\u001b[1;32m   1038\u001b[0m             )\n\u001b[1;32m   1039\u001b[0m         \u001b[0;31m# error: Too many arguments for \"ParserBase\"\u001b[0m\u001b[0;34m\u001b[0m\u001b[0;34m\u001b[0m\u001b[0;34m\u001b[0m\u001b[0m\n\u001b[0;32m-> 1040\u001b[0;31m         \u001b[0;32mreturn\u001b[0m \u001b[0mmapping\u001b[0m\u001b[0;34m[\u001b[0m\u001b[0mengine\u001b[0m\u001b[0;34m]\u001b[0m\u001b[0;34m(\u001b[0m\u001b[0mself\u001b[0m\u001b[0;34m.\u001b[0m\u001b[0mf\u001b[0m\u001b[0;34m,\u001b[0m \u001b[0;34m**\u001b[0m\u001b[0mself\u001b[0m\u001b[0;34m.\u001b[0m\u001b[0moptions\u001b[0m\u001b[0;34m)\u001b[0m  \u001b[0;31m# type: ignore[call-arg]\u001b[0m\u001b[0;34m\u001b[0m\u001b[0;34m\u001b[0m\u001b[0m\n\u001b[0m\u001b[1;32m   1041\u001b[0m \u001b[0;34m\u001b[0m\u001b[0m\n\u001b[1;32m   1042\u001b[0m     \u001b[0;32mdef\u001b[0m \u001b[0m_failover_to_python\u001b[0m\u001b[0;34m(\u001b[0m\u001b[0mself\u001b[0m\u001b[0;34m)\u001b[0m\u001b[0;34m:\u001b[0m\u001b[0;34m\u001b[0m\u001b[0;34m\u001b[0m\u001b[0m\n",
      "\u001b[0;32m~/.local/lib/python3.8/site-packages/pandas/io/parsers/c_parser_wrapper.py\u001b[0m in \u001b[0;36m__init__\u001b[0;34m(self, src, **kwds)\u001b[0m\n\u001b[1;32m     49\u001b[0m \u001b[0;34m\u001b[0m\u001b[0m\n\u001b[1;32m     50\u001b[0m         \u001b[0;31m# open handles\u001b[0m\u001b[0;34m\u001b[0m\u001b[0;34m\u001b[0m\u001b[0;34m\u001b[0m\u001b[0m\n\u001b[0;32m---> 51\u001b[0;31m         \u001b[0mself\u001b[0m\u001b[0;34m.\u001b[0m\u001b[0m_open_handles\u001b[0m\u001b[0;34m(\u001b[0m\u001b[0msrc\u001b[0m\u001b[0;34m,\u001b[0m \u001b[0mkwds\u001b[0m\u001b[0;34m)\u001b[0m\u001b[0;34m\u001b[0m\u001b[0;34m\u001b[0m\u001b[0m\n\u001b[0m\u001b[1;32m     52\u001b[0m         \u001b[0;32massert\u001b[0m \u001b[0mself\u001b[0m\u001b[0;34m.\u001b[0m\u001b[0mhandles\u001b[0m \u001b[0;32mis\u001b[0m \u001b[0;32mnot\u001b[0m \u001b[0;32mNone\u001b[0m\u001b[0;34m\u001b[0m\u001b[0;34m\u001b[0m\u001b[0m\n\u001b[1;32m     53\u001b[0m \u001b[0;34m\u001b[0m\u001b[0m\n",
      "\u001b[0;32m~/.local/lib/python3.8/site-packages/pandas/io/parsers/base_parser.py\u001b[0m in \u001b[0;36m_open_handles\u001b[0;34m(self, src, kwds)\u001b[0m\n\u001b[1;32m    220\u001b[0m         \u001b[0mLet\u001b[0m \u001b[0mthe\u001b[0m \u001b[0mreaders\u001b[0m \u001b[0mopen\u001b[0m \u001b[0mIOHandles\u001b[0m \u001b[0mafter\u001b[0m \u001b[0mthey\u001b[0m \u001b[0mare\u001b[0m \u001b[0mdone\u001b[0m \u001b[0;32mwith\u001b[0m \u001b[0mtheir\u001b[0m \u001b[0mpotential\u001b[0m \u001b[0mraises\u001b[0m\u001b[0;34m.\u001b[0m\u001b[0;34m\u001b[0m\u001b[0;34m\u001b[0m\u001b[0m\n\u001b[1;32m    221\u001b[0m         \"\"\"\n\u001b[0;32m--> 222\u001b[0;31m         self.handles = get_handle(\n\u001b[0m\u001b[1;32m    223\u001b[0m             \u001b[0msrc\u001b[0m\u001b[0;34m,\u001b[0m\u001b[0;34m\u001b[0m\u001b[0;34m\u001b[0m\u001b[0m\n\u001b[1;32m    224\u001b[0m             \u001b[0;34m\"r\"\u001b[0m\u001b[0;34m,\u001b[0m\u001b[0;34m\u001b[0m\u001b[0;34m\u001b[0m\u001b[0m\n",
      "\u001b[0;32m~/.local/lib/python3.8/site-packages/pandas/io/common.py\u001b[0m in \u001b[0;36mget_handle\u001b[0;34m(path_or_buf, mode, encoding, compression, memory_map, is_text, errors, storage_options)\u001b[0m\n\u001b[1;32m    700\u001b[0m         \u001b[0;32mif\u001b[0m \u001b[0mioargs\u001b[0m\u001b[0;34m.\u001b[0m\u001b[0mencoding\u001b[0m \u001b[0;32mand\u001b[0m \u001b[0;34m\"b\"\u001b[0m \u001b[0;32mnot\u001b[0m \u001b[0;32min\u001b[0m \u001b[0mioargs\u001b[0m\u001b[0;34m.\u001b[0m\u001b[0mmode\u001b[0m\u001b[0;34m:\u001b[0m\u001b[0;34m\u001b[0m\u001b[0;34m\u001b[0m\u001b[0m\n\u001b[1;32m    701\u001b[0m             \u001b[0;31m# Encoding\u001b[0m\u001b[0;34m\u001b[0m\u001b[0;34m\u001b[0m\u001b[0;34m\u001b[0m\u001b[0m\n\u001b[0;32m--> 702\u001b[0;31m             handle = open(\n\u001b[0m\u001b[1;32m    703\u001b[0m                 \u001b[0mhandle\u001b[0m\u001b[0;34m,\u001b[0m\u001b[0;34m\u001b[0m\u001b[0;34m\u001b[0m\u001b[0m\n\u001b[1;32m    704\u001b[0m                 \u001b[0mioargs\u001b[0m\u001b[0;34m.\u001b[0m\u001b[0mmode\u001b[0m\u001b[0;34m,\u001b[0m\u001b[0;34m\u001b[0m\u001b[0;34m\u001b[0m\u001b[0m\n",
      "\u001b[0;31mFileNotFoundError\u001b[0m: [Errno 2] No such file or directory: '/media/kelson/DataCenter/UFU/tese/datasets/unsw15/UNSW_NB15_CSV_Files/UNSW-NB15_1.csv'"
     ]
    }
   ],
   "source": [
    "df_unsw1 = pd.read_csv('/media/kelson/DataCenter/UFU/tese/datasets/unsw15/UNSW_NB15_CSV_Files/UNSW-NB15_1.csv', low_memory=False)\n",
    "df_unsw1.columns = [nome_coluna.strip().replace(' ', '_').replace('/', '_') for nome_coluna in df_unsw1.columns]\n",
    "df_unsw2 = pd.read_csv('/media/kelson/DataCenter/UFU/tese/datasets/unsw15/UNSW_NB15_CSV_Files//UNSW-NB15_2.csv', low_memory=False)\n",
    "df_unsw3 = pd.read_csv('/media/kelson/DataCenter/UFU/tese/datasets/unsw15/UNSW_NB15_CSV_Files//UNSW-NB15_3.csv', low_memory=False)\n",
    "df_unsw4 = pd.read_csv('/media/kelson/DataCenter/UFU/tese/datasets/unsw15/UNSW_NB15_CSV_Files//UNSW-NB15_4.csv', low_memory=False)"
   ]
  },
  {
   "cell_type": "code",
   "execution_count": null,
   "id": "4000862e",
   "metadata": {},
   "outputs": [],
   "source": [
    "df_unsw1.columns"
   ]
  },
  {
   "cell_type": "code",
   "execution_count": null,
   "id": "c7ed5a24",
   "metadata": {},
   "outputs": [],
   "source": [
    "# os nomes das colunas dos datasets 2, 3 e 4 estão faltando\n",
    "df_unsw3"
   ]
  },
  {
   "cell_type": "markdown",
   "id": "d9e1dbb2",
   "metadata": {},
   "source": [
    "# Análise e tratamento das colunas (renomeando)"
   ]
  },
  {
   "cell_type": "code",
   "execution_count": null,
   "id": "b4619fc6",
   "metadata": {},
   "outputs": [],
   "source": [
    "# criando as colunas do dataset 2\n",
    "df_unsw2 = df_unsw2.rename(columns={'59.166.0.0':'srcip',\n",
    "                          '6055':'sport',\n",
    "                          '149.171.126.5':'dstip',\n",
    "                          '54145':'dsport',\n",
    "                          'tcp':'proto',\n",
    "                          'FIN':'state',\n",
    "                          '0.072974':'dur',\n",
    "                          '4238':'sbytes',\n",
    "                          '60788':'dbytes',\n",
    "                          '31':'sttl',\n",
    "                          '29':'dttl',\n",
    "                          '7':'sloss',\n",
    "                          '30':'dloss',\n",
    "                          '-':'service',\n",
    "                          '458245.4375':'Sload',\n",
    "                          '6571546.5':'Dload',\n",
    "                          '72':'Spkts',\n",
    "                          '72.1':'Dpkts',\n",
    "                          '255':'swin',\n",
    "                          '255.1':'dwin',\n",
    "                          '1003293149':'stcpb',\n",
    "                          '1003585034':'dtcpb',\n",
    "                          '59':'smeansz',\n",
    "                          '844':'dmeansz',\n",
    "                          '0':'trans_depth',\n",
    "                          '0.1':'res_bdy_len',\n",
    "                          '62.04531':'Sjit',\n",
    "                          '61.899776':'Djit',\n",
    "                          '1421955842':'Stime',\n",
    "                          '1421955842.1':'Ltime',\n",
    "                          '1.02269':'Sintpkt',\n",
    "                          '0.997042':'Dintpkt',\n",
    "                          '0.002317':'tcprtt',\n",
    "                          '0.002173':'synack',\n",
    "                          '0.000144':'ackdat',\n",
    "                          '0.2':'is_sm_ips_ports',\n",
    "                          '0.3':'ct_state_ttl',\n",
    "                          '0.4':'ct_flw_http_mthd',\n",
    "                          '0.5':'is_ftp_login',\n",
    "                          '0.6':'ct_ftp_cmd',\n",
    "                          '13':'ct_srv_src',\n",
    "                          '13.1':'ct_srv_dst',\n",
    "                          '6':'ct_dst_ltm',\n",
    "                          '7.1':'ct_src__ltm',\n",
    "                          '1':'ct_src_dport_ltm',\n",
    "                          '1.1':'ct_dst_sport_ltm',\n",
    "                          '2':'ct_dst_src_ltm',\n",
    "                          'Unnamed: 47':'attack_cat',\n",
    "                          '0.7':'Label'})\n",
    "df_unsw2"
   ]
  },
  {
   "cell_type": "code",
   "execution_count": null,
   "id": "be9e7c92",
   "metadata": {},
   "outputs": [],
   "source": [
    "# criando as colunas do dataset 3\n",
    "df_unsw3 = df_unsw3.rename(columns={'59.166.0.1':'srcip',\n",
    "                          '18247':'sport',\n",
    "                          '149.171.126.4':'dstip',\n",
    "                          '7662':'dsport',\n",
    "                          'tcp':'proto',\n",
    "                          'FIN':'state',\n",
    "                          '0.119596':'dur',\n",
    "                          '4550':'sbytes',\n",
    "                          '68342':'dbytes',\n",
    "                          '31':'sttl',\n",
    "                          '29':'dttl',\n",
    "                          '7':'sloss',\n",
    "                          '33':'dloss',\n",
    "                          '-':'service',\n",
    "                          '300478.2813':'Sload',\n",
    "                          '4514398.5':'Dload',\n",
    "                          '78':'Spkts',\n",
    "                          '80':'Dpkts',\n",
    "                          '255':'swin',\n",
    "                          '255.1':'dwin',\n",
    "                          '1818376620':'stcpb',\n",
    "                          '1818657356':'dtcpb',\n",
    "                          '58':'smeansz',\n",
    "                          '854':'dmeansz',\n",
    "                          '0':'trans_depth',\n",
    "                          '0.1':'res_bdy_len',\n",
    "                          '87.137592':'Sjit',\n",
    "                          '85.643619':'Djit',\n",
    "                          '1424231129':'Stime',\n",
    "                          '1424231129.1':'Ltime',\n",
    "                          '1.549156':'Sintpkt',\n",
    "                          '1.50719':'Dintpkt',\n",
    "                          '0.000644':'tcprtt',\n",
    "                          '0.000521':'synack',\n",
    "                          '0.000123':'ackdat',\n",
    "                          '0.2':'is_sm_ips_ports',\n",
    "                          '0.3':'ct_state_ttl',\n",
    "                          'Unnamed: 37':'ct_flw_http_mthd',\n",
    "                          'Unnamed: 38':'is_ftp_login',\n",
    "                          ' ':'ct_ftp_cmd',\n",
    "                          '6':'ct_srv_src',\n",
    "                          '2':'ct_srv_dst',\n",
    "                          '2.1':'ct_dst_ltm',\n",
    "                          '5':'ct_src__ltm',\n",
    "                          '1':'ct_src_dport_ltm',\n",
    "                          '1.1':'ct_dst_sport_ltm',\n",
    "                          '2.2':'ct_dst_src_ltm',\n",
    "                          'Unnamed: 47':'attack_cat',\n",
    "                          '0.4':'Label'})\n",
    "df_unsw3"
   ]
  },
  {
   "cell_type": "code",
   "execution_count": null,
   "id": "df5156d0",
   "metadata": {},
   "outputs": [],
   "source": [
    "# criando as colunas do dataset 4\n",
    "df_unsw4 = df_unsw4.rename(columns={'59.166.0.9':'srcip',\n",
    "                          '7045':'sport',\n",
    "                          '149.171.126.7':'dstip',\n",
    "                          '25':'dsport',\n",
    "                          'tcp':'proto',\n",
    "                          'FIN':'state',\n",
    "                          '0.201886':'dur',\n",
    "                          '37552':'sbytes',\n",
    "                          '3380':'dbytes',\n",
    "                          '31':'sttl',\n",
    "                          '29':'dttl',\n",
    "                          '18':'sloss',\n",
    "                          '8':'dloss',\n",
    "                          'smtp':'service',\n",
    "                          '1459437.5':'Sload',\n",
    "                          '130766.8672':'Dload',\n",
    "                          '52':'Spkts',\n",
    "                          '42':'Dpkts',\n",
    "                          '255':'swin',\n",
    "                          '255.1':'dwin',\n",
    "                          '1422136554':'stcpb',\n",
    "                          '3572668484':'dtcpb',\n",
    "                          '722':'smeansz',\n",
    "                          '80':'dmeansz',\n",
    "                          '0':'trans_depth',\n",
    "                          '0.1':'res_bdy_len',\n",
    "                          '456.043567':'Sjit',\n",
    "                          '15.530109':'Djit',\n",
    "                          '1424250009':'Stime',\n",
    "                          '1424250009.1':'Ltime',\n",
    "                          '3.943843':'Sintpkt',\n",
    "                          '4.912488':'Dintpkt',\n",
    "                          '0.00059':'tcprtt',\n",
    "                          '0.000473':'synack',\n",
    "                          '0.000117':'ackdat',\n",
    "                          '0.2':'is_sm_ips_ports',\n",
    "                          '0.3':'ct_state_ttl',\n",
    "                          'Unnamed: 37':'ct_flw_http_mthd',\n",
    "                          'Unnamed: 38':'is_ftp_login',\n",
    "                          ' ':'ct_ftp_cmd',\n",
    "                          '2':'ct_srv_src',\n",
    "                          '2.1':'ct_srv_dst',\n",
    "                          '7':'ct_dst_ltm',\n",
    "                          '4':'ct_src__ltm',\n",
    "                          '1':'ct_src_dport_ltm',\n",
    "                          '1.1':'ct_dst_sport_ltm',\n",
    "                          '3':'ct_dst_src_ltm',\n",
    "                          'Unnamed: 47':'attack_cat',\n",
    "                          '0.4':'Label'})\n",
    "df_unsw4"
   ]
  },
  {
   "cell_type": "code",
   "execution_count": null,
   "id": "7d7d62dc",
   "metadata": {},
   "outputs": [],
   "source": [
    "# juntandos os datasets 1, 2, 3 e 4\n",
    "df_unsw = pd.concat([df_unsw1, df_unsw2, df_unsw3, df_unsw4])"
   ]
  },
  {
   "cell_type": "code",
   "execution_count": null,
   "id": "6a6686b5",
   "metadata": {},
   "outputs": [],
   "source": [
    "# os índices estão duplicados\n",
    "df_unsw.loc[[100]]"
   ]
  },
  {
   "cell_type": "code",
   "execution_count": null,
   "id": "51e4facc",
   "metadata": {},
   "outputs": [],
   "source": [
    "# reseta os índices e faz a verificação\n",
    "df_unsw.reset_index(drop=True, inplace=True)\n",
    "df_unsw.loc[[100]]"
   ]
  },
  {
   "cell_type": "code",
   "execution_count": null,
   "id": "2a2db818",
   "metadata": {},
   "outputs": [],
   "source": [
    "#pd.set_option(\"display.max_columns\", None)\n",
    "#print(df_unsw.head(100))\n",
    "#pd.set_option(\"display.max_columns\", False)"
   ]
  },
  {
   "cell_type": "code",
   "execution_count": null,
   "id": "5e3ce8dd",
   "metadata": {},
   "outputs": [],
   "source": [
    "df_unsw.ct_flw_http_mthd.value_counts()"
   ]
  },
  {
   "cell_type": "code",
   "execution_count": null,
   "id": "2ae21c66",
   "metadata": {},
   "outputs": [],
   "source": [
    "# visualizando os valores nulos\n",
    "df_unsw.isnull().sum()"
   ]
  },
  {
   "cell_type": "code",
   "execution_count": null,
   "id": "9972ab2e",
   "metadata": {
    "scrolled": true
   },
   "outputs": [],
   "source": [
    "# consulta quantidade de registro de uma categoria dentro da coluna específica\n",
    "#df_unsw.ct_flw_http_mthd.value_counts()"
   ]
  },
  {
   "cell_type": "code",
   "execution_count": null,
   "id": "b35228a1",
   "metadata": {},
   "outputs": [],
   "source": [
    "# retorna todas as linhas com NaN da coluna específica\n",
    "# ct_flw_http_mthd\n",
    "# is_ftp_login\n",
    "# attack_cat\n",
    "df_unsw[df_unsw['ct_flw_http_mthd'].isnull()].head(100)"
   ]
  },
  {
   "cell_type": "code",
   "execution_count": null,
   "id": "f2f1b0ca",
   "metadata": {},
   "outputs": [],
   "source": [
    "# substituir valores NaN da coluna específica\n",
    "df_unsw['attack_cat'].fillna('Benign', inplace=True)\n",
    "df_unsw['is_ftp_login'].fillna(3, inplace=True)\n",
    "df_unsw['ct_flw_http_mthd'].fillna(7, inplace=True)"
   ]
  },
  {
   "cell_type": "code",
   "execution_count": null,
   "id": "a7a707c1",
   "metadata": {},
   "outputs": [],
   "source": [
    "#df_unsw.isnull().sum()\n",
    "# ct_flw_http_mthd\n",
    "# is_ftp_login\n",
    "# attack_cat\n",
    "df_unsw.is_ftp_login.value_counts()"
   ]
  },
  {
   "cell_type": "code",
   "execution_count": null,
   "id": "9b178d7e",
   "metadata": {},
   "outputs": [],
   "source": [
    "# uniificando os ataques duplicados\n",
    "df_unsw.loc[df_unsw.attack_cat == 'Backdoors', df_unsw.attack_cat.name] = 'Backdoor'\n",
    "df_unsw.loc[df_unsw.attack_cat == ' Reconnaissance ', df_unsw.attack_cat.name] = 'Reconnaissance'\n",
    "df_unsw.loc[df_unsw.attack_cat == ' Shellcode ', df_unsw.attack_cat.name] = 'Shellcode'\n",
    "df_unsw.loc[df_unsw.attack_cat == ' Fuzzers ', df_unsw.attack_cat.name] = 'Fuzzers'\n",
    "df_unsw.loc[df_unsw.attack_cat == ' Fuzzers', df_unsw.attack_cat.name] = 'Fuzzers'"
   ]
  },
  {
   "cell_type": "code",
   "execution_count": null,
   "id": "290aefc3",
   "metadata": {},
   "outputs": [],
   "source": [
    "df_unsw.attack_cat.value_counts()"
   ]
  },
  {
   "cell_type": "code",
   "execution_count": null,
   "id": "1dca77c1",
   "metadata": {},
   "outputs": [],
   "source": [
    "# FAZER APENAS NO PRÉ-PROCESSAMENTO\n",
    "# colunas excluídas que não possuem influência na detecção\n",
    "#df_unsw =  df_unsw.drop(['srcip', 'sport', 'dstip', 'dsport', 'Stime', 'Ltime'], axis='columns')\n",
    "#df_unsw.shape"
   ]
  },
  {
   "cell_type": "code",
   "execution_count": null,
   "id": "fa6c8dbe",
   "metadata": {},
   "outputs": [],
   "source": [
    "# alterando nome (-) da classe service para 'others'\n",
    "df_unsw.loc[df_unsw.service == '-', df_unsw.service.name] = 'others'\n",
    "# alterando nome ' ' da classe ct_ftp_cmd para '7'\n",
    "df_unsw.loc[df_unsw.ct_ftp_cmd == ' ', df_unsw.ct_ftp_cmd.name] = '7'"
   ]
  },
  {
   "cell_type": "code",
   "execution_count": null,
   "id": "6e5419a8",
   "metadata": {},
   "outputs": [],
   "source": [
    "df_unsw.sport.value_counts()"
   ]
  },
  {
   "cell_type": "code",
   "execution_count": null,
   "id": "ad3a6ac9",
   "metadata": {},
   "outputs": [],
   "source": [
    "pd.set_option('display.max_rows', None)\n",
    "print(df_unsw.dtypes)\n",
    "pd.set_option('display.max_rows', False)"
   ]
  },
  {
   "cell_type": "code",
   "execution_count": null,
   "id": "91395f3f",
   "metadata": {},
   "outputs": [],
   "source": [
    "# convertendo variáveis específicas de nominal para inteiro\n",
    "#df_unsw['ct_ftp_cmd'] = df_unsw['ct_ftp_cmd'].astype(int)\n",
    "#df_unsw['srcip'] = df_unsw['srcip'].astype(float)"
   ]
  },
  {
   "cell_type": "code",
   "execution_count": null,
   "id": "98a1bcc0",
   "metadata": {},
   "outputs": [],
   "source": [
    "# verifica detalhes das variáveis\n",
    "# variáveis nominais: #proto #state #service #ct_ftp_cmd\n",
    "#df_unsw.shape\n",
    "#df_unsw.describe()\n",
    "#df_unsw.dtypes\n",
    "#df_unsw.ct_ftp_cmd.value_counts()\n",
    "#np.unique(df_unsw['sport'])\n",
    "#len(np.unique(df_unsw.ct_ftp_cmd))\n",
    "pd.set_option('display.max_rows', None)\n",
    "print(df_unsw.dtypes)\n",
    "pd.set_option('display.max_rows', False)"
   ]
  },
  {
   "cell_type": "code",
   "execution_count": null,
   "id": "49ddd6cf",
   "metadata": {},
   "outputs": [],
   "source": [
    "# exportar dataset unsw completo\n",
    "df_unsw.to_csv('/media/kelson/datacenter/unsw15/unsw15_full.csv', index=False)"
   ]
  }
 ],
 "metadata": {
  "kernelspec": {
   "display_name": "Python 3 (ipykernel)",
   "language": "python",
   "name": "python3"
  },
  "language_info": {
   "codemirror_mode": {
    "name": "ipython",
    "version": 3
   },
   "file_extension": ".py",
   "mimetype": "text/x-python",
   "name": "python",
   "nbconvert_exporter": "python",
   "pygments_lexer": "ipython3",
   "version": "3.8.10"
  }
 },
 "nbformat": 4,
 "nbformat_minor": 5
}
