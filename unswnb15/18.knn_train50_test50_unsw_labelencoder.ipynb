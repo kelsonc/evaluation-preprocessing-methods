{
 "cells": [
  {
   "cell_type": "code",
   "execution_count": 1,
   "id": "a2d43fbb",
   "metadata": {},
   "outputs": [],
   "source": [
    "import pandas as pd\n",
    "import numpy as np\n",
    "import seaborn as sns\n",
    "import matplotlib.pyplot as plt\n",
    "from sklearn.metrics import accuracy_score, classification_report, ConfusionMatrixDisplay\n",
    "from sklearn.model_selection import cross_val_score, KFold"
   ]
  },
  {
   "cell_type": "markdown",
   "id": "d95361a0",
   "metadata": {},
   "source": [
    "# Carregando as variáveis train e validation do dataset UNSW Train50"
   ]
  },
  {
   "cell_type": "code",
   "execution_count": 2,
   "id": "01ab4926",
   "metadata": {},
   "outputs": [],
   "source": [
    "import pickle"
   ]
  },
  {
   "cell_type": "code",
   "execution_count": 3,
   "id": "6a179f41",
   "metadata": {},
   "outputs": [],
   "source": [
    "with open('df_unsw_train50_no_preprocessing_labelencoder', mode = 'rb') as f:\n",
    "    X_train50_train, X_train50_test, y_train50_multiclass_train, y_train50_multiclass_test, y_train50_binary_train, y_train50_binary_test = pickle.load(f)"
   ]
  },
  {
   "cell_type": "code",
   "execution_count": 4,
   "id": "21ca93aa",
   "metadata": {},
   "outputs": [
    {
     "name": "stdout",
     "output_type": "stream",
     "text": [
      "X treino =  (889011, 47)\n",
      "X teste =  (381005, 47)\n",
      "y multiclasse treino =  (889011,)\n",
      "y multiclasse teste =  (381005,)\n",
      "y binário treino =  (889011,)\n",
      "y binário teste =  (381005,)\n"
     ]
    }
   ],
   "source": [
    "print('X treino = ', X_train50_train.shape)\n",
    "print('X teste = ', X_train50_test.shape)\n",
    "print('y multiclasse treino = ', y_train50_multiclass_train.shape)\n",
    "print('y multiclasse teste = ', y_train50_multiclass_test.shape)\n",
    "print('y binário treino = ', y_train50_binary_train.shape)\n",
    "print('y binário teste = ', y_train50_binary_test.shape)"
   ]
  },
  {
   "cell_type": "code",
   "execution_count": 5,
   "id": "da0d4806",
   "metadata": {},
   "outputs": [
    {
     "data": {
      "text/plain": [
       "0    776437\n",
       "1    112574\n",
       "Name: Label_binary, dtype: int64"
      ]
     },
     "execution_count": 5,
     "metadata": {},
     "output_type": "execute_result"
    }
   ],
   "source": [
    "y_train50_binary_train.value_counts()"
   ]
  },
  {
   "cell_type": "code",
   "execution_count": 6,
   "id": "b9ab9f4a",
   "metadata": {},
   "outputs": [
    {
     "data": {
      "text/plain": [
       "Benign            776437\n",
       "Generic            75438\n",
       "Exploits           15636\n",
       "Fuzzers             8501\n",
       "DoS                 5679\n",
       "Reconnaissance      4965\n",
       "Analysis             928\n",
       "Backdoor             822\n",
       "Shellcode            544\n",
       "Worms                 61\n",
       "Name: Label_multiclass, dtype: int64"
      ]
     },
     "execution_count": 6,
     "metadata": {},
     "output_type": "execute_result"
    }
   ],
   "source": [
    "y_train50_multiclass_train.value_counts()"
   ]
  },
  {
   "cell_type": "code",
   "execution_count": 7,
   "id": "5766c937",
   "metadata": {},
   "outputs": [
    {
     "data": {
      "text/plain": [
       "0    332943\n",
       "1     48062\n",
       "Name: Label_binary, dtype: int64"
      ]
     },
     "execution_count": 7,
     "metadata": {},
     "output_type": "execute_result"
    }
   ],
   "source": [
    "y_train50_binary_test.value_counts()"
   ]
  },
  {
   "cell_type": "code",
   "execution_count": 8,
   "id": "9237bf90",
   "metadata": {},
   "outputs": [
    {
     "data": {
      "text/plain": [
       "Benign            332943\n",
       "Generic            32302\n",
       "Exploits            6626\n",
       "Fuzzers             3621\n",
       "DoS                 2497\n",
       "Reconnaissance      2028\n",
       "Analysis             410\n",
       "Backdoor             342\n",
       "Shellcode            211\n",
       "Worms                 25\n",
       "Name: Label_multiclass, dtype: int64"
      ]
     },
     "execution_count": 8,
     "metadata": {},
     "output_type": "execute_result"
    }
   ],
   "source": [
    "y_train50_multiclass_test.value_counts()"
   ]
  },
  {
   "cell_type": "code",
   "execution_count": 9,
   "id": "2e6c14af",
   "metadata": {},
   "outputs": [
    {
     "data": {
      "text/html": [
       "<div>\n",
       "<style scoped>\n",
       "    .dataframe tbody tr th:only-of-type {\n",
       "        vertical-align: middle;\n",
       "    }\n",
       "\n",
       "    .dataframe tbody tr th {\n",
       "        vertical-align: top;\n",
       "    }\n",
       "\n",
       "    .dataframe thead th {\n",
       "        text-align: right;\n",
       "    }\n",
       "</style>\n",
       "<table border=\"1\" class=\"dataframe\">\n",
       "  <thead>\n",
       "    <tr style=\"text-align: right;\">\n",
       "      <th></th>\n",
       "      <th>srcip</th>\n",
       "      <th>sport</th>\n",
       "      <th>dstip</th>\n",
       "      <th>dsport</th>\n",
       "      <th>proto</th>\n",
       "      <th>state</th>\n",
       "      <th>dur</th>\n",
       "      <th>sbytes</th>\n",
       "      <th>dbytes</th>\n",
       "      <th>sttl</th>\n",
       "      <th>...</th>\n",
       "      <th>ct_flw_http_mthd</th>\n",
       "      <th>is_ftp_login</th>\n",
       "      <th>ct_ftp_cmd</th>\n",
       "      <th>ct_srv_src</th>\n",
       "      <th>ct_srv_dst</th>\n",
       "      <th>ct_dst_ltm</th>\n",
       "      <th>ct_src__ltm</th>\n",
       "      <th>ct_src_dport_ltm</th>\n",
       "      <th>ct_dst_sport_ltm</th>\n",
       "      <th>ct_dst_src_ltm</th>\n",
       "    </tr>\n",
       "  </thead>\n",
       "  <tbody>\n",
       "    <tr>\n",
       "      <th>1126124</th>\n",
       "      <td>38</td>\n",
       "      <td>63740</td>\n",
       "      <td>23</td>\n",
       "      <td>62606</td>\n",
       "      <td>114</td>\n",
       "      <td>5</td>\n",
       "      <td>1.004882</td>\n",
       "      <td>1580</td>\n",
       "      <td>10168</td>\n",
       "      <td>31</td>\n",
       "      <td>...</td>\n",
       "      <td>6.0</td>\n",
       "      <td>0.0</td>\n",
       "      <td>0</td>\n",
       "      <td>15</td>\n",
       "      <td>8</td>\n",
       "      <td>10</td>\n",
       "      <td>22</td>\n",
       "      <td>6</td>\n",
       "      <td>6</td>\n",
       "      <td>6</td>\n",
       "    </tr>\n",
       "    <tr>\n",
       "      <th>1202977</th>\n",
       "      <td>40</td>\n",
       "      <td>20344</td>\n",
       "      <td>22</td>\n",
       "      <td>50874</td>\n",
       "      <td>114</td>\n",
       "      <td>5</td>\n",
       "      <td>0.357506</td>\n",
       "      <td>2542</td>\n",
       "      <td>23508</td>\n",
       "      <td>31</td>\n",
       "      <td>...</td>\n",
       "      <td>7.0</td>\n",
       "      <td>3.0</td>\n",
       "      <td>7</td>\n",
       "      <td>6</td>\n",
       "      <td>7</td>\n",
       "      <td>6</td>\n",
       "      <td>5</td>\n",
       "      <td>1</td>\n",
       "      <td>1</td>\n",
       "      <td>2</td>\n",
       "    </tr>\n",
       "    <tr>\n",
       "      <th>39741</th>\n",
       "      <td>41</td>\n",
       "      <td>3394</td>\n",
       "      <td>20</td>\n",
       "      <td>61478</td>\n",
       "      <td>114</td>\n",
       "      <td>5</td>\n",
       "      <td>28.539139</td>\n",
       "      <td>36970</td>\n",
       "      <td>1641360</td>\n",
       "      <td>31</td>\n",
       "      <td>...</td>\n",
       "      <td>0.0</td>\n",
       "      <td>0.0</td>\n",
       "      <td>0</td>\n",
       "      <td>9</td>\n",
       "      <td>6</td>\n",
       "      <td>4</td>\n",
       "      <td>4</td>\n",
       "      <td>3</td>\n",
       "      <td>1</td>\n",
       "      <td>3</td>\n",
       "    </tr>\n",
       "    <tr>\n",
       "      <th>156053</th>\n",
       "      <td>38</td>\n",
       "      <td>53118</td>\n",
       "      <td>26</td>\n",
       "      <td>25911</td>\n",
       "      <td>114</td>\n",
       "      <td>5</td>\n",
       "      <td>0.512517</td>\n",
       "      <td>8928</td>\n",
       "      <td>320</td>\n",
       "      <td>31</td>\n",
       "      <td>...</td>\n",
       "      <td>0.0</td>\n",
       "      <td>0.0</td>\n",
       "      <td>0</td>\n",
       "      <td>9</td>\n",
       "      <td>3</td>\n",
       "      <td>3</td>\n",
       "      <td>8</td>\n",
       "      <td>2</td>\n",
       "      <td>1</td>\n",
       "      <td>2</td>\n",
       "    </tr>\n",
       "    <tr>\n",
       "      <th>1230603</th>\n",
       "      <td>37</td>\n",
       "      <td>58507</td>\n",
       "      <td>27</td>\n",
       "      <td>16512</td>\n",
       "      <td>114</td>\n",
       "      <td>5</td>\n",
       "      <td>0.045381</td>\n",
       "      <td>37500</td>\n",
       "      <td>3380</td>\n",
       "      <td>31</td>\n",
       "      <td>...</td>\n",
       "      <td>0.0</td>\n",
       "      <td>0.0</td>\n",
       "      <td>0</td>\n",
       "      <td>1</td>\n",
       "      <td>1</td>\n",
       "      <td>1</td>\n",
       "      <td>4</td>\n",
       "      <td>1</td>\n",
       "      <td>1</td>\n",
       "      <td>1</td>\n",
       "    </tr>\n",
       "  </tbody>\n",
       "</table>\n",
       "<p>5 rows × 47 columns</p>\n",
       "</div>"
      ],
      "text/plain": [
       "         srcip  sport  dstip  dsport  proto  state        dur  sbytes  \\\n",
       "1126124     38  63740     23   62606    114      5   1.004882    1580   \n",
       "1202977     40  20344     22   50874    114      5   0.357506    2542   \n",
       "39741       41   3394     20   61478    114      5  28.539139   36970   \n",
       "156053      38  53118     26   25911    114      5   0.512517    8928   \n",
       "1230603     37  58507     27   16512    114      5   0.045381   37500   \n",
       "\n",
       "          dbytes  sttl  ...  ct_flw_http_mthd  is_ftp_login  ct_ftp_cmd  \\\n",
       "1126124    10168    31  ...               6.0           0.0           0   \n",
       "1202977    23508    31  ...               7.0           3.0           7   \n",
       "39741    1641360    31  ...               0.0           0.0           0   \n",
       "156053       320    31  ...               0.0           0.0           0   \n",
       "1230603     3380    31  ...               0.0           0.0           0   \n",
       "\n",
       "         ct_srv_src  ct_srv_dst  ct_dst_ltm  ct_src__ltm  ct_src_dport_ltm  \\\n",
       "1126124          15           8          10           22                 6   \n",
       "1202977           6           7           6            5                 1   \n",
       "39741             9           6           4            4                 3   \n",
       "156053            9           3           3            8                 2   \n",
       "1230603           1           1           1            4                 1   \n",
       "\n",
       "         ct_dst_sport_ltm  ct_dst_src_ltm  \n",
       "1126124                 6               6  \n",
       "1202977                 1               2  \n",
       "39741                   1               3  \n",
       "156053                  1               2  \n",
       "1230603                 1               1  \n",
       "\n",
       "[5 rows x 47 columns]"
      ]
     },
     "execution_count": 9,
     "metadata": {},
     "output_type": "execute_result"
    }
   ],
   "source": [
    "X_train50_train.head()"
   ]
  },
  {
   "cell_type": "code",
   "execution_count": 10,
   "id": "423e1a9b",
   "metadata": {},
   "outputs": [
    {
     "name": "stdout",
     "output_type": "stream",
     "text": [
      "['Benign' 'DoS' 'Generic' 'Fuzzers' 'Analysis' 'Exploits' 'Reconnaissance'\n",
      " 'Shellcode' 'Backdoor' 'Worms']\n",
      "[0 1]\n"
     ]
    }
   ],
   "source": [
    "print(y_train50_multiclass_train.unique())\n",
    "print(y_train50_binary_train.unique())"
   ]
  },
  {
   "cell_type": "code",
   "execution_count": 11,
   "id": "3259d635",
   "metadata": {},
   "outputs": [
    {
     "name": "stdout",
     "output_type": "stream",
     "text": [
      "<class 'pandas.core.frame.DataFrame'>\n",
      "<class 'pandas.core.series.Series'>\n",
      "<class 'pandas.core.series.Series'>\n",
      "<class 'pandas.core.frame.DataFrame'>\n",
      "<class 'pandas.core.series.Series'>\n",
      "<class 'pandas.core.series.Series'>\n"
     ]
    }
   ],
   "source": [
    "print(type(X_train50_train))\n",
    "print(type(y_train50_multiclass_train))\n",
    "print(type(y_train50_binary_train))\n",
    "print(type(X_train50_test))\n",
    "print(type(y_train50_multiclass_test))\n",
    "print(type(y_train50_binary_test))"
   ]
  },
  {
   "cell_type": "code",
   "execution_count": 12,
   "id": "e31f49a4-c474-40d6-aa04-a5c6eed4a00f",
   "metadata": {},
   "outputs": [],
   "source": [
    "X_train50_train = X_train50_train.to_numpy()\n",
    "y_train50_multiclass_train = y_train50_multiclass_train.to_numpy()\n",
    "y_train50_binary_train = y_train50_binary_train.to_numpy()\n",
    "X_train50_test = X_train50_test.to_numpy()\n",
    "y_train50_multiclass_test = y_train50_multiclass_test.to_numpy()\n",
    "y_train50_binary_test = y_train50_binary_test.to_numpy()"
   ]
  },
  {
   "cell_type": "code",
   "execution_count": 13,
   "id": "6dece9a0-dc26-4930-9411-8e1216d569a6",
   "metadata": {},
   "outputs": [
    {
     "name": "stdout",
     "output_type": "stream",
     "text": [
      "<class 'numpy.ndarray'>\n",
      "<class 'numpy.ndarray'>\n",
      "<class 'numpy.ndarray'>\n",
      "<class 'numpy.ndarray'>\n",
      "<class 'numpy.ndarray'>\n",
      "<class 'numpy.ndarray'>\n"
     ]
    }
   ],
   "source": [
    "print(type(X_train50_train))\n",
    "print(type(y_train50_multiclass_train))\n",
    "print(type(y_train50_binary_train))\n",
    "print(type(X_train50_test))\n",
    "print(type(y_train50_multiclass_test))\n",
    "print(type(y_train50_binary_test))"
   ]
  },
  {
   "cell_type": "markdown",
   "id": "8c0fbe55",
   "metadata": {},
   "source": [
    "# Carregando as variáveis do dataset UNSW Test50"
   ]
  },
  {
   "cell_type": "code",
   "execution_count": 57,
   "id": "123e9f08",
   "metadata": {},
   "outputs": [],
   "source": [
    "with open('df_unsw_test50_no_preprocessing_labelencoder', mode = 'rb') as f:\n",
    "    X_test50, y_test50_multiclass, y_test50_binary = pickle.load(f)"
   ]
  },
  {
   "cell_type": "code",
   "execution_count": 58,
   "id": "79f262f0",
   "metadata": {},
   "outputs": [
    {
     "name": "stdout",
     "output_type": "stream",
     "text": [
      "X =  (1270018, 47)\n",
      "y multiclasse =  (1270018,)\n",
      "y binário =  (1270018,)\n"
     ]
    }
   ],
   "source": [
    "print('X = ', X_test50.shape)\n",
    "print('y multiclasse = ', y_test50_multiclass.shape)\n",
    "print('y binário = ', y_test50_binary.shape)"
   ]
  },
  {
   "cell_type": "code",
   "execution_count": 59,
   "id": "b37f9c2f",
   "metadata": {},
   "outputs": [
    {
     "data": {
      "text/plain": [
       "Benign            1109380\n",
       "Generic            107740\n",
       "Exploits            22262\n",
       "Fuzzers             12123\n",
       "DoS                  8176\n",
       "Reconnaissance       6993\n",
       "Analysis             1338\n",
       "Backdoor             1164\n",
       "Shellcode             755\n",
       "Worms                  87\n",
       "Name: Label_multiclass, dtype: int64"
      ]
     },
     "execution_count": 59,
     "metadata": {},
     "output_type": "execute_result"
    }
   ],
   "source": [
    "y_test50_multiclass.value_counts()"
   ]
  },
  {
   "cell_type": "code",
   "execution_count": 60,
   "id": "a71bff6d",
   "metadata": {},
   "outputs": [
    {
     "data": {
      "text/plain": [
       "0    1109380\n",
       "1     160638\n",
       "Name: Label_binary, dtype: int64"
      ]
     },
     "execution_count": 60,
     "metadata": {},
     "output_type": "execute_result"
    }
   ],
   "source": [
    "y_test50_binary.value_counts()"
   ]
  },
  {
   "cell_type": "code",
   "execution_count": 61,
   "id": "3e8577a6",
   "metadata": {},
   "outputs": [
    {
     "data": {
      "text/html": [
       "<div>\n",
       "<style scoped>\n",
       "    .dataframe tbody tr th:only-of-type {\n",
       "        vertical-align: middle;\n",
       "    }\n",
       "\n",
       "    .dataframe tbody tr th {\n",
       "        vertical-align: top;\n",
       "    }\n",
       "\n",
       "    .dataframe thead th {\n",
       "        text-align: right;\n",
       "    }\n",
       "</style>\n",
       "<table border=\"1\" class=\"dataframe\">\n",
       "  <thead>\n",
       "    <tr style=\"text-align: right;\">\n",
       "      <th></th>\n",
       "      <th>srcip</th>\n",
       "      <th>sport</th>\n",
       "      <th>dstip</th>\n",
       "      <th>dsport</th>\n",
       "      <th>proto</th>\n",
       "      <th>state</th>\n",
       "      <th>dur</th>\n",
       "      <th>sbytes</th>\n",
       "      <th>dbytes</th>\n",
       "      <th>sttl</th>\n",
       "      <th>...</th>\n",
       "      <th>ct_flw_http_mthd</th>\n",
       "      <th>is_ftp_login</th>\n",
       "      <th>ct_ftp_cmd</th>\n",
       "      <th>ct_srv_src</th>\n",
       "      <th>ct_srv_dst</th>\n",
       "      <th>ct_dst_ltm</th>\n",
       "      <th>ct_src__ltm</th>\n",
       "      <th>ct_src_dport_ltm</th>\n",
       "      <th>ct_dst_sport_ltm</th>\n",
       "      <th>ct_dst_src_ltm</th>\n",
       "    </tr>\n",
       "  </thead>\n",
       "  <tbody>\n",
       "    <tr>\n",
       "      <th>0</th>\n",
       "      <td>35</td>\n",
       "      <td>42325</td>\n",
       "      <td>21</td>\n",
       "      <td>39962</td>\n",
       "      <td>114</td>\n",
       "      <td>5</td>\n",
       "      <td>0.039096</td>\n",
       "      <td>2974</td>\n",
       "      <td>31328</td>\n",
       "      <td>31</td>\n",
       "      <td>...</td>\n",
       "      <td>7.0</td>\n",
       "      <td>3.0</td>\n",
       "      <td>7</td>\n",
       "      <td>8</td>\n",
       "      <td>8</td>\n",
       "      <td>6</td>\n",
       "      <td>3</td>\n",
       "      <td>1</td>\n",
       "      <td>1</td>\n",
       "      <td>10</td>\n",
       "    </tr>\n",
       "    <tr>\n",
       "      <th>1</th>\n",
       "      <td>35</td>\n",
       "      <td>15576</td>\n",
       "      <td>22</td>\n",
       "      <td>63617</td>\n",
       "      <td>114</td>\n",
       "      <td>5</td>\n",
       "      <td>0.009790</td>\n",
       "      <td>424</td>\n",
       "      <td>8824</td>\n",
       "      <td>31</td>\n",
       "      <td>...</td>\n",
       "      <td>7.0</td>\n",
       "      <td>3.0</td>\n",
       "      <td>7</td>\n",
       "      <td>3</td>\n",
       "      <td>3</td>\n",
       "      <td>5</td>\n",
       "      <td>6</td>\n",
       "      <td>1</td>\n",
       "      <td>1</td>\n",
       "      <td>4</td>\n",
       "    </tr>\n",
       "    <tr>\n",
       "      <th>2</th>\n",
       "      <td>33</td>\n",
       "      <td>14173</td>\n",
       "      <td>27</td>\n",
       "      <td>12006</td>\n",
       "      <td>114</td>\n",
       "      <td>5</td>\n",
       "      <td>0.008764</td>\n",
       "      <td>2230</td>\n",
       "      <td>14740</td>\n",
       "      <td>31</td>\n",
       "      <td>...</td>\n",
       "      <td>7.0</td>\n",
       "      <td>3.0</td>\n",
       "      <td>7</td>\n",
       "      <td>2</td>\n",
       "      <td>3</td>\n",
       "      <td>1</td>\n",
       "      <td>3</td>\n",
       "      <td>1</td>\n",
       "      <td>1</td>\n",
       "      <td>1</td>\n",
       "    </tr>\n",
       "    <tr>\n",
       "      <th>3</th>\n",
       "      <td>38</td>\n",
       "      <td>33848</td>\n",
       "      <td>25</td>\n",
       "      <td>62606</td>\n",
       "      <td>114</td>\n",
       "      <td>5</td>\n",
       "      <td>1.036823</td>\n",
       "      <td>1580</td>\n",
       "      <td>10168</td>\n",
       "      <td>31</td>\n",
       "      <td>...</td>\n",
       "      <td>1.0</td>\n",
       "      <td>3.0</td>\n",
       "      <td>7</td>\n",
       "      <td>1</td>\n",
       "      <td>1</td>\n",
       "      <td>3</td>\n",
       "      <td>3</td>\n",
       "      <td>1</td>\n",
       "      <td>1</td>\n",
       "      <td>2</td>\n",
       "    </tr>\n",
       "    <tr>\n",
       "      <th>4</th>\n",
       "      <td>42</td>\n",
       "      <td>12229</td>\n",
       "      <td>21</td>\n",
       "      <td>12108</td>\n",
       "      <td>114</td>\n",
       "      <td>5</td>\n",
       "      <td>0.872706</td>\n",
       "      <td>2934</td>\n",
       "      <td>3740</td>\n",
       "      <td>31</td>\n",
       "      <td>...</td>\n",
       "      <td>7.0</td>\n",
       "      <td>1.0</td>\n",
       "      <td>1</td>\n",
       "      <td>1</td>\n",
       "      <td>1</td>\n",
       "      <td>2</td>\n",
       "      <td>3</td>\n",
       "      <td>1</td>\n",
       "      <td>1</td>\n",
       "      <td>4</td>\n",
       "    </tr>\n",
       "  </tbody>\n",
       "</table>\n",
       "<p>5 rows × 47 columns</p>\n",
       "</div>"
      ],
      "text/plain": [
       "   srcip  sport  dstip  dsport  proto  state       dur  sbytes  dbytes  sttl  \\\n",
       "0     35  42325     21   39962    114      5  0.039096    2974   31328    31   \n",
       "1     35  15576     22   63617    114      5  0.009790     424    8824    31   \n",
       "2     33  14173     27   12006    114      5  0.008764    2230   14740    31   \n",
       "3     38  33848     25   62606    114      5  1.036823    1580   10168    31   \n",
       "4     42  12229     21   12108    114      5  0.872706    2934    3740    31   \n",
       "\n",
       "   ...  ct_flw_http_mthd  is_ftp_login  ct_ftp_cmd  ct_srv_src  ct_srv_dst  \\\n",
       "0  ...               7.0           3.0           7           8           8   \n",
       "1  ...               7.0           3.0           7           3           3   \n",
       "2  ...               7.0           3.0           7           2           3   \n",
       "3  ...               1.0           3.0           7           1           1   \n",
       "4  ...               7.0           1.0           1           1           1   \n",
       "\n",
       "   ct_dst_ltm  ct_src__ltm  ct_src_dport_ltm  ct_dst_sport_ltm  ct_dst_src_ltm  \n",
       "0           6            3                 1                 1              10  \n",
       "1           5            6                 1                 1               4  \n",
       "2           1            3                 1                 1               1  \n",
       "3           3            3                 1                 1               2  \n",
       "4           2            3                 1                 1               4  \n",
       "\n",
       "[5 rows x 47 columns]"
      ]
     },
     "execution_count": 61,
     "metadata": {},
     "output_type": "execute_result"
    }
   ],
   "source": [
    "X_test50.head()"
   ]
  },
  {
   "cell_type": "code",
   "execution_count": 62,
   "id": "26b4a879",
   "metadata": {},
   "outputs": [
    {
     "name": "stdout",
     "output_type": "stream",
     "text": [
      "['Benign' 'DoS' 'Fuzzers' 'Generic' 'Exploits' 'Shellcode'\n",
      " 'Reconnaissance' 'Analysis' 'Backdoor' 'Worms']\n",
      "[0 1]\n"
     ]
    }
   ],
   "source": [
    "print(y_test50_multiclass.unique())\n",
    "print(y_test50_binary.unique())"
   ]
  },
  {
   "cell_type": "code",
   "execution_count": 20,
   "id": "7798f536",
   "metadata": {},
   "outputs": [],
   "source": [
    "#X_test50.shape"
   ]
  },
  {
   "cell_type": "code",
   "execution_count": 21,
   "id": "8ab3c404",
   "metadata": {},
   "outputs": [],
   "source": [
    "# verifica detalhes das variáveis\n",
    "# variáveis nominais: #proto #state #service #ct_ftp_cmd\n",
    "#df_unsw_full.shape\n",
    "#df_unsw_full.describe()\n",
    "#df_unsw_full.dtypes\n",
    "#y_test50_multiclass.value_counts()\n",
    "#np.unique(df_unsw_full['sport'])\n",
    "#len(np.unique(df_unsw_full.ct_ftp_cmd))"
   ]
  },
  {
   "cell_type": "code",
   "execution_count": 63,
   "id": "6bd3afbf",
   "metadata": {},
   "outputs": [
    {
     "name": "stdout",
     "output_type": "stream",
     "text": [
      "<class 'pandas.core.frame.DataFrame'>\n",
      "<class 'pandas.core.series.Series'>\n",
      "<class 'pandas.core.series.Series'>\n"
     ]
    }
   ],
   "source": [
    "print(type(X_test50))\n",
    "print(type(y_test50_multiclass))\n",
    "print(type(y_test50_binary))"
   ]
  },
  {
   "cell_type": "code",
   "execution_count": 64,
   "id": "e8f0eaee-61a6-460c-8332-1ccf37ed7dc0",
   "metadata": {},
   "outputs": [],
   "source": [
    "X_test50 = X_test50.to_numpy()\n",
    "y_test50_multiclass = y_test50_multiclass.to_numpy()\n",
    "y_test50_binary = y_test50_binary.to_numpy()"
   ]
  },
  {
   "cell_type": "code",
   "execution_count": 65,
   "id": "52c5190f-0219-4835-909e-82f3edefc957",
   "metadata": {},
   "outputs": [
    {
     "name": "stdout",
     "output_type": "stream",
     "text": [
      "<class 'numpy.ndarray'>\n",
      "<class 'numpy.ndarray'>\n",
      "<class 'numpy.ndarray'>\n"
     ]
    }
   ],
   "source": [
    "print(type(X_test50))\n",
    "print(type(y_test50_multiclass))\n",
    "print(type(y_test50_binary))"
   ]
  },
  {
   "cell_type": "markdown",
   "id": "cec4f107",
   "metadata": {},
   "source": [
    "# Algoritmo kNN para Train e Validation - Train50"
   ]
  },
  {
   "cell_type": "code",
   "execution_count": 25,
   "id": "2751d2da",
   "metadata": {},
   "outputs": [],
   "source": [
    "from sklearn.neighbors import KNeighborsClassifier"
   ]
  },
  {
   "cell_type": "markdown",
   "id": "44403351",
   "metadata": {},
   "source": [
    "### Predição train50 binária"
   ]
  },
  {
   "cell_type": "code",
   "execution_count": 26,
   "id": "713b0151",
   "metadata": {},
   "outputs": [],
   "source": [
    "knn_train50_binary = KNeighborsClassifier(n_neighbors=4, p=2)"
   ]
  },
  {
   "cell_type": "code",
   "execution_count": 27,
   "id": "dc9871f9",
   "metadata": {
    "scrolled": true
   },
   "outputs": [
    {
     "data": {
      "text/html": [
       "<style>#sk-container-id-1 {color: black;background-color: white;}#sk-container-id-1 pre{padding: 0;}#sk-container-id-1 div.sk-toggleable {background-color: white;}#sk-container-id-1 label.sk-toggleable__label {cursor: pointer;display: block;width: 100%;margin-bottom: 0;padding: 0.3em;box-sizing: border-box;text-align: center;}#sk-container-id-1 label.sk-toggleable__label-arrow:before {content: \"▸\";float: left;margin-right: 0.25em;color: #696969;}#sk-container-id-1 label.sk-toggleable__label-arrow:hover:before {color: black;}#sk-container-id-1 div.sk-estimator:hover label.sk-toggleable__label-arrow:before {color: black;}#sk-container-id-1 div.sk-toggleable__content {max-height: 0;max-width: 0;overflow: hidden;text-align: left;background-color: #f0f8ff;}#sk-container-id-1 div.sk-toggleable__content pre {margin: 0.2em;color: black;border-radius: 0.25em;background-color: #f0f8ff;}#sk-container-id-1 input.sk-toggleable__control:checked~div.sk-toggleable__content {max-height: 200px;max-width: 100%;overflow: auto;}#sk-container-id-1 input.sk-toggleable__control:checked~label.sk-toggleable__label-arrow:before {content: \"▾\";}#sk-container-id-1 div.sk-estimator input.sk-toggleable__control:checked~label.sk-toggleable__label {background-color: #d4ebff;}#sk-container-id-1 div.sk-label input.sk-toggleable__control:checked~label.sk-toggleable__label {background-color: #d4ebff;}#sk-container-id-1 input.sk-hidden--visually {border: 0;clip: rect(1px 1px 1px 1px);clip: rect(1px, 1px, 1px, 1px);height: 1px;margin: -1px;overflow: hidden;padding: 0;position: absolute;width: 1px;}#sk-container-id-1 div.sk-estimator {font-family: monospace;background-color: #f0f8ff;border: 1px dotted black;border-radius: 0.25em;box-sizing: border-box;margin-bottom: 0.5em;}#sk-container-id-1 div.sk-estimator:hover {background-color: #d4ebff;}#sk-container-id-1 div.sk-parallel-item::after {content: \"\";width: 100%;border-bottom: 1px solid gray;flex-grow: 1;}#sk-container-id-1 div.sk-label:hover label.sk-toggleable__label {background-color: #d4ebff;}#sk-container-id-1 div.sk-serial::before {content: \"\";position: absolute;border-left: 1px solid gray;box-sizing: border-box;top: 0;bottom: 0;left: 50%;z-index: 0;}#sk-container-id-1 div.sk-serial {display: flex;flex-direction: column;align-items: center;background-color: white;padding-right: 0.2em;padding-left: 0.2em;position: relative;}#sk-container-id-1 div.sk-item {position: relative;z-index: 1;}#sk-container-id-1 div.sk-parallel {display: flex;align-items: stretch;justify-content: center;background-color: white;position: relative;}#sk-container-id-1 div.sk-item::before, #sk-container-id-1 div.sk-parallel-item::before {content: \"\";position: absolute;border-left: 1px solid gray;box-sizing: border-box;top: 0;bottom: 0;left: 50%;z-index: -1;}#sk-container-id-1 div.sk-parallel-item {display: flex;flex-direction: column;z-index: 1;position: relative;background-color: white;}#sk-container-id-1 div.sk-parallel-item:first-child::after {align-self: flex-end;width: 50%;}#sk-container-id-1 div.sk-parallel-item:last-child::after {align-self: flex-start;width: 50%;}#sk-container-id-1 div.sk-parallel-item:only-child::after {width: 0;}#sk-container-id-1 div.sk-dashed-wrapped {border: 1px dashed gray;margin: 0 0.4em 0.5em 0.4em;box-sizing: border-box;padding-bottom: 0.4em;background-color: white;}#sk-container-id-1 div.sk-label label {font-family: monospace;font-weight: bold;display: inline-block;line-height: 1.2em;}#sk-container-id-1 div.sk-label-container {text-align: center;}#sk-container-id-1 div.sk-container {/* jupyter's `normalize.less` sets `[hidden] { display: none; }` but bootstrap.min.css set `[hidden] { display: none !important; }` so we also need the `!important` here to be able to override the default hidden behavior on the sphinx rendered scikit-learn.org. See: https://github.com/scikit-learn/scikit-learn/issues/21755 */display: inline-block !important;position: relative;}#sk-container-id-1 div.sk-text-repr-fallback {display: none;}</style><div id=\"sk-container-id-1\" class=\"sk-top-container\"><div class=\"sk-text-repr-fallback\"><pre>KNeighborsClassifier(n_neighbors=4)</pre><b>In a Jupyter environment, please rerun this cell to show the HTML representation or trust the notebook. <br />On GitHub, the HTML representation is unable to render, please try loading this page with nbviewer.org.</b></div><div class=\"sk-container\" hidden><div class=\"sk-item\"><div class=\"sk-estimator sk-toggleable\"><input class=\"sk-toggleable__control sk-hidden--visually\" id=\"sk-estimator-id-1\" type=\"checkbox\" checked><label for=\"sk-estimator-id-1\" class=\"sk-toggleable__label sk-toggleable__label-arrow\">KNeighborsClassifier</label><div class=\"sk-toggleable__content\"><pre>KNeighborsClassifier(n_neighbors=4)</pre></div></div></div></div></div>"
      ],
      "text/plain": [
       "KNeighborsClassifier(n_neighbors=4)"
      ]
     },
     "execution_count": 27,
     "metadata": {},
     "output_type": "execute_result"
    }
   ],
   "source": [
    "knn_train50_binary.fit(X_train50_train, y_train50_binary_train)"
   ]
  },
  {
   "cell_type": "code",
   "execution_count": 28,
   "id": "f1c36860",
   "metadata": {},
   "outputs": [],
   "source": [
    "predict_train50_binary = knn_train50_binary.predict(X_train50_test)"
   ]
  },
  {
   "cell_type": "code",
   "execution_count": 29,
   "id": "fb5f62ea",
   "metadata": {},
   "outputs": [
    {
     "data": {
      "text/plain": [
       "array([1, 0, 0, ..., 0, 0, 0])"
      ]
     },
     "execution_count": 29,
     "metadata": {},
     "output_type": "execute_result"
    }
   ],
   "source": [
    "predict_train50_binary"
   ]
  },
  {
   "cell_type": "code",
   "execution_count": 30,
   "id": "a5056301",
   "metadata": {},
   "outputs": [
    {
     "data": {
      "text/plain": [
       "array([1, 0, 0, ..., 0, 0, 0])"
      ]
     },
     "execution_count": 30,
     "metadata": {},
     "output_type": "execute_result"
    }
   ],
   "source": [
    "y_train50_binary_test"
   ]
  },
  {
   "cell_type": "code",
   "execution_count": 31,
   "id": "b5a418e6",
   "metadata": {},
   "outputs": [
    {
     "data": {
      "text/plain": [
       "0.9775750974396662"
      ]
     },
     "execution_count": 31,
     "metadata": {},
     "output_type": "execute_result"
    }
   ],
   "source": [
    "accuracy_score(y_train50_binary_test, predict_train50_binary)"
   ]
  },
  {
   "cell_type": "markdown",
   "id": "5897d5ae",
   "metadata": {},
   "source": [
    "### Visualização da árvore binária"
   ]
  },
  {
   "cell_type": "code",
   "execution_count": 32,
   "id": "e5884856",
   "metadata": {},
   "outputs": [],
   "source": [
    "#from sklearn import tree\n",
    "#from dtreeviz.trees import dtreeviz\n",
    "#from matplotlib import pyplot as plt\n",
    "#plt.rcParams.update({'figure.figsize': (12.0, 8.0)})\n",
    "#plt.rcParams.update({'font.size': 14})"
   ]
  },
  {
   "cell_type": "code",
   "execution_count": 33,
   "id": "e84da5e2",
   "metadata": {},
   "outputs": [],
   "source": [
    "#plt.figure(figsize=(20,10))\n",
    "#grafic = tree.plot_tree(xgb_train50_binary.estimators_[0], feature_names=X_train50_train.columns, filled=True)"
   ]
  },
  {
   "cell_type": "code",
   "execution_count": 34,
   "id": "18bfca14",
   "metadata": {},
   "outputs": [],
   "source": [
    "#viz = dtreeviz(xgb_train50_binary.estimators_[0], X_train50_train, y_train50_binary_train, feature_names=X_train50_train.columns, target_name='Label_binary')\n",
    "#viz"
   ]
  },
  {
   "cell_type": "code",
   "execution_count": 35,
   "id": "1e2d6b5a",
   "metadata": {},
   "outputs": [],
   "source": [
    "#fig, ax = plt.subplots(figsize=(20,30))\n",
    "#lgb.plot_importance(lgb_train50_binary, ax=ax)"
   ]
  },
  {
   "cell_type": "markdown",
   "id": "d4bde7aa",
   "metadata": {},
   "source": [
    "### Predição train50 multiclasse"
   ]
  },
  {
   "cell_type": "code",
   "execution_count": 36,
   "id": "e5492c95",
   "metadata": {},
   "outputs": [],
   "source": [
    "knn_train50_multiclass =  KNeighborsClassifier(n_neighbors=4, p=2)"
   ]
  },
  {
   "cell_type": "code",
   "execution_count": 37,
   "id": "627b6e2e",
   "metadata": {},
   "outputs": [
    {
     "data": {
      "text/html": [
       "<style>#sk-container-id-2 {color: black;background-color: white;}#sk-container-id-2 pre{padding: 0;}#sk-container-id-2 div.sk-toggleable {background-color: white;}#sk-container-id-2 label.sk-toggleable__label {cursor: pointer;display: block;width: 100%;margin-bottom: 0;padding: 0.3em;box-sizing: border-box;text-align: center;}#sk-container-id-2 label.sk-toggleable__label-arrow:before {content: \"▸\";float: left;margin-right: 0.25em;color: #696969;}#sk-container-id-2 label.sk-toggleable__label-arrow:hover:before {color: black;}#sk-container-id-2 div.sk-estimator:hover label.sk-toggleable__label-arrow:before {color: black;}#sk-container-id-2 div.sk-toggleable__content {max-height: 0;max-width: 0;overflow: hidden;text-align: left;background-color: #f0f8ff;}#sk-container-id-2 div.sk-toggleable__content pre {margin: 0.2em;color: black;border-radius: 0.25em;background-color: #f0f8ff;}#sk-container-id-2 input.sk-toggleable__control:checked~div.sk-toggleable__content {max-height: 200px;max-width: 100%;overflow: auto;}#sk-container-id-2 input.sk-toggleable__control:checked~label.sk-toggleable__label-arrow:before {content: \"▾\";}#sk-container-id-2 div.sk-estimator input.sk-toggleable__control:checked~label.sk-toggleable__label {background-color: #d4ebff;}#sk-container-id-2 div.sk-label input.sk-toggleable__control:checked~label.sk-toggleable__label {background-color: #d4ebff;}#sk-container-id-2 input.sk-hidden--visually {border: 0;clip: rect(1px 1px 1px 1px);clip: rect(1px, 1px, 1px, 1px);height: 1px;margin: -1px;overflow: hidden;padding: 0;position: absolute;width: 1px;}#sk-container-id-2 div.sk-estimator {font-family: monospace;background-color: #f0f8ff;border: 1px dotted black;border-radius: 0.25em;box-sizing: border-box;margin-bottom: 0.5em;}#sk-container-id-2 div.sk-estimator:hover {background-color: #d4ebff;}#sk-container-id-2 div.sk-parallel-item::after {content: \"\";width: 100%;border-bottom: 1px solid gray;flex-grow: 1;}#sk-container-id-2 div.sk-label:hover label.sk-toggleable__label {background-color: #d4ebff;}#sk-container-id-2 div.sk-serial::before {content: \"\";position: absolute;border-left: 1px solid gray;box-sizing: border-box;top: 0;bottom: 0;left: 50%;z-index: 0;}#sk-container-id-2 div.sk-serial {display: flex;flex-direction: column;align-items: center;background-color: white;padding-right: 0.2em;padding-left: 0.2em;position: relative;}#sk-container-id-2 div.sk-item {position: relative;z-index: 1;}#sk-container-id-2 div.sk-parallel {display: flex;align-items: stretch;justify-content: center;background-color: white;position: relative;}#sk-container-id-2 div.sk-item::before, #sk-container-id-2 div.sk-parallel-item::before {content: \"\";position: absolute;border-left: 1px solid gray;box-sizing: border-box;top: 0;bottom: 0;left: 50%;z-index: -1;}#sk-container-id-2 div.sk-parallel-item {display: flex;flex-direction: column;z-index: 1;position: relative;background-color: white;}#sk-container-id-2 div.sk-parallel-item:first-child::after {align-self: flex-end;width: 50%;}#sk-container-id-2 div.sk-parallel-item:last-child::after {align-self: flex-start;width: 50%;}#sk-container-id-2 div.sk-parallel-item:only-child::after {width: 0;}#sk-container-id-2 div.sk-dashed-wrapped {border: 1px dashed gray;margin: 0 0.4em 0.5em 0.4em;box-sizing: border-box;padding-bottom: 0.4em;background-color: white;}#sk-container-id-2 div.sk-label label {font-family: monospace;font-weight: bold;display: inline-block;line-height: 1.2em;}#sk-container-id-2 div.sk-label-container {text-align: center;}#sk-container-id-2 div.sk-container {/* jupyter's `normalize.less` sets `[hidden] { display: none; }` but bootstrap.min.css set `[hidden] { display: none !important; }` so we also need the `!important` here to be able to override the default hidden behavior on the sphinx rendered scikit-learn.org. See: https://github.com/scikit-learn/scikit-learn/issues/21755 */display: inline-block !important;position: relative;}#sk-container-id-2 div.sk-text-repr-fallback {display: none;}</style><div id=\"sk-container-id-2\" class=\"sk-top-container\"><div class=\"sk-text-repr-fallback\"><pre>KNeighborsClassifier(n_neighbors=4)</pre><b>In a Jupyter environment, please rerun this cell to show the HTML representation or trust the notebook. <br />On GitHub, the HTML representation is unable to render, please try loading this page with nbviewer.org.</b></div><div class=\"sk-container\" hidden><div class=\"sk-item\"><div class=\"sk-estimator sk-toggleable\"><input class=\"sk-toggleable__control sk-hidden--visually\" id=\"sk-estimator-id-2\" type=\"checkbox\" checked><label for=\"sk-estimator-id-2\" class=\"sk-toggleable__label sk-toggleable__label-arrow\">KNeighborsClassifier</label><div class=\"sk-toggleable__content\"><pre>KNeighborsClassifier(n_neighbors=4)</pre></div></div></div></div></div>"
      ],
      "text/plain": [
       "KNeighborsClassifier(n_neighbors=4)"
      ]
     },
     "execution_count": 37,
     "metadata": {},
     "output_type": "execute_result"
    }
   ],
   "source": [
    "knn_train50_multiclass.fit(X_train50_train, y_train50_multiclass_train)"
   ]
  },
  {
   "cell_type": "code",
   "execution_count": 38,
   "id": "48d25f13",
   "metadata": {},
   "outputs": [],
   "source": [
    "predict_train50_multiclass = knn_train50_multiclass.predict(X_train50_test)"
   ]
  },
  {
   "cell_type": "code",
   "execution_count": 39,
   "id": "efbfa9a7",
   "metadata": {},
   "outputs": [
    {
     "data": {
      "text/plain": [
       "array(['Generic', 'Benign', 'Benign', ..., 'Benign', 'Benign', 'Benign'],\n",
       "      dtype=object)"
      ]
     },
     "execution_count": 39,
     "metadata": {},
     "output_type": "execute_result"
    }
   ],
   "source": [
    "predict_train50_multiclass"
   ]
  },
  {
   "cell_type": "code",
   "execution_count": 40,
   "id": "4dd0609a",
   "metadata": {},
   "outputs": [
    {
     "data": {
      "text/plain": [
       "array(['Generic', 'Benign', 'Benign', ..., 'Benign', 'Benign', 'Benign'],\n",
       "      dtype=object)"
      ]
     },
     "execution_count": 40,
     "metadata": {},
     "output_type": "execute_result"
    }
   ],
   "source": [
    "y_train50_multiclass_test"
   ]
  },
  {
   "cell_type": "code",
   "execution_count": 41,
   "id": "b2f48d7a",
   "metadata": {},
   "outputs": [
    {
     "data": {
      "text/plain": [
       "0.9626487841366911"
      ]
     },
     "execution_count": 41,
     "metadata": {},
     "output_type": "execute_result"
    }
   ],
   "source": [
    "accuracy_score(y_train50_multiclass_test, predict_train50_multiclass)"
   ]
  },
  {
   "cell_type": "markdown",
   "id": "8255b657",
   "metadata": {},
   "source": [
    "### Visualização da árvore multiclasse"
   ]
  },
  {
   "cell_type": "code",
   "execution_count": 42,
   "id": "ba2a09b7",
   "metadata": {},
   "outputs": [],
   "source": [
    "#plt.figure(figsize=(20,10))\n",
    "#grafic = tree.plot_tree(xgb_train50_multiclass.estimators_[0], feature_names=X_train50_train.columns, filled=True)"
   ]
  },
  {
   "cell_type": "code",
   "execution_count": 43,
   "id": "472266e5",
   "metadata": {},
   "outputs": [],
   "source": [
    "#viz = dtreeviz(xgb_train50_multiclass.estimators_[0], X_train50_train, y_train50_multiclass_train, feature_names=X_train50_train.columns, target_name='Label_multiclass')\n",
    "#viz"
   ]
  },
  {
   "cell_type": "code",
   "execution_count": 44,
   "id": "6a9f3d24",
   "metadata": {},
   "outputs": [],
   "source": [
    "#fig, ax = plt.subplots(figsize=(20,30))\n",
    "#lgb.plot_importance(lgb_train50_binary, ax=ax)"
   ]
  },
  {
   "cell_type": "code",
   "execution_count": 45,
   "id": "7c021c57",
   "metadata": {},
   "outputs": [],
   "source": [
    "#lgb.plot_tree(lgb_train50_binary, figsize=(20,6), tree_index=0, dpi=100)"
   ]
  },
  {
   "cell_type": "markdown",
   "id": "29959171",
   "metadata": {},
   "source": [
    "### Precision e Recall do train50"
   ]
  },
  {
   "cell_type": "code",
   "execution_count": 46,
   "id": "7807a825",
   "metadata": {
    "scrolled": true
   },
   "outputs": [
    {
     "name": "stdout",
     "output_type": "stream",
     "text": [
      "              precision    recall  f1-score   support\n",
      "\n",
      "           0   0.981203  0.993368  0.987248    332943\n",
      "           1   0.949743  0.868170  0.907126     48062\n",
      "\n",
      "    accuracy                       0.977575    381005\n",
      "   macro avg   0.965473  0.930769  0.947187    381005\n",
      "weighted avg   0.977234  0.977575  0.977141    381005\n",
      "\n"
     ]
    }
   ],
   "source": [
    "print(classification_report(y_train50_binary_test, predict_train50_binary, digits=6, zero_division=1))"
   ]
  },
  {
   "cell_type": "code",
   "execution_count": 47,
   "id": "2776113a",
   "metadata": {},
   "outputs": [
    {
     "name": "stdout",
     "output_type": "stream",
     "text": [
      "                precision    recall  f1-score   support\n",
      "\n",
      "      Analysis   0.063670  0.082927  0.072034       410\n",
      "      Backdoor   0.074468  0.081871  0.077994       342\n",
      "        Benign   0.979648  0.994654  0.987094    332943\n",
      "           DoS   0.338957  0.354025  0.346327      2497\n",
      "      Exploits   0.360797  0.278901  0.314607      6626\n",
      "       Fuzzers   0.395285  0.199116  0.264830      3621\n",
      "       Generic   0.995369  0.971457  0.983268     32302\n",
      "Reconnaissance   0.755651  0.346154  0.474806      2028\n",
      "     Shellcode   0.325581  0.066351  0.110236       211\n",
      "         Worms   1.000000  0.000000  0.000000        25\n",
      "\n",
      "      accuracy                       0.962649    381005\n",
      "     macro avg   0.528943  0.337546  0.363120    381005\n",
      "  weighted avg   0.957114  0.962649  0.958933    381005\n",
      "\n"
     ]
    }
   ],
   "source": [
    "print(classification_report(y_train50_multiclass_test, predict_train50_multiclass, digits=6, zero_division=1))"
   ]
  },
  {
   "cell_type": "markdown",
   "id": "a5d9281b",
   "metadata": {},
   "source": [
    "### Cross Validation do train50"
   ]
  },
  {
   "cell_type": "code",
   "execution_count": 48,
   "id": "410f9696",
   "metadata": {},
   "outputs": [],
   "source": [
    "# cross validation binary\n",
    "cv_result_train50_binary = []\n",
    "kfold = KFold(n_splits=10, shuffle=True, random_state=42)   \n",
    "score_cv_train50_binary = cross_val_score(knn_train50_binary, X_train50_train, y_train50_binary_train, cv=kfold)\n",
    "cv_result_train50_binary.append(score_cv_train50_binary.mean())"
   ]
  },
  {
   "cell_type": "code",
   "execution_count": 49,
   "id": "52d69849",
   "metadata": {},
   "outputs": [
    {
     "data": {
      "text/plain": [
       "array([0.97678342, 0.97796425, 0.97788551, 0.97771679, 0.97663693,\n",
       "       0.97754806, 0.97716561, 0.97681691, 0.97791926, 0.97669318])"
      ]
     },
     "execution_count": 49,
     "metadata": {},
     "output_type": "execute_result"
    }
   ],
   "source": [
    "score_cv_train50_binary"
   ]
  },
  {
   "cell_type": "code",
   "execution_count": 50,
   "id": "935293fc",
   "metadata": {},
   "outputs": [
    {
     "data": {
      "text/plain": [
       "[0.9773129922234569]"
      ]
     },
     "execution_count": 50,
     "metadata": {},
     "output_type": "execute_result"
    }
   ],
   "source": [
    "cv_result_train50_binary"
   ]
  },
  {
   "cell_type": "code",
   "execution_count": 51,
   "id": "6fa4062b",
   "metadata": {},
   "outputs": [],
   "source": [
    "# cross validation multiclass\n",
    "cv_result_train50_multiclass = []\n",
    "kfold = KFold(n_splits=10, shuffle=True, random_state=42)   \n",
    "score_cv_train50_multiclass = cross_val_score(knn_train50_multiclass, X_train50_train, y_train50_multiclass_train, cv=kfold)\n",
    "cv_result_train50_multiclass.append(score_cv_train50_multiclass.mean())"
   ]
  },
  {
   "cell_type": "code",
   "execution_count": 52,
   "id": "400c5a76",
   "metadata": {},
   "outputs": [
    {
     "data": {
      "text/plain": [
       "array([0.96246429, 0.96250886, 0.96249761, 0.96344248, 0.96174396,\n",
       "       0.96292505, 0.96277882, 0.96207017, 0.96237388, 0.96058537])"
      ]
     },
     "execution_count": 52,
     "metadata": {},
     "output_type": "execute_result"
    }
   ],
   "source": [
    "score_cv_train50_multiclass"
   ]
  },
  {
   "cell_type": "code",
   "execution_count": 53,
   "id": "d71e41b2",
   "metadata": {},
   "outputs": [
    {
     "data": {
      "text/plain": [
       "[0.9623390485323151]"
      ]
     },
     "execution_count": 53,
     "metadata": {},
     "output_type": "execute_result"
    }
   ],
   "source": [
    "cv_result_train50_multiclass"
   ]
  },
  {
   "cell_type": "markdown",
   "id": "af9bee6b",
   "metadata": {},
   "source": [
    "### Matriz de Confusão do train50"
   ]
  },
  {
   "cell_type": "code",
   "execution_count": 54,
   "id": "8b73140a",
   "metadata": {},
   "outputs": [
    {
     "data": {
      "image/png": "[encoded data removed]",
      "text/plain": [
       "<Figure size 432x288 with 2 Axes>"
      ]
     },
     "metadata": {
      "needs_background": "light"
     },
     "output_type": "display_data"
    }
   ],
   "source": [
    "ConfusionMatrixDisplay.from_estimator(knn_train50_binary, X_train50_test, y_train50_binary_test)\n",
    "plt.show()"
   ]
  },
  {
   "cell_type": "code",
   "execution_count": 55,
   "id": "d29aaf69",
   "metadata": {},
   "outputs": [
    {
     "data": {
      "text/plain": [
       "<sklearn.metrics._plot.confusion_matrix.ConfusionMatrixDisplay at 0x7ff78f65a550>"
      ]
     },
     "execution_count": 55,
     "metadata": {},
     "output_type": "execute_result"
    },
    {
     "data": {
      "image/png": "[encoded data removed]",
      "text/plain": [
       "<Figure size 432x288 with 2 Axes>"
      ]
     },
     "metadata": {
      "needs_background": "light"
     },
     "output_type": "display_data"
    },
    {
     "data": {
      "image/png": "[encoded data removed]",
      "text/plain": [
       "<Figure size 1080x1080 with 2 Axes>"
      ]
     },
     "metadata": {
      "needs_background": "light"
     },
     "output_type": "display_data"
    }
   ],
   "source": [
    "#ConfusionMatrixDisplay.from_estimator(xgb_train50_multiclass, X_train50_test, y_train50_multiclass_test)\n",
    "#plt.show()\n",
    "\n",
    "cm_knn_multiclass_train = ConfusionMatrixDisplay.from_estimator(knn_train50_multiclass, X_train50_test, y_train50_multiclass_test)\n",
    "fig, ax = plt.subplots(figsize=(15,15))\n",
    "cm_knn_multiclass_train.plot(ax=ax)"
   ]
  },
  {
   "cell_type": "markdown",
   "id": "6e45eae7",
   "metadata": {},
   "source": [
    "# Algoritmo kNN para Test50"
   ]
  },
  {
   "cell_type": "markdown",
   "id": "cb8a0c45",
   "metadata": {},
   "source": [
    "### Predição Test50 binária"
   ]
  },
  {
   "cell_type": "code",
   "execution_count": 66,
   "id": "1f463d60",
   "metadata": {},
   "outputs": [],
   "source": [
    "predict_test50_binary = knn_train50_binary.predict(X_test50)"
   ]
  },
  {
   "cell_type": "code",
   "execution_count": 67,
   "id": "a77277a4",
   "metadata": {},
   "outputs": [
    {
     "data": {
      "text/plain": [
       "array([0, 0, 0, ..., 0, 0, 1])"
      ]
     },
     "execution_count": 67,
     "metadata": {},
     "output_type": "execute_result"
    }
   ],
   "source": [
    "predict_test50_binary"
   ]
  },
  {
   "cell_type": "code",
   "execution_count": 68,
   "id": "53f937cd",
   "metadata": {},
   "outputs": [
    {
     "data": {
      "text/plain": [
       "array([0, 0, 0, ..., 0, 0, 0])"
      ]
     },
     "execution_count": 68,
     "metadata": {},
     "output_type": "execute_result"
    }
   ],
   "source": [
    "y_test50_binary"
   ]
  },
  {
   "cell_type": "code",
   "execution_count": 69,
   "id": "879d6fab",
   "metadata": {},
   "outputs": [
    {
     "data": {
      "text/plain": [
       "0.7994713460754099"
      ]
     },
     "execution_count": 69,
     "metadata": {},
     "output_type": "execute_result"
    }
   ],
   "source": [
    "accuracy_score(y_test50_binary, predict_test50_binary)"
   ]
  },
  {
   "cell_type": "markdown",
   "id": "141ed59f",
   "metadata": {},
   "source": [
    "### Predição test50 multiclasse"
   ]
  },
  {
   "cell_type": "code",
   "execution_count": 70,
   "id": "be8e439a",
   "metadata": {},
   "outputs": [],
   "source": [
    "predict_test50_multiclass = knn_train50_multiclass.predict(X_test50)"
   ]
  },
  {
   "cell_type": "code",
   "execution_count": 71,
   "id": "66942066",
   "metadata": {},
   "outputs": [
    {
     "data": {
      "text/plain": [
       "array(['Benign', 'Benign', 'Benign', ..., 'Benign', 'Benign', 'Fuzzers'],\n",
       "      dtype=object)"
      ]
     },
     "execution_count": 71,
     "metadata": {},
     "output_type": "execute_result"
    }
   ],
   "source": [
    "predict_test50_multiclass"
   ]
  },
  {
   "cell_type": "code",
   "execution_count": 72,
   "id": "947cff00",
   "metadata": {},
   "outputs": [
    {
     "data": {
      "text/plain": [
       "array(['Benign', 'Benign', 'Benign', ..., 'Benign', 'Benign', 'Benign'],\n",
       "      dtype=object)"
      ]
     },
     "execution_count": 72,
     "metadata": {},
     "output_type": "execute_result"
    }
   ],
   "source": [
    "y_test50_multiclass"
   ]
  },
  {
   "cell_type": "code",
   "execution_count": 73,
   "id": "6846f901",
   "metadata": {},
   "outputs": [
    {
     "data": {
      "text/plain": [
       "0.8056255895585732"
      ]
     },
     "execution_count": 73,
     "metadata": {},
     "output_type": "execute_result"
    }
   ],
   "source": [
    "accuracy_score(y_test50_multiclass, predict_test50_multiclass)"
   ]
  },
  {
   "cell_type": "markdown",
   "id": "1779a29a",
   "metadata": {},
   "source": [
    "### Precision e Recall do test50"
   ]
  },
  {
   "cell_type": "code",
   "execution_count": 74,
   "id": "53f198b5",
   "metadata": {
    "scrolled": true
   },
   "outputs": [
    {
     "name": "stdout",
     "output_type": "stream",
     "text": [
      "              precision    recall  f1-score   support\n",
      "\n",
      "           0   0.977292  0.788762  0.872964   1109380\n",
      "           1   0.374500  0.873430  0.524227    160638\n",
      "\n",
      "    accuracy                       0.799471   1270018\n",
      "   macro avg   0.675896  0.831096  0.698596   1270018\n",
      "weighted avg   0.901048  0.799471  0.828854   1270018\n",
      "\n"
     ]
    }
   ],
   "source": [
    "print(classification_report(y_test50_binary, predict_test50_binary, digits=6, zero_division=1))"
   ]
  },
  {
   "cell_type": "code",
   "execution_count": 75,
   "id": "2b76b89a",
   "metadata": {},
   "outputs": [
    {
     "name": "stdout",
     "output_type": "stream",
     "text": [
      "                precision    recall  f1-score   support\n",
      "\n",
      "      Analysis   0.010025  0.002990  0.004606      1338\n",
      "      Backdoor   0.001709  0.000859  0.001144      1164\n",
      "        Benign   0.975846  0.815352  0.888409   1109380\n",
      "           DoS   0.239538  0.623777  0.346150      8176\n",
      "      Exploits   0.050269  0.142036  0.074257     22262\n",
      "       Fuzzers   0.041222  0.226182  0.069735     12123\n",
      "       Generic   0.933639  0.976508  0.954593    107740\n",
      "Reconnaissance   0.455756  0.332904  0.384762      6993\n",
      "     Shellcode   0.001060  0.103311  0.002099       755\n",
      "         Worms   0.000000  0.000000  0.000000        87\n",
      "\n",
      "      accuracy                       0.805626   1270018\n",
      "     macro avg   0.270906  0.322392  0.272575   1270018\n",
      "  weighted avg   0.936959  0.805626  0.863341   1270018\n",
      "\n"
     ]
    }
   ],
   "source": [
    "print(classification_report(y_test50_multiclass, predict_test50_multiclass, digits=6, zero_division=1))"
   ]
  },
  {
   "cell_type": "markdown",
   "id": "8298ab40",
   "metadata": {},
   "source": [
    "### Matriz de Confusão do test50"
   ]
  },
  {
   "cell_type": "code",
   "execution_count": 76,
   "id": "da968c72",
   "metadata": {},
   "outputs": [
    {
     "data": {
      "image/png": "[encoded data removed]",
      "text/plain": [
       "<Figure size 432x288 with 2 Axes>"
      ]
     },
     "metadata": {
      "needs_background": "light"
     },
     "output_type": "display_data"
    }
   ],
   "source": [
    "ConfusionMatrixDisplay.from_estimator(knn_train50_binary, X_test50, y_test50_binary)\n",
    "plt.show()"
   ]
  },
  {
   "cell_type": "code",
   "execution_count": 77,
   "id": "9635949a",
   "metadata": {},
   "outputs": [
    {
     "data": {
      "text/plain": [
       "<sklearn.metrics._plot.confusion_matrix.ConfusionMatrixDisplay at 0x7ff78f2ad220>"
      ]
     },
     "execution_count": 77,
     "metadata": {},
     "output_type": "execute_result"
    },
    {
     "data": {
      "image/png": "[encoded data removed]",
      "text/plain": [
       "<Figure size 432x288 with 2 Axes>"
      ]
     },
     "metadata": {
      "needs_background": "light"
     },
     "output_type": "display_data"
    },
    {
     "data": {
      "image/png": "[encoded data removed]",
      "text/plain": [
       "<Figure size 1080x1080 with 2 Axes>"
      ]
     },
     "metadata": {
      "needs_background": "light"
     },
     "output_type": "display_data"
    }
   ],
   "source": [
    "#ConfusionMatrixDisplay.from_estimator(xgb_train50_multiclass, X_test50, y_test50_multiclass)\n",
    "#plt.show()\n",
    "\n",
    "cm_knn_multiclass_train = ConfusionMatrixDisplay.from_estimator(knn_train50_multiclass, X_test50, y_test50_multiclass)\n",
    "fig, ax = plt.subplots(figsize=(15,15))\n",
    "cm_knn_multiclass_train.plot(ax=ax)"
   ]
  }
 ],
 "metadata": {
  "kernelspec": {
   "display_name": "Python 3 (ipykernel)",
   "language": "python",
   "name": "python3"
  },
  "language_info": {
   "codemirror_mode": {
    "name": "ipython",
    "version": 3
   },
   "file_extension": ".py",
   "mimetype": "text/x-python",
   "name": "python",
   "nbconvert_exporter": "python",
   "pygments_lexer": "ipython3",
   "version": "3.8.10"
  }
 },
 "nbformat": 4,
 "nbformat_minor": 5
}
