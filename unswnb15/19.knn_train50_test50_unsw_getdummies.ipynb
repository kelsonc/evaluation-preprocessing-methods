{
 "cells": [
  {
   "cell_type": "code",
   "execution_count": 4,
   "id": "a2d43fbb",
   "metadata": {},
   "outputs": [],
   "source": [
    "import pandas as pd\n",
    "import numpy as np\n",
    "import seaborn as sns\n",
    "import matplotlib.pyplot as plt\n",
    "from sklearn.metrics import accuracy_score, classification_report, ConfusionMatrixDisplay\n",
    "from sklearn.model_selection import cross_val_score, KFold"
   ]
  },
  {
   "cell_type": "markdown",
   "id": "d95361a0",
   "metadata": {},
   "source": [
    "# Carregando as variáveis train e validation do dataset UNSW Train50"
   ]
  },
  {
   "cell_type": "code",
   "execution_count": 5,
   "id": "01ab4926",
   "metadata": {},
   "outputs": [],
   "source": [
    "import pickle"
   ]
  },
  {
   "cell_type": "code",
   "execution_count": 6,
   "id": "6a179f41",
   "metadata": {},
   "outputs": [],
   "source": [
    "with open('df_unsw_train50_no_preprocessing_getdummies', mode = 'rb') as f:\n",
    "    X_train50_train, X_train50_test, y_train50_multiclass_train, y_train50_multiclass_test, y_train50_binary_train, y_train50_binary_test = pickle.load(f)"
   ]
  },
  {
   "cell_type": "code",
   "execution_count": 7,
   "id": "21ca93aa",
   "metadata": {},
   "outputs": [
    {
     "name": "stdout",
     "output_type": "stream",
     "text": [
      "X treino =  (888903, 299)\n",
      "X teste =  (380959, 299)\n",
      "y multiclasse treino =  (888903,)\n",
      "y multiclasse teste =  (380959,)\n",
      "y binário treino =  (888903,)\n",
      "y binário teste =  (380959,)\n"
     ]
    }
   ],
   "source": [
    "print('X treino = ', X_train50_train.shape)\n",
    "print('X teste = ', X_train50_test.shape)\n",
    "print('y multiclasse treino = ', y_train50_multiclass_train.shape)\n",
    "print('y multiclasse teste = ', y_train50_multiclass_test.shape)\n",
    "print('y binário treino = ', y_train50_binary_train.shape)\n",
    "print('y binário teste = ', y_train50_binary_test.shape)"
   ]
  },
  {
   "cell_type": "code",
   "execution_count": 8,
   "id": "da0d4806",
   "metadata": {},
   "outputs": [
    {
     "data": {
      "text/plain": [
       "0    776326\n",
       "1    112577\n",
       "Name: Label_binary, dtype: int64"
      ]
     },
     "execution_count": 8,
     "metadata": {},
     "output_type": "execute_result"
    }
   ],
   "source": [
    "y_train50_binary_train.value_counts()"
   ]
  },
  {
   "cell_type": "code",
   "execution_count": 9,
   "id": "b9ab9f4a",
   "metadata": {},
   "outputs": [
    {
     "data": {
      "text/plain": [
       "Benign            776326\n",
       "Generic            75464\n",
       "Exploits           15635\n",
       "Fuzzers             8530\n",
       "DoS                 5655\n",
       "Reconnaissance      4899\n",
       "Analysis             931\n",
       "Backdoor             832\n",
       "Shellcode            576\n",
       "Worms                 55\n",
       "Name: Label_multiclass, dtype: int64"
      ]
     },
     "execution_count": 9,
     "metadata": {},
     "output_type": "execute_result"
    }
   ],
   "source": [
    "y_train50_multiclass_train.value_counts()"
   ]
  },
  {
   "cell_type": "code",
   "execution_count": 10,
   "id": "5766c937",
   "metadata": {},
   "outputs": [
    {
     "data": {
      "text/plain": [
       "0    332900\n",
       "1     48059\n",
       "Name: Label_binary, dtype: int64"
      ]
     },
     "execution_count": 10,
     "metadata": {},
     "output_type": "execute_result"
    }
   ],
   "source": [
    "y_train50_binary_test.value_counts()"
   ]
  },
  {
   "cell_type": "code",
   "execution_count": 11,
   "id": "9237bf90",
   "metadata": {},
   "outputs": [
    {
     "data": {
      "text/plain": [
       "Benign            332900\n",
       "Generic            32276\n",
       "Exploits            6627\n",
       "Fuzzers             3592\n",
       "DoS                 2521\n",
       "Reconnaissance      2094\n",
       "Analysis             407\n",
       "Backdoor             332\n",
       "Shellcode            179\n",
       "Worms                 31\n",
       "Name: Label_multiclass, dtype: int64"
      ]
     },
     "execution_count": 11,
     "metadata": {},
     "output_type": "execute_result"
    }
   ],
   "source": [
    "y_train50_multiclass_test.value_counts()"
   ]
  },
  {
   "cell_type": "code",
   "execution_count": 12,
   "id": "2e6c14af",
   "metadata": {},
   "outputs": [
    {
     "data": {
      "text/html": [
       "<div>\n",
       "<style scoped>\n",
       "    .dataframe tbody tr th:only-of-type {\n",
       "        vertical-align: middle;\n",
       "    }\n",
       "\n",
       "    .dataframe tbody tr th {\n",
       "        vertical-align: top;\n",
       "    }\n",
       "\n",
       "    .dataframe thead th {\n",
       "        text-align: right;\n",
       "    }\n",
       "</style>\n",
       "<table border=\"1\" class=\"dataframe\">\n",
       "  <thead>\n",
       "    <tr style=\"text-align: right;\">\n",
       "      <th></th>\n",
       "      <th>dur</th>\n",
       "      <th>sbytes</th>\n",
       "      <th>dbytes</th>\n",
       "      <th>sttl</th>\n",
       "      <th>dttl</th>\n",
       "      <th>sloss</th>\n",
       "      <th>dloss</th>\n",
       "      <th>Sload</th>\n",
       "      <th>Dload</th>\n",
       "      <th>Spkts</th>\n",
       "      <th>...</th>\n",
       "      <th>service_ftp-data</th>\n",
       "      <th>service_http</th>\n",
       "      <th>service_irc</th>\n",
       "      <th>service_others</th>\n",
       "      <th>service_pop3</th>\n",
       "      <th>service_radius</th>\n",
       "      <th>service_smtp</th>\n",
       "      <th>service_snmp</th>\n",
       "      <th>service_ssh</th>\n",
       "      <th>service_ssl</th>\n",
       "    </tr>\n",
       "  </thead>\n",
       "  <tbody>\n",
       "    <tr>\n",
       "      <th>152963</th>\n",
       "      <td>0.000007</td>\n",
       "      <td>104</td>\n",
       "      <td>0</td>\n",
       "      <td>254</td>\n",
       "      <td>0</td>\n",
       "      <td>0</td>\n",
       "      <td>0</td>\n",
       "      <td>5.942857e+07</td>\n",
       "      <td>0.000000e+00</td>\n",
       "      <td>2</td>\n",
       "      <td>...</td>\n",
       "      <td>0</td>\n",
       "      <td>0</td>\n",
       "      <td>0</td>\n",
       "      <td>1</td>\n",
       "      <td>0</td>\n",
       "      <td>0</td>\n",
       "      <td>0</td>\n",
       "      <td>0</td>\n",
       "      <td>0</td>\n",
       "      <td>0</td>\n",
       "    </tr>\n",
       "    <tr>\n",
       "      <th>627588</th>\n",
       "      <td>0.013839</td>\n",
       "      <td>2230</td>\n",
       "      <td>13358</td>\n",
       "      <td>31</td>\n",
       "      <td>29</td>\n",
       "      <td>7</td>\n",
       "      <td>11</td>\n",
       "      <td>1.251536e+06</td>\n",
       "      <td>7.507479e+06</td>\n",
       "      <td>34</td>\n",
       "      <td>...</td>\n",
       "      <td>0</td>\n",
       "      <td>0</td>\n",
       "      <td>0</td>\n",
       "      <td>1</td>\n",
       "      <td>0</td>\n",
       "      <td>0</td>\n",
       "      <td>0</td>\n",
       "      <td>0</td>\n",
       "      <td>0</td>\n",
       "      <td>0</td>\n",
       "    </tr>\n",
       "    <tr>\n",
       "      <th>37398</th>\n",
       "      <td>8.233840</td>\n",
       "      <td>25576</td>\n",
       "      <td>1094788</td>\n",
       "      <td>31</td>\n",
       "      <td>29</td>\n",
       "      <td>38</td>\n",
       "      <td>390</td>\n",
       "      <td>2.479523e+04</td>\n",
       "      <td>1.062457e+06</td>\n",
       "      <td>456</td>\n",
       "      <td>...</td>\n",
       "      <td>0</td>\n",
       "      <td>0</td>\n",
       "      <td>0</td>\n",
       "      <td>1</td>\n",
       "      <td>0</td>\n",
       "      <td>0</td>\n",
       "      <td>0</td>\n",
       "      <td>0</td>\n",
       "      <td>0</td>\n",
       "      <td>0</td>\n",
       "    </tr>\n",
       "    <tr>\n",
       "      <th>486419</th>\n",
       "      <td>0.000004</td>\n",
       "      <td>200</td>\n",
       "      <td>0</td>\n",
       "      <td>254</td>\n",
       "      <td>0</td>\n",
       "      <td>0</td>\n",
       "      <td>0</td>\n",
       "      <td>2.000000e+08</td>\n",
       "      <td>0.000000e+00</td>\n",
       "      <td>2</td>\n",
       "      <td>...</td>\n",
       "      <td>0</td>\n",
       "      <td>0</td>\n",
       "      <td>0</td>\n",
       "      <td>1</td>\n",
       "      <td>0</td>\n",
       "      <td>0</td>\n",
       "      <td>0</td>\n",
       "      <td>0</td>\n",
       "      <td>0</td>\n",
       "      <td>0</td>\n",
       "    </tr>\n",
       "    <tr>\n",
       "      <th>1203796</th>\n",
       "      <td>0.016772</td>\n",
       "      <td>2974</td>\n",
       "      <td>33122</td>\n",
       "      <td>31</td>\n",
       "      <td>29</td>\n",
       "      <td>7</td>\n",
       "      <td>18</td>\n",
       "      <td>1.389459e+09</td>\n",
       "      <td>1.548295e+07</td>\n",
       "      <td>48</td>\n",
       "      <td>...</td>\n",
       "      <td>0</td>\n",
       "      <td>0</td>\n",
       "      <td>0</td>\n",
       "      <td>1</td>\n",
       "      <td>0</td>\n",
       "      <td>0</td>\n",
       "      <td>0</td>\n",
       "      <td>0</td>\n",
       "      <td>0</td>\n",
       "      <td>0</td>\n",
       "    </tr>\n",
       "  </tbody>\n",
       "</table>\n",
       "<p>5 rows × 299 columns</p>\n",
       "</div>"
      ],
      "text/plain": [
       "              dur  sbytes   dbytes  sttl  dttl  sloss  dloss         Sload  \\\n",
       "152963   0.000007     104        0   254     0      0      0  5.942857e+07   \n",
       "627588   0.013839    2230    13358    31    29      7     11  1.251536e+06   \n",
       "37398    8.233840   25576  1094788    31    29     38    390  2.479523e+04   \n",
       "486419   0.000004     200        0   254     0      0      0  2.000000e+08   \n",
       "1203796  0.016772    2974    33122    31    29      7     18  1.389459e+09   \n",
       "\n",
       "                Dload  Spkts  ...  service_ftp-data  service_http  \\\n",
       "152963   0.000000e+00      2  ...                 0             0   \n",
       "627588   7.507479e+06     34  ...                 0             0   \n",
       "37398    1.062457e+06    456  ...                 0             0   \n",
       "486419   0.000000e+00      2  ...                 0             0   \n",
       "1203796  1.548295e+07     48  ...                 0             0   \n",
       "\n",
       "         service_irc  service_others  service_pop3  service_radius  \\\n",
       "152963             0               1             0               0   \n",
       "627588             0               1             0               0   \n",
       "37398              0               1             0               0   \n",
       "486419             0               1             0               0   \n",
       "1203796            0               1             0               0   \n",
       "\n",
       "         service_smtp  service_snmp  service_ssh  service_ssl  \n",
       "152963              0             0            0            0  \n",
       "627588              0             0            0            0  \n",
       "37398               0             0            0            0  \n",
       "486419              0             0            0            0  \n",
       "1203796             0             0            0            0  \n",
       "\n",
       "[5 rows x 299 columns]"
      ]
     },
     "execution_count": 12,
     "metadata": {},
     "output_type": "execute_result"
    }
   ],
   "source": [
    "X_train50_train.head()"
   ]
  },
  {
   "cell_type": "code",
   "execution_count": 13,
   "id": "423e1a9b",
   "metadata": {},
   "outputs": [
    {
     "name": "stdout",
     "output_type": "stream",
     "text": [
      "['Benign' 'Exploits' 'DoS' 'Generic' 'Reconnaissance' 'Fuzzers' 'Analysis'\n",
      " 'Shellcode' 'Backdoor' 'Worms']\n",
      "[0 1]\n"
     ]
    }
   ],
   "source": [
    "print(y_train50_multiclass_train.unique())\n",
    "print(y_train50_binary_train.unique())"
   ]
  },
  {
   "cell_type": "code",
   "execution_count": 14,
   "id": "3259d635",
   "metadata": {},
   "outputs": [
    {
     "name": "stdout",
     "output_type": "stream",
     "text": [
      "<class 'pandas.core.frame.DataFrame'>\n",
      "<class 'pandas.core.series.Series'>\n",
      "<class 'pandas.core.series.Series'>\n",
      "<class 'pandas.core.frame.DataFrame'>\n",
      "<class 'pandas.core.series.Series'>\n",
      "<class 'pandas.core.series.Series'>\n"
     ]
    }
   ],
   "source": [
    "print(type(X_train50_train))\n",
    "print(type(y_train50_multiclass_train))\n",
    "print(type(y_train50_binary_train))\n",
    "print(type(X_train50_test))\n",
    "print(type(y_train50_multiclass_test))\n",
    "print(type(y_train50_binary_test))"
   ]
  },
  {
   "cell_type": "code",
   "execution_count": 15,
   "id": "e31f49a4-c474-40d6-aa04-a5c6eed4a00f",
   "metadata": {},
   "outputs": [],
   "source": [
    "X_train50_train = X_train50_train.to_numpy()\n",
    "y_train50_multiclass_train = y_train50_multiclass_train.to_numpy()\n",
    "y_train50_binary_train = y_train50_binary_train.to_numpy()\n",
    "X_train50_test = X_train50_test.to_numpy()\n",
    "y_train50_multiclass_test = y_train50_multiclass_test.to_numpy()\n",
    "y_train50_binary_test = y_train50_binary_test.to_numpy()"
   ]
  },
  {
   "cell_type": "code",
   "execution_count": 16,
   "id": "6dece9a0-dc26-4930-9411-8e1216d569a6",
   "metadata": {},
   "outputs": [
    {
     "name": "stdout",
     "output_type": "stream",
     "text": [
      "<class 'numpy.ndarray'>\n",
      "<class 'numpy.ndarray'>\n",
      "<class 'numpy.ndarray'>\n",
      "<class 'numpy.ndarray'>\n",
      "<class 'numpy.ndarray'>\n",
      "<class 'numpy.ndarray'>\n"
     ]
    }
   ],
   "source": [
    "print(type(X_train50_train))\n",
    "print(type(y_train50_multiclass_train))\n",
    "print(type(y_train50_binary_train))\n",
    "print(type(X_train50_test))\n",
    "print(type(y_train50_multiclass_test))\n",
    "print(type(y_train50_binary_test))"
   ]
  },
  {
   "cell_type": "markdown",
   "id": "8c0fbe55",
   "metadata": {},
   "source": [
    "# Carregando as variáveis do dataset UNSW Test50"
   ]
  },
  {
   "cell_type": "code",
   "execution_count": 17,
   "id": "123e9f08",
   "metadata": {},
   "outputs": [],
   "source": [
    "with open('df_unsw_test50_no_preprocessing_getdummies', mode = 'rb') as f:\n",
    "    X_test50, y_test50_multiclass, y_test50_binary = pickle.load(f)"
   ]
  },
  {
   "cell_type": "code",
   "execution_count": 18,
   "id": "79f262f0",
   "metadata": {},
   "outputs": [
    {
     "name": "stdout",
     "output_type": "stream",
     "text": [
      "X =  (1269864, 299)\n",
      "y multiclasse =  (1269864,)\n",
      "y binário =  (1269864,)\n"
     ]
    }
   ],
   "source": [
    "print('X = ', X_test50.shape)\n",
    "print('y multiclasse = ', y_test50_multiclass.shape)\n",
    "print('y binário = ', y_test50_binary.shape)"
   ]
  },
  {
   "cell_type": "code",
   "execution_count": 19,
   "id": "b37f9c2f",
   "metadata": {},
   "outputs": [
    {
     "data": {
      "text/plain": [
       "Benign            1109226\n",
       "Generic            107740\n",
       "Exploits            22262\n",
       "Fuzzers             12123\n",
       "DoS                  8176\n",
       "Reconnaissance       6993\n",
       "Analysis             1338\n",
       "Backdoor             1164\n",
       "Shellcode             755\n",
       "Worms                  87\n",
       "Name: Label_multiclass, dtype: int64"
      ]
     },
     "execution_count": 19,
     "metadata": {},
     "output_type": "execute_result"
    }
   ],
   "source": [
    "y_test50_multiclass.value_counts()"
   ]
  },
  {
   "cell_type": "code",
   "execution_count": 20,
   "id": "a71bff6d",
   "metadata": {},
   "outputs": [
    {
     "data": {
      "text/plain": [
       "0    1109226\n",
       "1     160638\n",
       "Name: Label_binary, dtype: int64"
      ]
     },
     "execution_count": 20,
     "metadata": {},
     "output_type": "execute_result"
    }
   ],
   "source": [
    "y_test50_binary.value_counts()"
   ]
  },
  {
   "cell_type": "code",
   "execution_count": 21,
   "id": "3e8577a6",
   "metadata": {},
   "outputs": [
    {
     "data": {
      "text/html": [
       "<div>\n",
       "<style scoped>\n",
       "    .dataframe tbody tr th:only-of-type {\n",
       "        vertical-align: middle;\n",
       "    }\n",
       "\n",
       "    .dataframe tbody tr th {\n",
       "        vertical-align: top;\n",
       "    }\n",
       "\n",
       "    .dataframe thead th {\n",
       "        text-align: right;\n",
       "    }\n",
       "</style>\n",
       "<table border=\"1\" class=\"dataframe\">\n",
       "  <thead>\n",
       "    <tr style=\"text-align: right;\">\n",
       "      <th></th>\n",
       "      <th>dur</th>\n",
       "      <th>sbytes</th>\n",
       "      <th>dbytes</th>\n",
       "      <th>sttl</th>\n",
       "      <th>dttl</th>\n",
       "      <th>sloss</th>\n",
       "      <th>dloss</th>\n",
       "      <th>Sload</th>\n",
       "      <th>Dload</th>\n",
       "      <th>Spkts</th>\n",
       "      <th>...</th>\n",
       "      <th>service_ftp-data</th>\n",
       "      <th>service_http</th>\n",
       "      <th>service_irc</th>\n",
       "      <th>service_others</th>\n",
       "      <th>service_pop3</th>\n",
       "      <th>service_radius</th>\n",
       "      <th>service_smtp</th>\n",
       "      <th>service_snmp</th>\n",
       "      <th>service_ssh</th>\n",
       "      <th>service_ssl</th>\n",
       "    </tr>\n",
       "  </thead>\n",
       "  <tbody>\n",
       "    <tr>\n",
       "      <th>0</th>\n",
       "      <td>0.022495</td>\n",
       "      <td>2934</td>\n",
       "      <td>3742</td>\n",
       "      <td>31</td>\n",
       "      <td>29</td>\n",
       "      <td>11</td>\n",
       "      <td>15</td>\n",
       "      <td>1.023516e+06</td>\n",
       "      <td>1.306246e+06</td>\n",
       "      <td>52</td>\n",
       "      <td>...</td>\n",
       "      <td>0</td>\n",
       "      <td>0</td>\n",
       "      <td>0</td>\n",
       "      <td>0</td>\n",
       "      <td>0</td>\n",
       "      <td>0</td>\n",
       "      <td>0</td>\n",
       "      <td>0</td>\n",
       "      <td>0</td>\n",
       "      <td>0</td>\n",
       "    </tr>\n",
       "    <tr>\n",
       "      <th>1</th>\n",
       "      <td>0.001105</td>\n",
       "      <td>146</td>\n",
       "      <td>178</td>\n",
       "      <td>31</td>\n",
       "      <td>29</td>\n",
       "      <td>0</td>\n",
       "      <td>0</td>\n",
       "      <td>5.285068e+05</td>\n",
       "      <td>6.443439e+05</td>\n",
       "      <td>2</td>\n",
       "      <td>...</td>\n",
       "      <td>0</td>\n",
       "      <td>0</td>\n",
       "      <td>0</td>\n",
       "      <td>0</td>\n",
       "      <td>0</td>\n",
       "      <td>0</td>\n",
       "      <td>0</td>\n",
       "      <td>0</td>\n",
       "      <td>0</td>\n",
       "      <td>0</td>\n",
       "    </tr>\n",
       "    <tr>\n",
       "      <th>2</th>\n",
       "      <td>0.573081</td>\n",
       "      <td>824</td>\n",
       "      <td>1298</td>\n",
       "      <td>62</td>\n",
       "      <td>252</td>\n",
       "      <td>2</td>\n",
       "      <td>2</td>\n",
       "      <td>1.035805e+04</td>\n",
       "      <td>1.585814e+04</td>\n",
       "      <td>10</td>\n",
       "      <td>...</td>\n",
       "      <td>0</td>\n",
       "      <td>1</td>\n",
       "      <td>0</td>\n",
       "      <td>0</td>\n",
       "      <td>0</td>\n",
       "      <td>0</td>\n",
       "      <td>0</td>\n",
       "      <td>0</td>\n",
       "      <td>0</td>\n",
       "      <td>0</td>\n",
       "    </tr>\n",
       "    <tr>\n",
       "      <th>3</th>\n",
       "      <td>0.001063</td>\n",
       "      <td>146</td>\n",
       "      <td>178</td>\n",
       "      <td>31</td>\n",
       "      <td>29</td>\n",
       "      <td>0</td>\n",
       "      <td>0</td>\n",
       "      <td>5.493886e+05</td>\n",
       "      <td>6.698025e+05</td>\n",
       "      <td>2</td>\n",
       "      <td>...</td>\n",
       "      <td>0</td>\n",
       "      <td>0</td>\n",
       "      <td>0</td>\n",
       "      <td>0</td>\n",
       "      <td>0</td>\n",
       "      <td>0</td>\n",
       "      <td>0</td>\n",
       "      <td>0</td>\n",
       "      <td>0</td>\n",
       "      <td>0</td>\n",
       "    </tr>\n",
       "    <tr>\n",
       "      <th>4</th>\n",
       "      <td>0.001016</td>\n",
       "      <td>146</td>\n",
       "      <td>178</td>\n",
       "      <td>31</td>\n",
       "      <td>29</td>\n",
       "      <td>0</td>\n",
       "      <td>0</td>\n",
       "      <td>5.748031e+05</td>\n",
       "      <td>7.007874e+05</td>\n",
       "      <td>2</td>\n",
       "      <td>...</td>\n",
       "      <td>0</td>\n",
       "      <td>0</td>\n",
       "      <td>0</td>\n",
       "      <td>0</td>\n",
       "      <td>0</td>\n",
       "      <td>0</td>\n",
       "      <td>0</td>\n",
       "      <td>0</td>\n",
       "      <td>0</td>\n",
       "      <td>0</td>\n",
       "    </tr>\n",
       "  </tbody>\n",
       "</table>\n",
       "<p>5 rows × 299 columns</p>\n",
       "</div>"
      ],
      "text/plain": [
       "        dur  sbytes  dbytes  sttl  dttl  sloss  dloss         Sload  \\\n",
       "0  0.022495    2934    3742    31    29     11     15  1.023516e+06   \n",
       "1  0.001105     146     178    31    29      0      0  5.285068e+05   \n",
       "2  0.573081     824    1298    62   252      2      2  1.035805e+04   \n",
       "3  0.001063     146     178    31    29      0      0  5.493886e+05   \n",
       "4  0.001016     146     178    31    29      0      0  5.748031e+05   \n",
       "\n",
       "          Dload  Spkts  ...  service_ftp-data  service_http  service_irc  \\\n",
       "0  1.306246e+06     52  ...                 0             0            0   \n",
       "1  6.443439e+05      2  ...                 0             0            0   \n",
       "2  1.585814e+04     10  ...                 0             1            0   \n",
       "3  6.698025e+05      2  ...                 0             0            0   \n",
       "4  7.007874e+05      2  ...                 0             0            0   \n",
       "\n",
       "   service_others  service_pop3  service_radius  service_smtp  service_snmp  \\\n",
       "0               0             0               0             0             0   \n",
       "1               0             0               0             0             0   \n",
       "2               0             0               0             0             0   \n",
       "3               0             0               0             0             0   \n",
       "4               0             0               0             0             0   \n",
       "\n",
       "   service_ssh  service_ssl  \n",
       "0            0            0  \n",
       "1            0            0  \n",
       "2            0            0  \n",
       "3            0            0  \n",
       "4            0            0  \n",
       "\n",
       "[5 rows x 299 columns]"
      ]
     },
     "execution_count": 21,
     "metadata": {},
     "output_type": "execute_result"
    }
   ],
   "source": [
    "X_test50.head()"
   ]
  },
  {
   "cell_type": "code",
   "execution_count": 22,
   "id": "26b4a879",
   "metadata": {},
   "outputs": [
    {
     "name": "stdout",
     "output_type": "stream",
     "text": [
      "['Benign' 'Generic' 'Backdoor' 'Analysis' 'DoS' 'Exploits'\n",
      " 'Reconnaissance' 'Fuzzers' 'Worms' 'Shellcode']\n",
      "[0 1]\n"
     ]
    }
   ],
   "source": [
    "print(y_test50_multiclass.unique())\n",
    "print(y_test50_binary.unique())"
   ]
  },
  {
   "cell_type": "code",
   "execution_count": 23,
   "id": "7798f536",
   "metadata": {},
   "outputs": [],
   "source": [
    "#X_test50.shape"
   ]
  },
  {
   "cell_type": "code",
   "execution_count": 24,
   "id": "8ab3c404",
   "metadata": {},
   "outputs": [],
   "source": [
    "# verifica detalhes das variáveis\n",
    "# variáveis nominais: #proto #state #service #ct_ftp_cmd\n",
    "#df_unsw_full.shape\n",
    "#df_unsw_full.describe()\n",
    "#df_unsw_full.dtypes\n",
    "#y_test50_multiclass.value_counts()\n",
    "#np.unique(df_unsw_full['sport'])\n",
    "#len(np.unique(df_unsw_full.ct_ftp_cmd))"
   ]
  },
  {
   "cell_type": "code",
   "execution_count": 25,
   "id": "6bd3afbf",
   "metadata": {},
   "outputs": [
    {
     "name": "stdout",
     "output_type": "stream",
     "text": [
      "<class 'pandas.core.frame.DataFrame'>\n",
      "<class 'pandas.core.series.Series'>\n",
      "<class 'pandas.core.series.Series'>\n"
     ]
    }
   ],
   "source": [
    "print(type(X_test50))\n",
    "print(type(y_test50_multiclass))\n",
    "print(type(y_test50_binary))"
   ]
  },
  {
   "cell_type": "code",
   "execution_count": 26,
   "id": "e8f0eaee-61a6-460c-8332-1ccf37ed7dc0",
   "metadata": {},
   "outputs": [],
   "source": [
    "X_test50 = X_test50.to_numpy()\n",
    "y_test50_multiclass = y_test50_multiclass.to_numpy()\n",
    "y_test50_binary = y_test50_binary.to_numpy()"
   ]
  },
  {
   "cell_type": "code",
   "execution_count": 27,
   "id": "52c5190f-0219-4835-909e-82f3edefc957",
   "metadata": {},
   "outputs": [
    {
     "name": "stdout",
     "output_type": "stream",
     "text": [
      "<class 'numpy.ndarray'>\n",
      "<class 'numpy.ndarray'>\n",
      "<class 'numpy.ndarray'>\n"
     ]
    }
   ],
   "source": [
    "print(type(X_test50))\n",
    "print(type(y_test50_multiclass))\n",
    "print(type(y_test50_binary))"
   ]
  },
  {
   "cell_type": "markdown",
   "id": "cec4f107",
   "metadata": {},
   "source": [
    "# Algoritmo kNN para Train e Validation - Train50"
   ]
  },
  {
   "cell_type": "code",
   "execution_count": 28,
   "id": "2751d2da",
   "metadata": {},
   "outputs": [],
   "source": [
    "from sklearn.neighbors import KNeighborsClassifier"
   ]
  },
  {
   "cell_type": "markdown",
   "id": "44403351",
   "metadata": {},
   "source": [
    "### Predição train50 binária"
   ]
  },
  {
   "cell_type": "code",
   "execution_count": 29,
   "id": "713b0151",
   "metadata": {},
   "outputs": [],
   "source": [
    "knn_train50_binary = KNeighborsClassifier(n_neighbors=4, p=2)"
   ]
  },
  {
   "cell_type": "code",
   "execution_count": 30,
   "id": "dc9871f9",
   "metadata": {
    "scrolled": true
   },
   "outputs": [
    {
     "data": {
      "text/html": [
       "<style>#sk-container-id-1 {color: black;background-color: white;}#sk-container-id-1 pre{padding: 0;}#sk-container-id-1 div.sk-toggleable {background-color: white;}#sk-container-id-1 label.sk-toggleable__label {cursor: pointer;display: block;width: 100%;margin-bottom: 0;padding: 0.3em;box-sizing: border-box;text-align: center;}#sk-container-id-1 label.sk-toggleable__label-arrow:before {content: \"▸\";float: left;margin-right: 0.25em;color: #696969;}#sk-container-id-1 label.sk-toggleable__label-arrow:hover:before {color: black;}#sk-container-id-1 div.sk-estimator:hover label.sk-toggleable__label-arrow:before {color: black;}#sk-container-id-1 div.sk-toggleable__content {max-height: 0;max-width: 0;overflow: hidden;text-align: left;background-color: #f0f8ff;}#sk-container-id-1 div.sk-toggleable__content pre {margin: 0.2em;color: black;border-radius: 0.25em;background-color: #f0f8ff;}#sk-container-id-1 input.sk-toggleable__control:checked~div.sk-toggleable__content {max-height: 200px;max-width: 100%;overflow: auto;}#sk-container-id-1 input.sk-toggleable__control:checked~label.sk-toggleable__label-arrow:before {content: \"▾\";}#sk-container-id-1 div.sk-estimator input.sk-toggleable__control:checked~label.sk-toggleable__label {background-color: #d4ebff;}#sk-container-id-1 div.sk-label input.sk-toggleable__control:checked~label.sk-toggleable__label {background-color: #d4ebff;}#sk-container-id-1 input.sk-hidden--visually {border: 0;clip: rect(1px 1px 1px 1px);clip: rect(1px, 1px, 1px, 1px);height: 1px;margin: -1px;overflow: hidden;padding: 0;position: absolute;width: 1px;}#sk-container-id-1 div.sk-estimator {font-family: monospace;background-color: #f0f8ff;border: 1px dotted black;border-radius: 0.25em;box-sizing: border-box;margin-bottom: 0.5em;}#sk-container-id-1 div.sk-estimator:hover {background-color: #d4ebff;}#sk-container-id-1 div.sk-parallel-item::after {content: \"\";width: 100%;border-bottom: 1px solid gray;flex-grow: 1;}#sk-container-id-1 div.sk-label:hover label.sk-toggleable__label {background-color: #d4ebff;}#sk-container-id-1 div.sk-serial::before {content: \"\";position: absolute;border-left: 1px solid gray;box-sizing: border-box;top: 0;bottom: 0;left: 50%;z-index: 0;}#sk-container-id-1 div.sk-serial {display: flex;flex-direction: column;align-items: center;background-color: white;padding-right: 0.2em;padding-left: 0.2em;position: relative;}#sk-container-id-1 div.sk-item {position: relative;z-index: 1;}#sk-container-id-1 div.sk-parallel {display: flex;align-items: stretch;justify-content: center;background-color: white;position: relative;}#sk-container-id-1 div.sk-item::before, #sk-container-id-1 div.sk-parallel-item::before {content: \"\";position: absolute;border-left: 1px solid gray;box-sizing: border-box;top: 0;bottom: 0;left: 50%;z-index: -1;}#sk-container-id-1 div.sk-parallel-item {display: flex;flex-direction: column;z-index: 1;position: relative;background-color: white;}#sk-container-id-1 div.sk-parallel-item:first-child::after {align-self: flex-end;width: 50%;}#sk-container-id-1 div.sk-parallel-item:last-child::after {align-self: flex-start;width: 50%;}#sk-container-id-1 div.sk-parallel-item:only-child::after {width: 0;}#sk-container-id-1 div.sk-dashed-wrapped {border: 1px dashed gray;margin: 0 0.4em 0.5em 0.4em;box-sizing: border-box;padding-bottom: 0.4em;background-color: white;}#sk-container-id-1 div.sk-label label {font-family: monospace;font-weight: bold;display: inline-block;line-height: 1.2em;}#sk-container-id-1 div.sk-label-container {text-align: center;}#sk-container-id-1 div.sk-container {/* jupyter's `normalize.less` sets `[hidden] { display: none; }` but bootstrap.min.css set `[hidden] { display: none !important; }` so we also need the `!important` here to be able to override the default hidden behavior on the sphinx rendered scikit-learn.org. See: https://github.com/scikit-learn/scikit-learn/issues/21755 */display: inline-block !important;position: relative;}#sk-container-id-1 div.sk-text-repr-fallback {display: none;}</style><div id=\"sk-container-id-1\" class=\"sk-top-container\"><div class=\"sk-text-repr-fallback\"><pre>KNeighborsClassifier(n_neighbors=4)</pre><b>In a Jupyter environment, please rerun this cell to show the HTML representation or trust the notebook. <br />On GitHub, the HTML representation is unable to render, please try loading this page with nbviewer.org.</b></div><div class=\"sk-container\" hidden><div class=\"sk-item\"><div class=\"sk-estimator sk-toggleable\"><input class=\"sk-toggleable__control sk-hidden--visually\" id=\"sk-estimator-id-1\" type=\"checkbox\" checked><label for=\"sk-estimator-id-1\" class=\"sk-toggleable__label sk-toggleable__label-arrow\">KNeighborsClassifier</label><div class=\"sk-toggleable__content\"><pre>KNeighborsClassifier(n_neighbors=4)</pre></div></div></div></div></div>"
      ],
      "text/plain": [
       "KNeighborsClassifier(n_neighbors=4)"
      ]
     },
     "execution_count": 30,
     "metadata": {},
     "output_type": "execute_result"
    }
   ],
   "source": [
    "knn_train50_binary.fit(X_train50_train, y_train50_binary_train)"
   ]
  },
  {
   "cell_type": "code",
   "execution_count": 28,
   "id": "f1c36860",
   "metadata": {},
   "outputs": [],
   "source": [
    "predict_train50_binary = knn_train50_binary.predict(X_train50_test)"
   ]
  },
  {
   "cell_type": "code",
   "execution_count": 29,
   "id": "fb5f62ea",
   "metadata": {},
   "outputs": [
    {
     "data": {
      "text/plain": [
       "array([0, 0, 0, ..., 1, 0, 0])"
      ]
     },
     "execution_count": 29,
     "metadata": {},
     "output_type": "execute_result"
    }
   ],
   "source": [
    "predict_train50_binary"
   ]
  },
  {
   "cell_type": "code",
   "execution_count": 30,
   "id": "a5056301",
   "metadata": {},
   "outputs": [
    {
     "data": {
      "text/plain": [
       "array([1, 0, 0, ..., 1, 0, 0])"
      ]
     },
     "execution_count": 30,
     "metadata": {},
     "output_type": "execute_result"
    }
   ],
   "source": [
    "y_train50_binary_test"
   ]
  },
  {
   "cell_type": "code",
   "execution_count": 31,
   "id": "b5a418e6",
   "metadata": {},
   "outputs": [
    {
     "data": {
      "text/plain": [
       "0.9779083838418308"
      ]
     },
     "execution_count": 31,
     "metadata": {},
     "output_type": "execute_result"
    }
   ],
   "source": [
    "accuracy_score(y_train50_binary_test, predict_train50_binary)"
   ]
  },
  {
   "cell_type": "markdown",
   "id": "5897d5ae",
   "metadata": {},
   "source": [
    "### Visualização da árvore binária"
   ]
  },
  {
   "cell_type": "code",
   "execution_count": 32,
   "id": "e5884856",
   "metadata": {},
   "outputs": [],
   "source": [
    "#from sklearn import tree\n",
    "#from dtreeviz.trees import dtreeviz\n",
    "#from matplotlib import pyplot as plt\n",
    "#plt.rcParams.update({'figure.figsize': (12.0, 8.0)})\n",
    "#plt.rcParams.update({'font.size': 14})"
   ]
  },
  {
   "cell_type": "code",
   "execution_count": 33,
   "id": "e84da5e2",
   "metadata": {},
   "outputs": [],
   "source": [
    "#plt.figure(figsize=(20,10))\n",
    "#grafic = tree.plot_tree(xgb_train50_binary.estimators_[0], feature_names=X_train50_train.columns, filled=True)"
   ]
  },
  {
   "cell_type": "code",
   "execution_count": 34,
   "id": "18bfca14",
   "metadata": {},
   "outputs": [],
   "source": [
    "#viz = dtreeviz(xgb_train50_binary.estimators_[0], X_train50_train, y_train50_binary_train, feature_names=X_train50_train.columns, target_name='Label_binary')\n",
    "#viz"
   ]
  },
  {
   "cell_type": "code",
   "execution_count": 35,
   "id": "1e2d6b5a",
   "metadata": {},
   "outputs": [],
   "source": [
    "#fig, ax = plt.subplots(figsize=(20,30))\n",
    "#lgb.plot_importance(lgb_train50_binary, ax=ax)"
   ]
  },
  {
   "cell_type": "markdown",
   "id": "d4bde7aa",
   "metadata": {},
   "source": [
    "### Predição train50 multiclasse"
   ]
  },
  {
   "cell_type": "code",
   "execution_count": 31,
   "id": "e5492c95",
   "metadata": {},
   "outputs": [],
   "source": [
    "knn_train50_multiclass =  KNeighborsClassifier(n_neighbors=4, p=2)"
   ]
  },
  {
   "cell_type": "code",
   "execution_count": 32,
   "id": "627b6e2e",
   "metadata": {},
   "outputs": [
    {
     "data": {
      "text/html": [
       "<style>#sk-container-id-2 {color: black;background-color: white;}#sk-container-id-2 pre{padding: 0;}#sk-container-id-2 div.sk-toggleable {background-color: white;}#sk-container-id-2 label.sk-toggleable__label {cursor: pointer;display: block;width: 100%;margin-bottom: 0;padding: 0.3em;box-sizing: border-box;text-align: center;}#sk-container-id-2 label.sk-toggleable__label-arrow:before {content: \"▸\";float: left;margin-right: 0.25em;color: #696969;}#sk-container-id-2 label.sk-toggleable__label-arrow:hover:before {color: black;}#sk-container-id-2 div.sk-estimator:hover label.sk-toggleable__label-arrow:before {color: black;}#sk-container-id-2 div.sk-toggleable__content {max-height: 0;max-width: 0;overflow: hidden;text-align: left;background-color: #f0f8ff;}#sk-container-id-2 div.sk-toggleable__content pre {margin: 0.2em;color: black;border-radius: 0.25em;background-color: #f0f8ff;}#sk-container-id-2 input.sk-toggleable__control:checked~div.sk-toggleable__content {max-height: 200px;max-width: 100%;overflow: auto;}#sk-container-id-2 input.sk-toggleable__control:checked~label.sk-toggleable__label-arrow:before {content: \"▾\";}#sk-container-id-2 div.sk-estimator input.sk-toggleable__control:checked~label.sk-toggleable__label {background-color: #d4ebff;}#sk-container-id-2 div.sk-label input.sk-toggleable__control:checked~label.sk-toggleable__label {background-color: #d4ebff;}#sk-container-id-2 input.sk-hidden--visually {border: 0;clip: rect(1px 1px 1px 1px);clip: rect(1px, 1px, 1px, 1px);height: 1px;margin: -1px;overflow: hidden;padding: 0;position: absolute;width: 1px;}#sk-container-id-2 div.sk-estimator {font-family: monospace;background-color: #f0f8ff;border: 1px dotted black;border-radius: 0.25em;box-sizing: border-box;margin-bottom: 0.5em;}#sk-container-id-2 div.sk-estimator:hover {background-color: #d4ebff;}#sk-container-id-2 div.sk-parallel-item::after {content: \"\";width: 100%;border-bottom: 1px solid gray;flex-grow: 1;}#sk-container-id-2 div.sk-label:hover label.sk-toggleable__label {background-color: #d4ebff;}#sk-container-id-2 div.sk-serial::before {content: \"\";position: absolute;border-left: 1px solid gray;box-sizing: border-box;top: 0;bottom: 0;left: 50%;z-index: 0;}#sk-container-id-2 div.sk-serial {display: flex;flex-direction: column;align-items: center;background-color: white;padding-right: 0.2em;padding-left: 0.2em;position: relative;}#sk-container-id-2 div.sk-item {position: relative;z-index: 1;}#sk-container-id-2 div.sk-parallel {display: flex;align-items: stretch;justify-content: center;background-color: white;position: relative;}#sk-container-id-2 div.sk-item::before, #sk-container-id-2 div.sk-parallel-item::before {content: \"\";position: absolute;border-left: 1px solid gray;box-sizing: border-box;top: 0;bottom: 0;left: 50%;z-index: -1;}#sk-container-id-2 div.sk-parallel-item {display: flex;flex-direction: column;z-index: 1;position: relative;background-color: white;}#sk-container-id-2 div.sk-parallel-item:first-child::after {align-self: flex-end;width: 50%;}#sk-container-id-2 div.sk-parallel-item:last-child::after {align-self: flex-start;width: 50%;}#sk-container-id-2 div.sk-parallel-item:only-child::after {width: 0;}#sk-container-id-2 div.sk-dashed-wrapped {border: 1px dashed gray;margin: 0 0.4em 0.5em 0.4em;box-sizing: border-box;padding-bottom: 0.4em;background-color: white;}#sk-container-id-2 div.sk-label label {font-family: monospace;font-weight: bold;display: inline-block;line-height: 1.2em;}#sk-container-id-2 div.sk-label-container {text-align: center;}#sk-container-id-2 div.sk-container {/* jupyter's `normalize.less` sets `[hidden] { display: none; }` but bootstrap.min.css set `[hidden] { display: none !important; }` so we also need the `!important` here to be able to override the default hidden behavior on the sphinx rendered scikit-learn.org. See: https://github.com/scikit-learn/scikit-learn/issues/21755 */display: inline-block !important;position: relative;}#sk-container-id-2 div.sk-text-repr-fallback {display: none;}</style><div id=\"sk-container-id-2\" class=\"sk-top-container\"><div class=\"sk-text-repr-fallback\"><pre>KNeighborsClassifier(n_neighbors=4)</pre><b>In a Jupyter environment, please rerun this cell to show the HTML representation or trust the notebook. <br />On GitHub, the HTML representation is unable to render, please try loading this page with nbviewer.org.</b></div><div class=\"sk-container\" hidden><div class=\"sk-item\"><div class=\"sk-estimator sk-toggleable\"><input class=\"sk-toggleable__control sk-hidden--visually\" id=\"sk-estimator-id-2\" type=\"checkbox\" checked><label for=\"sk-estimator-id-2\" class=\"sk-toggleable__label sk-toggleable__label-arrow\">KNeighborsClassifier</label><div class=\"sk-toggleable__content\"><pre>KNeighborsClassifier(n_neighbors=4)</pre></div></div></div></div></div>"
      ],
      "text/plain": [
       "KNeighborsClassifier(n_neighbors=4)"
      ]
     },
     "execution_count": 32,
     "metadata": {},
     "output_type": "execute_result"
    }
   ],
   "source": [
    "knn_train50_multiclass.fit(X_train50_train, y_train50_multiclass_train)"
   ]
  },
  {
   "cell_type": "code",
   "execution_count": 38,
   "id": "48d25f13",
   "metadata": {},
   "outputs": [],
   "source": [
    "predict_train50_multiclass = knn_train50_multiclass.predict(X_train50_test)"
   ]
  },
  {
   "cell_type": "code",
   "execution_count": 39,
   "id": "efbfa9a7",
   "metadata": {},
   "outputs": [
    {
     "data": {
      "text/plain": [
       "array(['Benign', 'Benign', 'Benign', ..., 'DoS', 'Benign', 'Benign'],\n",
       "      dtype=object)"
      ]
     },
     "execution_count": 39,
     "metadata": {},
     "output_type": "execute_result"
    }
   ],
   "source": [
    "predict_train50_multiclass"
   ]
  },
  {
   "cell_type": "code",
   "execution_count": 40,
   "id": "4dd0609a",
   "metadata": {},
   "outputs": [
    {
     "data": {
      "text/plain": [
       "array(['Exploits', 'Benign', 'Benign', ..., 'Exploits', 'Benign',\n",
       "       'Benign'], dtype=object)"
      ]
     },
     "execution_count": 40,
     "metadata": {},
     "output_type": "execute_result"
    }
   ],
   "source": [
    "y_train50_multiclass_test"
   ]
  },
  {
   "cell_type": "code",
   "execution_count": 41,
   "id": "b2f48d7a",
   "metadata": {},
   "outputs": [
    {
     "data": {
      "text/plain": [
       "0.9631797647515874"
      ]
     },
     "execution_count": 41,
     "metadata": {},
     "output_type": "execute_result"
    }
   ],
   "source": [
    "accuracy_score(y_train50_multiclass_test, predict_train50_multiclass)"
   ]
  },
  {
   "cell_type": "markdown",
   "id": "8255b657",
   "metadata": {},
   "source": [
    "### Visualização da árvore multiclasse"
   ]
  },
  {
   "cell_type": "code",
   "execution_count": 42,
   "id": "ba2a09b7",
   "metadata": {},
   "outputs": [],
   "source": [
    "#plt.figure(figsize=(20,10))\n",
    "#grafic = tree.plot_tree(xgb_train50_multiclass.estimators_[0], feature_names=X_train50_train.columns, filled=True)"
   ]
  },
  {
   "cell_type": "code",
   "execution_count": 43,
   "id": "472266e5",
   "metadata": {},
   "outputs": [],
   "source": [
    "#viz = dtreeviz(xgb_train50_multiclass.estimators_[0], X_train50_train, y_train50_multiclass_train, feature_names=X_train50_train.columns, target_name='Label_multiclass')\n",
    "#viz"
   ]
  },
  {
   "cell_type": "code",
   "execution_count": 44,
   "id": "6a9f3d24",
   "metadata": {},
   "outputs": [],
   "source": [
    "#fig, ax = plt.subplots(figsize=(20,30))\n",
    "#lgb.plot_importance(lgb_train50_binary, ax=ax)"
   ]
  },
  {
   "cell_type": "code",
   "execution_count": 45,
   "id": "7c021c57",
   "metadata": {},
   "outputs": [],
   "source": [
    "#lgb.plot_tree(lgb_train50_binary, figsize=(20,6), tree_index=0, dpi=100)"
   ]
  },
  {
   "cell_type": "markdown",
   "id": "29959171",
   "metadata": {},
   "source": [
    "### Precision e Recall do train50"
   ]
  },
  {
   "cell_type": "code",
   "execution_count": 46,
   "id": "7807a825",
   "metadata": {
    "scrolled": true
   },
   "outputs": [
    {
     "name": "stdout",
     "output_type": "stream",
     "text": [
      "              precision    recall  f1-score   support\n",
      "\n",
      "           0   0.981467  0.993479  0.987436    332900\n",
      "           1   0.950642  0.870056  0.908565     48059\n",
      "\n",
      "    accuracy                       0.977908    380959\n",
      "   macro avg   0.966055  0.931767  0.948001    380959\n",
      "weighted avg   0.977579  0.977908  0.977487    380959\n",
      "\n"
     ]
    }
   ],
   "source": [
    "print(classification_report(y_train50_binary_test, predict_train50_binary, digits=6, zero_division=1))"
   ]
  },
  {
   "cell_type": "code",
   "execution_count": 47,
   "id": "2776113a",
   "metadata": {},
   "outputs": [
    {
     "name": "stdout",
     "output_type": "stream",
     "text": [
      "                precision    recall  f1-score   support\n",
      "\n",
      "      Analysis   0.091398  0.125307  0.105699       407\n",
      "      Backdoor   0.057018  0.039157  0.046429       332\n",
      "        Benign   0.979934  0.994770  0.987297    332900\n",
      "           DoS   0.336825  0.331614  0.334199      2521\n",
      "      Exploits   0.380804  0.294553  0.332171      6627\n",
      "       Fuzzers   0.413586  0.230512  0.296031      3592\n",
      "       Generic   0.994448  0.971155  0.982663     32276\n",
      "Reconnaissance   0.696395  0.350525  0.466328      2094\n",
      "     Shellcode   0.285714  0.078212  0.122807       179\n",
      "         Worms   1.000000  0.000000  0.000000        31\n",
      "\n",
      "      accuracy                       0.963180    380959\n",
      "     macro avg   0.523612  0.341581  0.367362    380959\n",
      "  weighted avg   0.957509  0.963180  0.959556    380959\n",
      "\n"
     ]
    }
   ],
   "source": [
    "print(classification_report(y_train50_multiclass_test, predict_train50_multiclass, digits=6, zero_division=1))"
   ]
  },
  {
   "cell_type": "markdown",
   "id": "a5d9281b",
   "metadata": {},
   "source": [
    "### Cross Validation do train50"
   ]
  },
  {
   "cell_type": "code",
   "execution_count": 33,
   "id": "410f9696",
   "metadata": {},
   "outputs": [],
   "source": [
    "# cross validation binary\n",
    "cv_result_train50_binary = []\n",
    "kfold = KFold(n_splits=10, shuffle=True, random_state=42)   \n",
    "score_cv_train50_binary = cross_val_score(knn_train50_binary, X_train50_train, y_train50_binary_train, cv=kfold)\n",
    "cv_result_train50_binary.append(score_cv_train50_binary.mean())"
   ]
  },
  {
   "cell_type": "code",
   "execution_count": 34,
   "id": "52d69849",
   "metadata": {},
   "outputs": [
    {
     "data": {
      "text/plain": [
       "array([0.97780428, 0.97750053, 0.97840051, 0.97735403, 0.97719654,\n",
       "       0.97817527, 0.97727528, 0.97791653, 0.97790528, 0.97707279])"
      ]
     },
     "execution_count": 34,
     "metadata": {},
     "output_type": "execute_result"
    }
   ],
   "source": [
    "score_cv_train50_binary"
   ]
  },
  {
   "cell_type": "code",
   "execution_count": 35,
   "id": "935293fc",
   "metadata": {},
   "outputs": [
    {
     "data": {
      "text/plain": [
       "[0.977660103830212]"
      ]
     },
     "execution_count": 35,
     "metadata": {},
     "output_type": "execute_result"
    }
   ],
   "source": [
    "cv_result_train50_binary"
   ]
  },
  {
   "cell_type": "code",
   "execution_count": 37,
   "id": "6fa4062b",
   "metadata": {},
   "outputs": [],
   "source": [
    "# cross validation multiclass\n",
    "cv_result_train50_multiclass = []\n",
    "kfold = KFold(n_splits=10, shuffle=True, random_state=42)   \n",
    "score_cv_train50_multiclass = cross_val_score(knn_train50_multiclass, X_train50_train, y_train50_multiclass_train, cv=kfold)\n",
    "cv_result_train50_multiclass.append(score_cv_train50_multiclass.mean())"
   ]
  },
  {
   "cell_type": "code",
   "execution_count": 38,
   "id": "400c5a76",
   "metadata": {},
   "outputs": [
    {
     "data": {
      "text/plain": [
       "array([0.9621784 , 0.9619534 , 0.96316837, 0.96190798, 0.96298796,\n",
       "       0.9640567 , 0.96238047, 0.96290921, 0.96319046, 0.96225672])"
      ]
     },
     "execution_count": 38,
     "metadata": {},
     "output_type": "execute_result"
    }
   ],
   "source": [
    "score_cv_train50_multiclass"
   ]
  },
  {
   "cell_type": "code",
   "execution_count": 39,
   "id": "d71e41b2",
   "metadata": {},
   "outputs": [
    {
     "data": {
      "text/plain": [
       "[0.9626989680502005]"
      ]
     },
     "execution_count": 39,
     "metadata": {},
     "output_type": "execute_result"
    }
   ],
   "source": [
    "cv_result_train50_multiclass"
   ]
  },
  {
   "cell_type": "markdown",
   "id": "af9bee6b",
   "metadata": {},
   "source": [
    "### Matriz de Confusão do train50"
   ]
  },
  {
   "cell_type": "code",
   "execution_count": 40,
   "id": "8b73140a",
   "metadata": {},
   "outputs": [
    {
     "data": {
      "image/png": "[encoded data removed]",
      "text/plain": [
       "<Figure size 432x288 with 2 Axes>"
      ]
     },
     "metadata": {
      "needs_background": "light"
     },
     "output_type": "display_data"
    }
   ],
   "source": [
    "ConfusionMatrixDisplay.from_estimator(knn_train50_binary, X_train50_test, y_train50_binary_test)\n",
    "plt.show()"
   ]
  },
  {
   "cell_type": "code",
   "execution_count": 41,
   "id": "d29aaf69",
   "metadata": {},
   "outputs": [
    {
     "data": {
      "text/plain": [
       "<sklearn.metrics._plot.confusion_matrix.ConfusionMatrixDisplay at 0x7ff3ab476c40>"
      ]
     },
     "execution_count": 41,
     "metadata": {},
     "output_type": "execute_result"
    },
    {
     "data": {
      "image/png": "[encoded data removed]",
      "text/plain": [
       "<Figure size 432x288 with 2 Axes>"
      ]
     },
     "metadata": {
      "needs_background": "light"
     },
     "output_type": "display_data"
    },
    {
     "data": {
      "image/png": "[encoded data removed]",
      "text/plain": [
       "<Figure size 1080x1080 with 2 Axes>"
      ]
     },
     "metadata": {
      "needs_background": "light"
     },
     "output_type": "display_data"
    }
   ],
   "source": [
    "#ConfusionMatrixDisplay.from_estimator(xgb_train50_multiclass, X_train50_test, y_train50_multiclass_test)\n",
    "#plt.show()\n",
    "\n",
    "cm_knn_multiclass_train = ConfusionMatrixDisplay.from_estimator(knn_train50_multiclass, X_train50_test, y_train50_multiclass_test)\n",
    "fig, ax = plt.subplots(figsize=(15,15))\n",
    "cm_knn_multiclass_train.plot(ax=ax)"
   ]
  },
  {
   "cell_type": "markdown",
   "id": "6e45eae7",
   "metadata": {},
   "source": [
    "# Algoritmo kNN para Test50"
   ]
  },
  {
   "cell_type": "markdown",
   "id": "cb8a0c45",
   "metadata": {},
   "source": [
    "### Predição Test50 binária"
   ]
  },
  {
   "cell_type": "code",
   "execution_count": 42,
   "id": "1f463d60",
   "metadata": {},
   "outputs": [],
   "source": [
    "predict_test50_binary = knn_train50_binary.predict(X_test50)"
   ]
  },
  {
   "cell_type": "code",
   "execution_count": 43,
   "id": "a77277a4",
   "metadata": {},
   "outputs": [
    {
     "data": {
      "text/plain": [
       "array([0, 0, 0, ..., 1, 0, 0])"
      ]
     },
     "execution_count": 43,
     "metadata": {},
     "output_type": "execute_result"
    }
   ],
   "source": [
    "predict_test50_binary"
   ]
  },
  {
   "cell_type": "code",
   "execution_count": 44,
   "id": "53f937cd",
   "metadata": {},
   "outputs": [
    {
     "data": {
      "text/plain": [
       "array([0, 0, 0, ..., 1, 0, 0])"
      ]
     },
     "execution_count": 44,
     "metadata": {},
     "output_type": "execute_result"
    }
   ],
   "source": [
    "y_test50_binary"
   ]
  },
  {
   "cell_type": "code",
   "execution_count": 45,
   "id": "879d6fab",
   "metadata": {},
   "outputs": [
    {
     "data": {
      "text/plain": [
       "0.8315244782118401"
      ]
     },
     "execution_count": 45,
     "metadata": {},
     "output_type": "execute_result"
    }
   ],
   "source": [
    "accuracy_score(y_test50_binary, predict_test50_binary)"
   ]
  },
  {
   "cell_type": "markdown",
   "id": "141ed59f",
   "metadata": {},
   "source": [
    "### Predição test50 multiclasse"
   ]
  },
  {
   "cell_type": "code",
   "execution_count": 46,
   "id": "be8e439a",
   "metadata": {},
   "outputs": [],
   "source": [
    "predict_test50_multiclass = knn_train50_multiclass.predict(X_test50)"
   ]
  },
  {
   "cell_type": "code",
   "execution_count": 47,
   "id": "66942066",
   "metadata": {},
   "outputs": [
    {
     "data": {
      "text/plain": [
       "array(['Benign', 'Benign', 'Benign', ..., 'DoS', 'Benign', 'Benign'],\n",
       "      dtype=object)"
      ]
     },
     "execution_count": 47,
     "metadata": {},
     "output_type": "execute_result"
    }
   ],
   "source": [
    "predict_test50_multiclass"
   ]
  },
  {
   "cell_type": "code",
   "execution_count": 48,
   "id": "947cff00",
   "metadata": {},
   "outputs": [
    {
     "data": {
      "text/plain": [
       "array(['Benign', 'Benign', 'Benign', ..., 'Exploits', 'Benign', 'Benign'],\n",
       "      dtype=object)"
      ]
     },
     "execution_count": 48,
     "metadata": {},
     "output_type": "execute_result"
    }
   ],
   "source": [
    "y_test50_multiclass"
   ]
  },
  {
   "cell_type": "code",
   "execution_count": 49,
   "id": "6846f901",
   "metadata": {},
   "outputs": [
    {
     "data": {
      "text/plain": [
       "0.8360533096457573"
      ]
     },
     "execution_count": 49,
     "metadata": {},
     "output_type": "execute_result"
    }
   ],
   "source": [
    "accuracy_score(y_test50_multiclass, predict_test50_multiclass)"
   ]
  },
  {
   "cell_type": "markdown",
   "id": "1779a29a",
   "metadata": {},
   "source": [
    "### Precision e Recall do test50"
   ]
  },
  {
   "cell_type": "code",
   "execution_count": 50,
   "id": "53f198b5",
   "metadata": {
    "scrolled": true
   },
   "outputs": [
    {
     "name": "stdout",
     "output_type": "stream",
     "text": [
      "              precision    recall  f1-score   support\n",
      "\n",
      "           0   0.978143  0.825574  0.895406   1109226\n",
      "           1   0.420122  0.872614  0.567176    160638\n",
      "\n",
      "    accuracy                       0.831524   1269864\n",
      "   macro avg   0.699132  0.849094  0.731291   1269864\n",
      "weighted avg   0.907553  0.831524  0.853885   1269864\n",
      "\n"
     ]
    }
   ],
   "source": [
    "print(classification_report(y_test50_binary, predict_test50_binary, digits=6, zero_division=1))"
   ]
  },
  {
   "cell_type": "code",
   "execution_count": 51,
   "id": "2b76b89a",
   "metadata": {},
   "outputs": [
    {
     "name": "stdout",
     "output_type": "stream",
     "text": [
      "                precision    recall  f1-score   support\n",
      "\n",
      "      Analysis   0.012862  0.002990  0.004851      1338\n",
      "      Backdoor   0.000000  0.000000  0.000000      1164\n",
      "        Benign   0.976707  0.850699  0.909358   1109226\n",
      "           DoS   0.210835  0.633072  0.316323      8176\n",
      "      Exploits   0.084871  0.109514  0.095630     22262\n",
      "       Fuzzers   0.041075  0.221562  0.069303     12123\n",
      "       Generic   0.640200  0.977668  0.773738    107740\n",
      "Reconnaissance   0.463231  0.334191  0.388270      6993\n",
      "     Shellcode   0.005514  0.108609  0.010496       755\n",
      "         Worms   0.000000  0.000000  0.000000        87\n",
      "\n",
      "      accuracy                       0.836053   1269864\n",
      "     macro avg   0.243530  0.323831  0.256797   1269864\n",
      "  weighted avg   0.913275  0.836053  0.866495   1269864\n",
      "\n"
     ]
    }
   ],
   "source": [
    "print(classification_report(y_test50_multiclass, predict_test50_multiclass, digits=6, zero_division=1))"
   ]
  },
  {
   "cell_type": "markdown",
   "id": "8298ab40",
   "metadata": {},
   "source": [
    "### Matriz de Confusão do test50"
   ]
  },
  {
   "cell_type": "code",
   "execution_count": 52,
   "id": "da968c72",
   "metadata": {},
   "outputs": [
    {
     "data": {
      "image/png": "[encoded data removed]",
      "text/plain": [
       "<Figure size 432x288 with 2 Axes>"
      ]
     },
     "metadata": {
      "needs_background": "light"
     },
     "output_type": "display_data"
    }
   ],
   "source": [
    "ConfusionMatrixDisplay.from_estimator(knn_train50_binary, X_test50, y_test50_binary)\n",
    "plt.show()"
   ]
  },
  {
   "cell_type": "code",
   "execution_count": 53,
   "id": "9635949a",
   "metadata": {},
   "outputs": [
    {
     "data": {
      "text/plain": [
       "<sklearn.metrics._plot.confusion_matrix.ConfusionMatrixDisplay at 0x7ff2f52abd00>"
      ]
     },
     "execution_count": 53,
     "metadata": {},
     "output_type": "execute_result"
    },
    {
     "data": {
      "image/png": "[encoded data removed]",
      "text/plain": [
       "<Figure size 432x288 with 2 Axes>"
      ]
     },
     "metadata": {
      "needs_background": "light"
     },
     "output_type": "display_data"
    },
    {
     "data": {
      "image/png": "[encoded data removed]",
      "text/plain": [
       "<Figure size 1080x1080 with 2 Axes>"
      ]
     },
     "metadata": {
      "needs_background": "light"
     },
     "output_type": "display_data"
    }
   ],
   "source": [
    "#ConfusionMatrixDisplay.from_estimator(xgb_train50_multiclass, X_test50, y_test50_multiclass)\n",
    "#plt.show()\n",
    "\n",
    "cm_knn_multiclass_train = ConfusionMatrixDisplay.from_estimator(knn_train50_multiclass, X_test50, y_test50_multiclass)\n",
    "fig, ax = plt.subplots(figsize=(15,15))\n",
    "cm_knn_multiclass_train.plot(ax=ax)"
   ]
  }
 ],
 "metadata": {
  "kernelspec": {
   "display_name": "Python 3 (ipykernel)",
   "language": "python",
   "name": "python3"
  },
  "language_info": {
   "codemirror_mode": {
    "name": "ipython",
    "version": 3
   },
   "file_extension": ".py",
   "mimetype": "text/x-python",
   "name": "python",
   "nbconvert_exporter": "python",
   "pygments_lexer": "ipython3",
   "version": "3.8.10"
  }
 },
 "nbformat": 4,
 "nbformat_minor": 5
}
